{
 "cells": [
  {
   "cell_type": "code",
   "execution_count": 1,
   "metadata": {
    "ExecuteTime": {
     "end_time": "2020-01-03T16:38:38.224276Z",
     "start_time": "2020-01-03T16:38:36.920535Z"
    }
   },
   "outputs": [],
   "source": [
    "import joblib\n",
    "import numpy as np\n",
    "import pandas as pd\n",
    "import matplotlib.pyplot as plt\n",
    "import seaborn as sns\n",
    "from tqdm.notebook import tqdm\n",
    "from collections import Counter\n",
    "\n",
    "# local imports\n",
    "from prepare import *\n",
    "from evaluate import *"
   ]
  },
  {
   "cell_type": "markdown",
   "metadata": {},
   "source": [
    "### Read in initial datasets if needed"
   ]
  },
  {
   "cell_type": "code",
   "execution_count": 2,
   "metadata": {
    "ExecuteTime": {
     "end_time": "2020-01-03T16:38:38.248487Z",
     "start_time": "2020-01-03T16:38:38.225273Z"
    }
   },
   "outputs": [],
   "source": [
    "#raw_train, raw_train_labels, raw_test, specs, sample = read_raw_csvs()\n",
    "raw_train_labels = pd.read_csv('data/train_labels.csv')"
   ]
  },
  {
   "cell_type": "markdown",
   "metadata": {},
   "source": [
    "### Load compiled train/test datasets"
   ]
  },
  {
   "cell_type": "code",
   "execution_count": 3,
   "metadata": {
    "ExecuteTime": {
     "end_time": "2020-01-03T16:38:50.378214Z",
     "start_time": "2020-01-03T16:38:38.249462Z"
    }
   },
   "outputs": [],
   "source": [
    "train, test = load_and_prep(raw_train_labels)"
   ]
  },
  {
   "cell_type": "markdown",
   "metadata": {},
   "source": [
    "### Start throwing model mud at the wall"
   ]
  },
  {
   "cell_type": "code",
   "execution_count": 4,
   "metadata": {
    "ExecuteTime": {
     "end_time": "2020-01-03T16:38:50.481224Z",
     "start_time": "2020-01-03T16:38:50.379172Z"
    }
   },
   "outputs": [],
   "source": [
    "from sklearn.ensemble import RandomForestClassifier, AdaBoostClassifier, \\\n",
    "                                ExtraTreesClassifier, BaggingClassifier, \\\n",
    "                                GradientBoostingClassifier, VotingClassifier, StackingClassifier\n",
    "from sklearn.model_selection import train_test_split\n",
    "from sklearn.metrics import accuracy_score\n",
    "from sklearn.preprocessing import StandardScaler\n",
    "from sklearn.linear_model import LogisticRegression, SGDClassifier, RidgeClassifier\n",
    "from sklearn.neighbors import KNeighborsClassifier\n",
    "from sklearn.svm import SVC\n",
    "from sklearn.naive_bayes import GaussianNB\n",
    "import warnings\n",
    "warnings.filterwarnings('ignore')  #Ridge classifier throws some warnings about ill-conditioned matrix"
   ]
  },
  {
   "cell_type": "markdown",
   "metadata": {},
   "source": [
    "### Baseline accuracy of 50%"
   ]
  },
  {
   "cell_type": "code",
   "execution_count": 5,
   "metadata": {
    "ExecuteTime": {
     "end_time": "2020-01-03T16:38:50.495170Z",
     "start_time": "2020-01-03T16:38:50.482170Z"
    }
   },
   "outputs": [
    {
     "data": {
      "text/plain": [
       "3    0.500000\n",
       "0    0.239062\n",
       "1    0.136292\n",
       "2    0.124647\n",
       "Name: accuracy_group, dtype: float64"
      ]
     },
     "execution_count": 5,
     "metadata": {},
     "output_type": "execute_result"
    }
   ],
   "source": [
    "train.accuracy_group.value_counts(normalize=True)"
   ]
  },
  {
   "cell_type": "markdown",
   "metadata": {},
   "source": [
    "#### KNN and SVC will require scaling, others shouldn't"
   ]
  },
  {
   "cell_type": "code",
   "execution_count": 6,
   "metadata": {
    "ExecuteTime": {
     "end_time": "2020-01-03T16:38:50.501170Z",
     "start_time": "2020-01-03T16:38:50.496172Z"
    }
   },
   "outputs": [],
   "source": [
    "rf = RandomForestClassifier()\n",
    "#lr = LogisticRegression()\n",
    "#sgd = SGDClassifier()\n",
    "rc = RidgeClassifier()\n",
    "#nb = GaussianNB()\n",
    "ac = AdaBoostClassifier()\n",
    "et = ExtraTreesClassifier()\n",
    "bc = BaggingClassifier()\n",
    "gbc = GradientBoostingClassifier()\n",
    "#vc = VotingClassifier()  \n",
    "#sc = StackingClassifier()"
   ]
  },
  {
   "cell_type": "code",
   "execution_count": 7,
   "metadata": {
    "ExecuteTime": {
     "end_time": "2020-01-03T16:38:50.509201Z",
     "start_time": "2020-01-03T16:38:50.503173Z"
    }
   },
   "outputs": [],
   "source": [
    "knn = KNeighborsClassifier()\n",
    "svc = SVC()"
   ]
  },
  {
   "cell_type": "code",
   "execution_count": 9,
   "metadata": {
    "ExecuteTime": {
     "end_time": "2020-01-03T16:46:08.948038Z",
     "start_time": "2020-01-03T16:39:22.268218Z"
    }
   },
   "outputs": [
    {
     "name": "stdout",
     "output_type": "stream",
     "text": [
      "The CV score of RandomForestClassifier is 0.5334652345958169\n",
      "The CV score of RidgeClassifier is 0.5076879592990391\n",
      "The CV score of AdaBoostClassifier is 0.5541548897682307\n",
      "The CV score of ExtraTreesClassifier is 0.5105709440361786\n",
      "The CV score of BaggingClassifier is 0.4841153193894856\n",
      "The CV score of GradientBoostingClassifier is 0.5570378745053702\n",
      "The CV score of SVC is 0.5087054833239119\n"
     ]
    },
    {
     "data": {
      "text/plain": [
       "('SVC', 0.5087054833239119)"
      ]
     },
     "execution_count": 9,
     "metadata": {},
     "output_type": "execute_result"
    }
   ],
   "source": [
    "quick_eval(train, rf, cv=True)\n",
    "#quick_eval(train, lr, cv=True)\n",
    "#quick_eval(train, sgd, cv=True)\n",
    "quick_eval(train, rc, cv=True)\n",
    "#quick_eval(train, nb, cv=True)\n",
    "quick_eval(train, ac, cv=True)\n",
    "quick_eval(train, et, cv=True)\n",
    "quick_eval(train, bc, cv=True)\n",
    "quick_eval(train, gbc, cv=True)\n",
    "\n",
    "#quick_eval(train, knn, scale=True, cv=True)\n",
    "quick_eval(train, svc, scale=True, cv=True)"
   ]
  },
  {
   "cell_type": "code",
   "execution_count": 12,
   "metadata": {
    "ExecuteTime": {
     "end_time": "2020-01-03T17:19:01.027044Z",
     "start_time": "2020-01-03T17:18:24.386483Z"
    }
   },
   "outputs": [
    {
     "name": "stdout",
     "output_type": "stream",
     "text": [
      "The accuracy of VotingClassifier is 0.562464669304692\n"
     ]
    },
    {
     "data": {
      "text/plain": [
       "('VotingClassifier', 0.562464669304692)"
      ]
     },
     "execution_count": 12,
     "metadata": {},
     "output_type": "execute_result"
    }
   ],
   "source": [
    "vc = VotingClassifier(estimators=[\n",
    "    ('Adaboost',ac), ('rf', rf), ('gbc', gbc)],\n",
    "                     voting='soft')\n",
    "quick_eval(train, vc)#, cv=True)"
   ]
  },
  {
   "cell_type": "code",
   "execution_count": 15,
   "metadata": {
    "ExecuteTime": {
     "end_time": "2020-01-03T17:25:05.211514Z",
     "start_time": "2020-01-03T17:24:06.054099Z"
    }
   },
   "outputs": [
    {
     "name": "stdout",
     "output_type": "stream",
     "text": [
      "The accuracy of VotingClassifier is 0.5644431882419446\n"
     ]
    },
    {
     "data": {
      "text/plain": [
       "('VotingClassifier', 0.5644431882419446)"
      ]
     },
     "execution_count": 15,
     "metadata": {},
     "output_type": "execute_result"
    }
   ],
   "source": [
    "vc = VotingClassifier(estimators=[\n",
    "    ('Adaboost',ac),\n",
    "    ('rf', rf), \n",
    "    ('gbc', gbc),\n",
    "    ('et', et),\n",
    "    ('svc', svc),\n",
    "    ('rc', rc)],\n",
    "                     voting='hard')\n",
    "quick_eval(train, vc)#, cv=True)"
   ]
  },
  {
   "cell_type": "code",
   "execution_count": 16,
   "metadata": {
    "ExecuteTime": {
     "end_time": "2020-01-03T17:46:06.876791Z",
     "start_time": "2020-01-03T17:41:31.631440Z"
    }
   },
   "outputs": [
    {
     "name": "stdout",
     "output_type": "stream",
     "text": [
      "The accuracy of StackingClassifier is 0.5816845675522895\n"
     ]
    },
    {
     "data": {
      "text/plain": [
       "('StackingClassifier', 0.5816845675522895)"
      ]
     },
     "execution_count": 16,
     "metadata": {},
     "output_type": "execute_result"
    }
   ],
   "source": [
    "estimators = [\n",
    "    ('Adaboost',ac),\n",
    "    ('rf', rf), \n",
    "    ('gbc', gbc),\n",
    "    ('et', et),\n",
    "    ('svc', svc),\n",
    "    ('rc', rc),\n",
    "]\n",
    "stacking_clf = StackingClassifier(estimators=estimators, final_estimator=RandomForestClassifier())\n",
    "quick_eval(train, stacking_clf)"
   ]
  },
  {
   "cell_type": "code",
   "execution_count": null,
   "metadata": {},
   "outputs": [],
   "source": []
  }
 ],
 "metadata": {
  "hide_input": false,
  "kernelspec": {
   "display_name": "DataScienceBowl",
   "language": "python",
   "name": "datasciencebowl"
  },
  "language_info": {
   "codemirror_mode": {
    "name": "ipython",
    "version": 3
   },
   "file_extension": ".py",
   "mimetype": "text/x-python",
   "name": "python",
   "nbconvert_exporter": "python",
   "pygments_lexer": "ipython3",
   "version": "3.7.0"
  }
 },
 "nbformat": 4,
 "nbformat_minor": 2
}

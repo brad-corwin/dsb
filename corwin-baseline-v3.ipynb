{
 "cells": [
  {
   "cell_type": "code",
   "execution_count": 1,
   "metadata": {},
   "outputs": [],
   "source": [
    "import numpy as np\n",
    "import pandas as pd\n",
    "import matplotlib.pyplot as plt\n",
    "\n",
    "from tqdm.notebook import tqdm\n",
    "from collections import Counter\n",
    "\n",
    "# local imports\n",
    "from prepare import *"
   ]
  },
  {
   "cell_type": "code",
   "execution_count": 2,
   "metadata": {},
   "outputs": [],
   "source": [
    "train = pd.read_csv('data/train.csv')\n",
    "train_labels = pd.read_csv('data/train_labels.csv')\n",
    "test = pd.read_csv('data/test.csv')\n",
    "specs = pd.read_csv('data/specs.csv')\n",
    "sample = pd.read_csv('data/sample_submission.csv')"
   ]
  },
  {
   "cell_type": "code",
   "execution_count": 3,
   "metadata": {},
   "outputs": [
    {
     "data": {
      "text/plain": [
       "(11341042, 11)"
      ]
     },
     "execution_count": 3,
     "metadata": {},
     "output_type": "execute_result"
    }
   ],
   "source": [
    "train.shape"
   ]
  },
  {
   "cell_type": "markdown",
   "metadata": {},
   "source": [
    "## Run modified remove_dead_weight function"
   ]
  },
  {
   "cell_type": "code",
   "execution_count": 4,
   "metadata": {},
   "outputs": [],
   "source": [
    "train = remove_dead_weight(train, train_labels)\n",
    "test = remove_dead_weight(test, train_labels, test_set=True)"
   ]
  },
  {
   "cell_type": "code",
   "execution_count": 5,
   "metadata": {},
   "outputs": [
    {
     "data": {
      "text/plain": [
       "(7696400, 11)"
      ]
     },
     "execution_count": 5,
     "metadata": {},
     "output_type": "execute_result"
    }
   ],
   "source": [
    "train.shape"
   ]
  },
  {
   "cell_type": "markdown",
   "metadata": {},
   "source": [
    "## Process time"
   ]
  },
  {
   "cell_type": "code",
   "execution_count": 6,
   "metadata": {},
   "outputs": [],
   "source": [
    "# convert timestamp to correct datetime type\n",
    "train['timestamp'] = pd.to_datetime(train['timestamp'], infer_datetime_format=True)\n",
    "test['timestamp'] = pd.to_datetime(test['timestamp'], infer_datetime_format=True)"
   ]
  },
  {
   "cell_type": "code",
   "execution_count": 7,
   "metadata": {},
   "outputs": [],
   "source": [
    "# have the ability to break datetime into year, month, day, etc with add_datepart in library"
   ]
  },
  {
   "cell_type": "markdown",
   "metadata": {},
   "source": [
    "## Encode data\n",
    "\n",
    "https://towardsdatascience.com/understanding-feature-engineering-part-2-categorical-data-f54324193e63"
   ]
  },
  {
   "cell_type": "code",
   "execution_count": 8,
   "metadata": {},
   "outputs": [],
   "source": [
    "train, test = encode_col(train, test, 'title')\n",
    "train, test = encode_col(train, test, 'world')"
   ]
  },
  {
   "cell_type": "code",
   "execution_count": 9,
   "metadata": {},
   "outputs": [
    {
     "data": {
      "text/plain": [
       "(7696400, 59)"
      ]
     },
     "execution_count": 9,
     "metadata": {},
     "output_type": "execute_result"
    }
   ],
   "source": [
    "train.shape"
   ]
  },
  {
   "cell_type": "markdown",
   "metadata": {},
   "source": [
    "## Bin event codes"
   ]
  },
  {
   "cell_type": "code",
   "execution_count": 10,
   "metadata": {},
   "outputs": [],
   "source": [
    "#TBD"
   ]
  },
  {
   "cell_type": "markdown",
   "metadata": {},
   "source": [
    "## Process Data\n",
    "\n",
    "https://www.kaggle.com/ragnar123/truncated-train-ensemble"
   ]
  },
  {
   "cell_type": "code",
   "execution_count": 11,
   "metadata": {},
   "outputs": [
    {
     "data": {
      "application/vnd.jupyter.widget-view+json": {
       "model_id": "acd3fc4aa89f4d2592922f583898a979",
       "version_major": 2,
       "version_minor": 0
      },
      "text/plain": [
       "HBox(children=(FloatProgress(value=0.0, max=3614.0), HTML(value='')))"
      ]
     },
     "metadata": {},
     "output_type": "display_data"
    },
    {
     "name": "stdout",
     "output_type": "stream",
     "text": [
      "\n"
     ]
    },
    {
     "data": {
      "application/vnd.jupyter.widget-view+json": {
       "model_id": "8f6a27c58f084f2ea52de75f5405d1ca",
       "version_major": 2,
       "version_minor": 0
      },
      "text/plain": [
       "HBox(children=(FloatProgress(value=0.0, max=3614.0), HTML(value='')))"
      ]
     },
     "metadata": {},
     "output_type": "display_data"
    },
    {
     "name": "stdout",
     "output_type": "stream",
     "text": [
      "\n"
     ]
    },
    {
     "ename": "UnboundLocalError",
     "evalue": "local variable 'truncated_user_sample' referenced before assignment",
     "output_type": "error",
     "traceback": [
      "\u001b[1;31m---------------------------------------------------------------------------\u001b[0m",
      "\u001b[1;31mUnboundLocalError\u001b[0m                         Traceback (most recent call last)",
      "\u001b[1;32m<ipython-input-11-e00d5003e37e>\u001b[0m in \u001b[0;36m<module>\u001b[1;34m\u001b[0m\n\u001b[0;32m      1\u001b[0m \u001b[0mcompiled_train_data\u001b[0m \u001b[1;33m=\u001b[0m \u001b[0mprocess_data\u001b[0m\u001b[1;33m(\u001b[0m\u001b[0mtrain\u001b[0m\u001b[1;33m)\u001b[0m\u001b[1;33m\u001b[0m\u001b[1;33m\u001b[0m\u001b[0m\n\u001b[1;32m----> 2\u001b[1;33m \u001b[0mcompiled_test_data\u001b[0m \u001b[1;33m=\u001b[0m \u001b[0mprocess_data\u001b[0m\u001b[1;33m(\u001b[0m\u001b[0mtest\u001b[0m\u001b[1;33m,\u001b[0m \u001b[0mtest_set\u001b[0m\u001b[1;33m=\u001b[0m\u001b[1;32mTrue\u001b[0m\u001b[1;33m)\u001b[0m\u001b[1;33m\u001b[0m\u001b[1;33m\u001b[0m\u001b[0m\n\u001b[0m",
      "\u001b[1;32m~\\Code\\dsb\\prepare.py\u001b[0m in \u001b[0;36mprocess_data\u001b[1;34m(df, test_set)\u001b[0m\n\u001b[0;32m    114\u001b[0m                 \u001b[0mcompiled_data\u001b[0m\u001b[1;33m.\u001b[0m\u001b[0mappend\u001b[0m\u001b[1;33m(\u001b[0m\u001b[0mflatten_add_features\u001b[0m\u001b[1;33m(\u001b[0m\u001b[0mtruncated_user_sample\u001b[0m\u001b[1;33m)\u001b[0m\u001b[1;33m)\u001b[0m\u001b[1;33m\u001b[0m\u001b[1;33m\u001b[0m\u001b[0m\n\u001b[0;32m    115\u001b[0m \u001b[1;33m\u001b[0m\u001b[0m\n\u001b[1;32m--> 116\u001b[1;33m     \u001b[1;32mdel\u001b[0m \u001b[0mtruncated_user_sample\u001b[0m\u001b[1;33m\u001b[0m\u001b[1;33m\u001b[0m\u001b[0m\n\u001b[0m\u001b[0;32m    117\u001b[0m     \u001b[1;32mreturn\u001b[0m \u001b[0mcompiled_data\u001b[0m\u001b[1;33m\u001b[0m\u001b[1;33m\u001b[0m\u001b[0m\n",
      "\u001b[1;31mUnboundLocalError\u001b[0m: local variable 'truncated_user_sample' referenced before assignment"
     ]
    }
   ],
   "source": [
    "compiled_train_data = process_data(train)\n",
    "compiled_test_data = process_data(test, test_set=True)"
   ]
  },
  {
   "cell_type": "code",
   "execution_count": 12,
   "metadata": {},
   "outputs": [
    {
     "data": {
      "text/plain": [
       "17690"
      ]
     },
     "execution_count": 12,
     "metadata": {},
     "output_type": "execute_result"
    }
   ],
   "source": [
    "len(compiled_train_data)"
   ]
  },
  {
   "cell_type": "code",
   "execution_count": 16,
   "metadata": {},
   "outputs": [
    {
     "data": {
      "text/html": [
       "<div>\n",
       "<style scoped>\n",
       "    .dataframe tbody tr th:only-of-type {\n",
       "        vertical-align: middle;\n",
       "    }\n",
       "\n",
       "    .dataframe tbody tr th {\n",
       "        vertical-align: top;\n",
       "    }\n",
       "\n",
       "    .dataframe thead th {\n",
       "        text-align: right;\n",
       "    }\n",
       "</style>\n",
       "<table border=\"1\" class=\"dataframe\">\n",
       "  <thead>\n",
       "    <tr style=\"text-align: right;\">\n",
       "      <th></th>\n",
       "      <th>event_id</th>\n",
       "      <th>game_session</th>\n",
       "      <th>timestamp</th>\n",
       "      <th>event_data</th>\n",
       "      <th>installation_id</th>\n",
       "      <th>event_count</th>\n",
       "      <th>event_code</th>\n",
       "      <th>game_time</th>\n",
       "      <th>title</th>\n",
       "      <th>type</th>\n",
       "      <th>...</th>\n",
       "      <th>title_Welcome to Lost Lagoon!</th>\n",
       "      <th>world_CRYSTALCAVES</th>\n",
       "      <th>world_MAGMAPEAK</th>\n",
       "      <th>world_NONE</th>\n",
       "      <th>world_TREETOPCITY</th>\n",
       "      <th>installation_id_slice</th>\n",
       "      <th>total_event_count</th>\n",
       "      <th>avg_event_count</th>\n",
       "      <th>total_game_time</th>\n",
       "      <th>avg_game_time</th>\n",
       "    </tr>\n",
       "  </thead>\n",
       "  <tbody>\n",
       "    <tr>\n",
       "      <th>647</th>\n",
       "      <td>3bfd1a65</td>\n",
       "      <td>901acc108f55a5a1</td>\n",
       "      <td>2019-08-06 05:22:01.344000+00:00</td>\n",
       "      <td>{\"version\":\"1.0\",\"event_count\":1,\"game_time\":0...</td>\n",
       "      <td>0006a69f</td>\n",
       "      <td>1</td>\n",
       "      <td>2000</td>\n",
       "      <td>0</td>\n",
       "      <td>Mushroom Sorter (Assessment)</td>\n",
       "      <td>Assessment</td>\n",
       "      <td>...</td>\n",
       "      <td>2</td>\n",
       "      <td>0</td>\n",
       "      <td>235</td>\n",
       "      <td>2</td>\n",
       "      <td>411</td>\n",
       "      <td>0006a69f_slice_0</td>\n",
       "      <td>36473</td>\n",
       "      <td>56.2855</td>\n",
       "      <td>35855793</td>\n",
       "      <td>5.12226e+06</td>\n",
       "    </tr>\n",
       "    <tr>\n",
       "      <th>1143</th>\n",
       "      <td>f56e0afc</td>\n",
       "      <td>77b8ee947eb84b4e</td>\n",
       "      <td>2019-08-06 05:35:19.167000+00:00</td>\n",
       "      <td>{\"version\":\"1.0\",\"event_count\":1,\"game_time\":0...</td>\n",
       "      <td>0006a69f</td>\n",
       "      <td>1</td>\n",
       "      <td>2000</td>\n",
       "      <td>0</td>\n",
       "      <td>Bird Measurer (Assessment)</td>\n",
       "      <td>Assessment</td>\n",
       "      <td>...</td>\n",
       "      <td>2</td>\n",
       "      <td>0</td>\n",
       "      <td>235</td>\n",
       "      <td>2</td>\n",
       "      <td>907</td>\n",
       "      <td>0006a69f_slice_1</td>\n",
       "      <td>76743</td>\n",
       "      <td>67.083</td>\n",
       "      <td>71139760</td>\n",
       "      <td>6.46725e+06</td>\n",
       "    </tr>\n",
       "    <tr>\n",
       "      <th>1230</th>\n",
       "      <td>3bfd1a65</td>\n",
       "      <td>6bdf9623adc94d89</td>\n",
       "      <td>2019-08-06 05:37:50.020000+00:00</td>\n",
       "      <td>{\"version\":\"1.0\",\"event_count\":1,\"game_time\":0...</td>\n",
       "      <td>0006a69f</td>\n",
       "      <td>1</td>\n",
       "      <td>2000</td>\n",
       "      <td>0</td>\n",
       "      <td>Mushroom Sorter (Assessment)</td>\n",
       "      <td>Assessment</td>\n",
       "      <td>...</td>\n",
       "      <td>2</td>\n",
       "      <td>0</td>\n",
       "      <td>235</td>\n",
       "      <td>2</td>\n",
       "      <td>994</td>\n",
       "      <td>0006a69f_slice_2</td>\n",
       "      <td>80571</td>\n",
       "      <td>65.4517</td>\n",
       "      <td>75295894</td>\n",
       "      <td>6.27466e+06</td>\n",
       "    </tr>\n",
       "    <tr>\n",
       "      <th>2142</th>\n",
       "      <td>3bfd1a65</td>\n",
       "      <td>9501794defd84e4d</td>\n",
       "      <td>2019-08-06 20:34:53.812000+00:00</td>\n",
       "      <td>{\"version\":\"1.0\",\"event_count\":1,\"game_time\":0...</td>\n",
       "      <td>0006a69f</td>\n",
       "      <td>1</td>\n",
       "      <td>2000</td>\n",
       "      <td>0</td>\n",
       "      <td>Mushroom Sorter (Assessment)</td>\n",
       "      <td>Assessment</td>\n",
       "      <td>...</td>\n",
       "      <td>3</td>\n",
       "      <td>0</td>\n",
       "      <td>728</td>\n",
       "      <td>3</td>\n",
       "      <td>1412</td>\n",
       "      <td>0006a69f_slice_3</td>\n",
       "      <td>134171</td>\n",
       "      <td>62.609</td>\n",
       "      <td>196331339</td>\n",
       "      <td>8.92415e+06</td>\n",
       "    </tr>\n",
       "    <tr>\n",
       "      <th>2569</th>\n",
       "      <td>f56e0afc</td>\n",
       "      <td>a9ef3ecb3d1acc6a</td>\n",
       "      <td>2019-08-06 20:49:59.095000+00:00</td>\n",
       "      <td>{\"version\":\"1.0\",\"event_count\":1,\"game_time\":0...</td>\n",
       "      <td>0006a69f</td>\n",
       "      <td>1</td>\n",
       "      <td>2000</td>\n",
       "      <td>0</td>\n",
       "      <td>Bird Measurer (Assessment)</td>\n",
       "      <td>Assessment</td>\n",
       "      <td>...</td>\n",
       "      <td>3</td>\n",
       "      <td>0</td>\n",
       "      <td>728</td>\n",
       "      <td>3</td>\n",
       "      <td>1839</td>\n",
       "      <td>0006a69f_slice_4</td>\n",
       "      <td>159744</td>\n",
       "      <td>62.1572</td>\n",
       "      <td>230347603</td>\n",
       "      <td>8.85952e+06</td>\n",
       "    </tr>\n",
       "    <tr>\n",
       "      <th>...</th>\n",
       "      <td>...</td>\n",
       "      <td>...</td>\n",
       "      <td>...</td>\n",
       "      <td>...</td>\n",
       "      <td>...</td>\n",
       "      <td>...</td>\n",
       "      <td>...</td>\n",
       "      <td>...</td>\n",
       "      <td>...</td>\n",
       "      <td>...</td>\n",
       "      <td>...</td>\n",
       "      <td>...</td>\n",
       "      <td>...</td>\n",
       "      <td>...</td>\n",
       "      <td>...</td>\n",
       "      <td>...</td>\n",
       "      <td>...</td>\n",
       "      <td>...</td>\n",
       "      <td>...</td>\n",
       "      <td>...</td>\n",
       "      <td>...</td>\n",
       "    </tr>\n",
       "    <tr>\n",
       "      <th>1963</th>\n",
       "      <td>5b49460a</td>\n",
       "      <td>460e8bdc2822b340</td>\n",
       "      <td>2019-07-30 12:12:49.516000+00:00</td>\n",
       "      <td>{\"version\":\"1.0\",\"event_count\":1,\"game_time\":0...</td>\n",
       "      <td>ffc90c32</td>\n",
       "      <td>1</td>\n",
       "      <td>2000</td>\n",
       "      <td>0</td>\n",
       "      <td>Chest Sorter (Assessment)</td>\n",
       "      <td>Assessment</td>\n",
       "      <td>...</td>\n",
       "      <td>1</td>\n",
       "      <td>452</td>\n",
       "      <td>827</td>\n",
       "      <td>1</td>\n",
       "      <td>684</td>\n",
       "      <td>ffc90c32_slice_5</td>\n",
       "      <td>120180</td>\n",
       "      <td>61.1914</td>\n",
       "      <td>157788117</td>\n",
       "      <td>6.86035e+06</td>\n",
       "    </tr>\n",
       "    <tr>\n",
       "      <th>888</th>\n",
       "      <td>90d848e0</td>\n",
       "      <td>b05a02b52d5c1f4c</td>\n",
       "      <td>2019-08-07 01:06:38.407000+00:00</td>\n",
       "      <td>{\"version\":\"1.0\",\"event_count\":1,\"game_time\":0...</td>\n",
       "      <td>ffd2871d</td>\n",
       "      <td>1</td>\n",
       "      <td>2000</td>\n",
       "      <td>0</td>\n",
       "      <td>Cauldron Filler (Assessment)</td>\n",
       "      <td>Assessment</td>\n",
       "      <td>...</td>\n",
       "      <td>1</td>\n",
       "      <td>0</td>\n",
       "      <td>888</td>\n",
       "      <td>1</td>\n",
       "      <td>0</td>\n",
       "      <td>ffd2871d_slice_0</td>\n",
       "      <td>97262</td>\n",
       "      <td>109.406</td>\n",
       "      <td>146503325</td>\n",
       "      <td>2.93007e+07</td>\n",
       "    </tr>\n",
       "    <tr>\n",
       "      <th>932</th>\n",
       "      <td>90d848e0</td>\n",
       "      <td>dadd1a4d8ac68ab0</td>\n",
       "      <td>2019-09-09 15:34:41.704000+00:00</td>\n",
       "      <td>{\"version\":\"1.0\",\"event_count\":1,\"game_time\":0...</td>\n",
       "      <td>ffeb0b1b</td>\n",
       "      <td>1</td>\n",
       "      <td>2000</td>\n",
       "      <td>0</td>\n",
       "      <td>Cauldron Filler (Assessment)</td>\n",
       "      <td>Assessment</td>\n",
       "      <td>...</td>\n",
       "      <td>2</td>\n",
       "      <td>617</td>\n",
       "      <td>308</td>\n",
       "      <td>2</td>\n",
       "      <td>6</td>\n",
       "      <td>ffeb0b1b_slice_0</td>\n",
       "      <td>199920</td>\n",
       "      <td>214.277</td>\n",
       "      <td>276091274</td>\n",
       "      <td>4.60152e+07</td>\n",
       "    </tr>\n",
       "    <tr>\n",
       "      <th>1358</th>\n",
       "      <td>3bfd1a65</td>\n",
       "      <td>a6885ab824fbc32c</td>\n",
       "      <td>2019-09-22 01:58:20.095000+00:00</td>\n",
       "      <td>{\"version\":\"1.0\",\"event_count\":1,\"game_time\":0...</td>\n",
       "      <td>ffeb0b1b</td>\n",
       "      <td>1</td>\n",
       "      <td>2000</td>\n",
       "      <td>0</td>\n",
       "      <td>Mushroom Sorter (Assessment)</td>\n",
       "      <td>Assessment</td>\n",
       "      <td>...</td>\n",
       "      <td>3</td>\n",
       "      <td>944</td>\n",
       "      <td>396</td>\n",
       "      <td>3</td>\n",
       "      <td>16</td>\n",
       "      <td>ffeb0b1b_slice_1</td>\n",
       "      <td>232312</td>\n",
       "      <td>170.943</td>\n",
       "      <td>324726466</td>\n",
       "      <td>3.60807e+07</td>\n",
       "    </tr>\n",
       "    <tr>\n",
       "      <th>1532</th>\n",
       "      <td>90d848e0</td>\n",
       "      <td>5448d652309a6324</td>\n",
       "      <td>2019-09-22 02:06:20.595000+00:00</td>\n",
       "      <td>{\"version\":\"1.0\",\"event_count\":1,\"game_time\":0...</td>\n",
       "      <td>ffeb0b1b</td>\n",
       "      <td>1</td>\n",
       "      <td>2000</td>\n",
       "      <td>0</td>\n",
       "      <td>Cauldron Filler (Assessment)</td>\n",
       "      <td>Assessment</td>\n",
       "      <td>...</td>\n",
       "      <td>3</td>\n",
       "      <td>944</td>\n",
       "      <td>474</td>\n",
       "      <td>3</td>\n",
       "      <td>112</td>\n",
       "      <td>ffeb0b1b_slice_2</td>\n",
       "      <td>239992</td>\n",
       "      <td>156.551</td>\n",
       "      <td>338998020</td>\n",
       "      <td>3.0818e+07</td>\n",
       "    </tr>\n",
       "  </tbody>\n",
       "</table>\n",
       "<p>17690 rows × 64 columns</p>\n",
       "</div>"
      ],
      "text/plain": [
       "      event_id      game_session                        timestamp  \\\n",
       "647   3bfd1a65  901acc108f55a5a1 2019-08-06 05:22:01.344000+00:00   \n",
       "1143  f56e0afc  77b8ee947eb84b4e 2019-08-06 05:35:19.167000+00:00   \n",
       "1230  3bfd1a65  6bdf9623adc94d89 2019-08-06 05:37:50.020000+00:00   \n",
       "2142  3bfd1a65  9501794defd84e4d 2019-08-06 20:34:53.812000+00:00   \n",
       "2569  f56e0afc  a9ef3ecb3d1acc6a 2019-08-06 20:49:59.095000+00:00   \n",
       "...        ...               ...                              ...   \n",
       "1963  5b49460a  460e8bdc2822b340 2019-07-30 12:12:49.516000+00:00   \n",
       "888   90d848e0  b05a02b52d5c1f4c 2019-08-07 01:06:38.407000+00:00   \n",
       "932   90d848e0  dadd1a4d8ac68ab0 2019-09-09 15:34:41.704000+00:00   \n",
       "1358  3bfd1a65  a6885ab824fbc32c 2019-09-22 01:58:20.095000+00:00   \n",
       "1532  90d848e0  5448d652309a6324 2019-09-22 02:06:20.595000+00:00   \n",
       "\n",
       "                                             event_data installation_id  \\\n",
       "647   {\"version\":\"1.0\",\"event_count\":1,\"game_time\":0...        0006a69f   \n",
       "1143  {\"version\":\"1.0\",\"event_count\":1,\"game_time\":0...        0006a69f   \n",
       "1230  {\"version\":\"1.0\",\"event_count\":1,\"game_time\":0...        0006a69f   \n",
       "2142  {\"version\":\"1.0\",\"event_count\":1,\"game_time\":0...        0006a69f   \n",
       "2569  {\"version\":\"1.0\",\"event_count\":1,\"game_time\":0...        0006a69f   \n",
       "...                                                 ...             ...   \n",
       "1963  {\"version\":\"1.0\",\"event_count\":1,\"game_time\":0...        ffc90c32   \n",
       "888   {\"version\":\"1.0\",\"event_count\":1,\"game_time\":0...        ffd2871d   \n",
       "932   {\"version\":\"1.0\",\"event_count\":1,\"game_time\":0...        ffeb0b1b   \n",
       "1358  {\"version\":\"1.0\",\"event_count\":1,\"game_time\":0...        ffeb0b1b   \n",
       "1532  {\"version\":\"1.0\",\"event_count\":1,\"game_time\":0...        ffeb0b1b   \n",
       "\n",
       "     event_count event_code game_time                         title  \\\n",
       "647            1       2000         0  Mushroom Sorter (Assessment)   \n",
       "1143           1       2000         0    Bird Measurer (Assessment)   \n",
       "1230           1       2000         0  Mushroom Sorter (Assessment)   \n",
       "2142           1       2000         0  Mushroom Sorter (Assessment)   \n",
       "2569           1       2000         0    Bird Measurer (Assessment)   \n",
       "...          ...        ...       ...                           ...   \n",
       "1963           1       2000         0     Chest Sorter (Assessment)   \n",
       "888            1       2000         0  Cauldron Filler (Assessment)   \n",
       "932            1       2000         0  Cauldron Filler (Assessment)   \n",
       "1358           1       2000         0  Mushroom Sorter (Assessment)   \n",
       "1532           1       2000         0  Cauldron Filler (Assessment)   \n",
       "\n",
       "            type  ... title_Welcome to Lost Lagoon! world_CRYSTALCAVES  \\\n",
       "647   Assessment  ...                             2                  0   \n",
       "1143  Assessment  ...                             2                  0   \n",
       "1230  Assessment  ...                             2                  0   \n",
       "2142  Assessment  ...                             3                  0   \n",
       "2569  Assessment  ...                             3                  0   \n",
       "...          ...  ...                           ...                ...   \n",
       "1963  Assessment  ...                             1                452   \n",
       "888   Assessment  ...                             1                  0   \n",
       "932   Assessment  ...                             2                617   \n",
       "1358  Assessment  ...                             3                944   \n",
       "1532  Assessment  ...                             3                944   \n",
       "\n",
       "     world_MAGMAPEAK world_NONE world_TREETOPCITY installation_id_slice  \\\n",
       "647              235          2               411      0006a69f_slice_0   \n",
       "1143             235          2               907      0006a69f_slice_1   \n",
       "1230             235          2               994      0006a69f_slice_2   \n",
       "2142             728          3              1412      0006a69f_slice_3   \n",
       "2569             728          3              1839      0006a69f_slice_4   \n",
       "...              ...        ...               ...                   ...   \n",
       "1963             827          1               684      ffc90c32_slice_5   \n",
       "888              888          1                 0      ffd2871d_slice_0   \n",
       "932              308          2                 6      ffeb0b1b_slice_0   \n",
       "1358             396          3                16      ffeb0b1b_slice_1   \n",
       "1532             474          3               112      ffeb0b1b_slice_2   \n",
       "\n",
       "     total_event_count avg_event_count total_game_time avg_game_time  \n",
       "647              36473         56.2855        35855793   5.12226e+06  \n",
       "1143             76743          67.083        71139760   6.46725e+06  \n",
       "1230             80571         65.4517        75295894   6.27466e+06  \n",
       "2142            134171          62.609       196331339   8.92415e+06  \n",
       "2569            159744         62.1572       230347603   8.85952e+06  \n",
       "...                ...             ...             ...           ...  \n",
       "1963            120180         61.1914       157788117   6.86035e+06  \n",
       "888              97262         109.406       146503325   2.93007e+07  \n",
       "932             199920         214.277       276091274   4.60152e+07  \n",
       "1358            232312         170.943       324726466   3.60807e+07  \n",
       "1532            239992         156.551       338998020    3.0818e+07  \n",
       "\n",
       "[17690 rows x 64 columns]"
      ]
     },
     "execution_count": 16,
     "metadata": {},
     "output_type": "execute_result"
    }
   ],
   "source": [
    "pd.concat(compiled_train_data, axis=1).T"
   ]
  },
  {
   "cell_type": "code",
   "execution_count": null,
   "metadata": {},
   "outputs": [],
   "source": []
  }
 ],
 "metadata": {
  "kernelspec": {
   "display_name": "Python 3",
   "language": "python",
   "name": "python3"
  },
  "language_info": {
   "codemirror_mode": {
    "name": "ipython",
    "version": 3
   },
   "file_extension": ".py",
   "mimetype": "text/x-python",
   "name": "python",
   "nbconvert_exporter": "python",
   "pygments_lexer": "ipython3",
   "version": "3.7.5"
  }
 },
 "nbformat": 4,
 "nbformat_minor": 2
}

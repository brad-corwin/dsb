{
 "cells": [
  {
   "cell_type": "code",
   "execution_count": 1,
   "metadata": {},
   "outputs": [],
   "source": [
    "import pandas as pd"
   ]
  },
  {
   "cell_type": "code",
   "execution_count": 2,
   "metadata": {},
   "outputs": [],
   "source": [
    "specs = pd.read_csv('data/specs.csv')"
   ]
  },
  {
   "cell_type": "markdown",
   "metadata": {},
   "source": [
    "## Interesting Strings\n",
    "\n",
    "* correct\n",
    "* incorrect\n",
    "* hint\n",
    "* did players who received instruction X do better than those who did not\n",
    "* someplace other than // diagnose player strategies and understanding\n",
    "* hovers the mouse // determine which objects the player thinks are important\n",
    "* help button // too difficult\n",
    "* completion // calculating time spent in a round (for speed and accuracy), attempts at solving a round, and the number of rounds the player has completed\n",
    "* movie starts to play // used to determine how long players spend watching the movies\n",
    "* clicks on something that isn't covered elsewhere // attractive distractions, near misses\n",
    "* exit game event\n",
    "* delivers instructions to the player // differs from events 3020 and 3021 // determine the effectiveness of the instructions\n",
    "* beat round event\n",
    "* skips the tutorial by clicking on the skip button\n",
    "* done button to submit\n",
    "* start round event\n",
    "* indicate a significant change in state during play\n",
    "* end tutorial event is triggered when the player finishes the tutorial\n",
    "* finished round event // hit milestone\n",
    "* clicks on the button to play again\n",
    "* video starts playing\n",
    "* start tutorial\n",
    "* start game event"
   ]
  },
  {
   "cell_type": "markdown",
   "metadata": {},
   "source": [
    "Example hint events"
   ]
  },
  {
   "cell_type": "code",
   "execution_count": 8,
   "metadata": {},
   "outputs": [
    {
     "name": "stdout",
     "output_type": "stream",
     "text": [
      "This event occurs when the player clicks on the character that provides a hint (Sorry, I don't know his name). It contains information about the state of the game when the player chooses to seek help. This event is usually followed by a 3010 (system-initiated instruction) event. It helps identify points that players feel are too difficult.\n",
      "\n",
      "This event occurs when the player clicks on the character that provides a hint (Sorry I don't know his name). It contains information about the state of the game when the player chooses to seek help. This event is usually followed by a 3010 (system-initiated instruction) event. It helps identify points that players feel are too difficult.\n",
      "\n",
      "This event occurs when the player clicks on the button that provides a hint. It contains information about the state of the game when the player chooses to seek help. This event is usually followed by a 3010 (system-initiated instruction) event. It helps identify points that players feel are too difficult.\n",
      "\n"
     ]
    }
   ],
   "source": [
    "for st in df[df['info'].str.contains('hint')]['info'].unique():\n",
    "    print(f'{st}\\n')"
   ]
  },
  {
   "cell_type": "code",
   "execution_count": 9,
   "metadata": {},
   "outputs": [],
   "source": [
    "df = df[~df['info'].str.contains('hint')]"
   ]
  },
  {
   "cell_type": "markdown",
   "metadata": {},
   "source": [
    "## Loop through event code data"
   ]
  },
  {
   "cell_type": "code",
   "execution_count": 10,
   "metadata": {},
   "outputs": [],
   "source": [
    "train = pd.read_csv('data/train.csv')"
   ]
  },
  {
   "cell_type": "code",
   "execution_count": null,
   "metadata": {},
   "outputs": [],
   "source": [
    "for idx, grp in train.groupby(['event_code']):\n",
    "    if grp['event_id'].nunique() > 1:\n",
    "        print(f'Event Code: {idx}')\n",
    "        for event in grp['event_id'].unique():\n",
    "            print(f'\\tEvent ID: {event}')\n",
    "            info = specs[specs['event_id'] == event]['info'].iloc[0]\n",
    "            print(f'\\t\\t{info}')\n",
    "        print('\\n')"
   ]
  },
  {
   "cell_type": "markdown",
   "metadata": {},
   "source": [
    "## Event Code\n",
    "\n",
    "* 2000: start game event at beginning of level, don't wait for intro movie to finish\n",
    "* 2010: exit game event triggered\n",
    "* 2020: start round event\n",
    "* 2025: reset dino, start picking mushroom, start filling tub\n",
    "* 2030: beat round event, finished round event\n",
    "* 2035: beat round, finish\n",
    "* 2060: start tutorial\n",
    "* 2070: finishes tutorial\n",
    "* 2075: skip tutorial\n",
    "* 2080: movie start event, more relevant to first play through when skip is available\n",
    "* 2081: movie skipped\n",
    "* 2083: movie ends\n",
    "* 3010: system-initiated instruction event\n",
    "* 3020: system-initiated feedback - incorrect events\n",
    "* 3021: system-initiated feedback - correct events\n",
    "* 3110: end system-initiated instruction event, useful for amount of time on feedback\n",
    "* 3120: end system-initiated feedback - incorrect events, useful for how much time on feedback\n",
    "* 3121: system-initiated feedback - correct events, useful for how much time on feedback\n",
    "* 4010: player clicks start game from start screen\n",
    "* 4020: player action in game\n",
    "* 4021: player action in game\n",
    "* 4022: player action in game\n",
    "* 4025: player action in game\n",
    "* 4030: player action in game\n",
    "* 4035: player action in game, drag resource to someplace other than acceptable area\n",
    "* 4040: player action in game\n",
    "* 4045: player action in game\n",
    "* 4070: player action in game, clicks something that isn't covered elsewhere, near miss, attractive distraction\n",
    "* 4080: hovers mouse over interactive object\n",
    "* 4090: clicks help button (followed by 3010)\n",
    "* 4095: clicks play again\n",
    "* 4100: clicks done, submits a solution\n",
    "* 4110: clicks done, submits a solution, clicks GO during tutorial phase\n",
    "\n",
    "So there is different feedback and instructions. How does that play into everything? Might check `event_info`."
   ]
  },
  {
   "cell_type": "markdown",
   "metadata": {},
   "source": [
    "## Merge train and specs to get event_code"
   ]
  },
  {
   "cell_type": "code",
   "execution_count": null,
   "metadata": {},
   "outputs": [],
   "source": [
    "train = train[train['event_id', 'event_code']]"
   ]
  },
  {
   "cell_type": "code",
   "execution_count": null,
   "metadata": {},
   "outputs": [],
   "source": [
    "enh_specs = specs.merge(train, on='event_id')"
   ]
  },
  {
   "cell_type": "code",
   "execution_count": 81,
   "metadata": {},
   "outputs": [
    {
     "data": {
      "text/html": [
       "<div>\n",
       "<style scoped>\n",
       "    .dataframe tbody tr th:only-of-type {\n",
       "        vertical-align: middle;\n",
       "    }\n",
       "\n",
       "    .dataframe tbody tr th {\n",
       "        vertical-align: top;\n",
       "    }\n",
       "\n",
       "    .dataframe thead th {\n",
       "        text-align: right;\n",
       "    }\n",
       "</style>\n",
       "<table border=\"1\" class=\"dataframe\">\n",
       "  <thead>\n",
       "    <tr style=\"text-align: right;\">\n",
       "      <th></th>\n",
       "      <th>event_id</th>\n",
       "      <th>info</th>\n",
       "      <th>args</th>\n",
       "      <th>event_code</th>\n",
       "    </tr>\n",
       "  </thead>\n",
       "  <tbody>\n",
       "    <tr>\n",
       "      <th>0</th>\n",
       "      <td>2b9272f4</td>\n",
       "      <td>The end of system-initiated feedback (Correct)...</td>\n",
       "      <td>[{\"name\":\"game_time\",\"type\":\"int\",\"info\":\"mill...</td>\n",
       "      <td>4070</td>\n",
       "    </tr>\n",
       "    <tr>\n",
       "      <th>1</th>\n",
       "      <td>df4fe8b6</td>\n",
       "      <td>The end of system-initiated feedback (Incorrec...</td>\n",
       "      <td>[{\"name\":\"game_time\",\"type\":\"int\",\"info\":\"mill...</td>\n",
       "      <td>4030</td>\n",
       "    </tr>\n",
       "    <tr>\n",
       "      <th>2</th>\n",
       "      <td>3babcb9b</td>\n",
       "      <td>The end of system-initiated instruction event ...</td>\n",
       "      <td>[{\"name\":\"game_time\",\"type\":\"int\",\"info\":\"mill...</td>\n",
       "      <td>4030</td>\n",
       "    </tr>\n",
       "    <tr>\n",
       "      <th>3</th>\n",
       "      <td>7f0836bf</td>\n",
       "      <td>The end of system-initiated instruction event ...</td>\n",
       "      <td>[{\"name\":\"game_time\",\"type\":\"int\",\"info\":\"mill...</td>\n",
       "      <td>4070</td>\n",
       "    </tr>\n",
       "    <tr>\n",
       "      <th>4</th>\n",
       "      <td>ab3136ba</td>\n",
       "      <td>The end of system-initiated instruction event ...</td>\n",
       "      <td>[{\"name\":\"game_time\",\"type\":\"int\",\"info\":\"mill...</td>\n",
       "      <td>4030</td>\n",
       "    </tr>\n",
       "    <tr>\n",
       "      <th>...</th>\n",
       "      <td>...</td>\n",
       "      <td>...</td>\n",
       "      <td>...</td>\n",
       "      <td>...</td>\n",
       "    </tr>\n",
       "    <tr>\n",
       "      <th>379</th>\n",
       "      <td>29f54413</td>\n",
       "      <td>The start round event is triggered at the star...</td>\n",
       "      <td>[{\"name\":\"game_time\",\"type\":\"int\",\"info\":\"mill...</td>\n",
       "      <td>4035</td>\n",
       "    </tr>\n",
       "    <tr>\n",
       "      <th>380</th>\n",
       "      <td>06372577</td>\n",
       "      <td>The start tutorial event is triggered at the s...</td>\n",
       "      <td>[{\"name\":\"game_time\",\"type\":\"int\",\"info\":\"mill...</td>\n",
       "      <td>4030</td>\n",
       "    </tr>\n",
       "    <tr>\n",
       "      <th>381</th>\n",
       "      <td>2a444e03</td>\n",
       "      <td>This event occurs when the player picks up a w...</td>\n",
       "      <td>[{\"name\":\"game_time\",\"type\":\"int\",\"info\":\"mill...</td>\n",
       "      <td>4030</td>\n",
       "    </tr>\n",
       "    <tr>\n",
       "      <th>382</th>\n",
       "      <td>9e6b7fb5</td>\n",
       "      <td>This event occurs when the player clicks on th...</td>\n",
       "      <td>[{\"name\":\"game_time\",\"type\":\"int\",\"info\":\"mill...</td>\n",
       "      <td>4030</td>\n",
       "    </tr>\n",
       "    <tr>\n",
       "      <th>383</th>\n",
       "      <td>d3640339</td>\n",
       "      <td>This event occurs when the player clicks on th...</td>\n",
       "      <td>[{\"name\":\"game_time\",\"type\":\"int\",\"info\":\"mill...</td>\n",
       "      <td>3010</td>\n",
       "    </tr>\n",
       "  </tbody>\n",
       "</table>\n",
       "<p>384 rows × 4 columns</p>\n",
       "</div>"
      ],
      "text/plain": [
       "     event_id                                               info  \\\n",
       "0    2b9272f4  The end of system-initiated feedback (Correct)...   \n",
       "1    df4fe8b6  The end of system-initiated feedback (Incorrec...   \n",
       "2    3babcb9b  The end of system-initiated instruction event ...   \n",
       "3    7f0836bf  The end of system-initiated instruction event ...   \n",
       "4    ab3136ba  The end of system-initiated instruction event ...   \n",
       "..        ...                                                ...   \n",
       "379  29f54413  The start round event is triggered at the star...   \n",
       "380  06372577  The start tutorial event is triggered at the s...   \n",
       "381  2a444e03  This event occurs when the player picks up a w...   \n",
       "382  9e6b7fb5  This event occurs when the player clicks on th...   \n",
       "383  d3640339  This event occurs when the player clicks on th...   \n",
       "\n",
       "                                                  args  event_code  \n",
       "0    [{\"name\":\"game_time\",\"type\":\"int\",\"info\":\"mill...        4070  \n",
       "1    [{\"name\":\"game_time\",\"type\":\"int\",\"info\":\"mill...        4030  \n",
       "2    [{\"name\":\"game_time\",\"type\":\"int\",\"info\":\"mill...        4030  \n",
       "3    [{\"name\":\"game_time\",\"type\":\"int\",\"info\":\"mill...        4070  \n",
       "4    [{\"name\":\"game_time\",\"type\":\"int\",\"info\":\"mill...        4030  \n",
       "..                                                 ...         ...  \n",
       "379  [{\"name\":\"game_time\",\"type\":\"int\",\"info\":\"mill...        4035  \n",
       "380  [{\"name\":\"game_time\",\"type\":\"int\",\"info\":\"mill...        4030  \n",
       "381  [{\"name\":\"game_time\",\"type\":\"int\",\"info\":\"mill...        4030  \n",
       "382  [{\"name\":\"game_time\",\"type\":\"int\",\"info\":\"mill...        4030  \n",
       "383  [{\"name\":\"game_time\",\"type\":\"int\",\"info\":\"mill...        3010  \n",
       "\n",
       "[384 rows x 4 columns]"
      ]
     },
     "execution_count": 81,
     "metadata": {},
     "output_type": "execute_result"
    }
   ],
   "source": [
    "enh_specs"
   ]
  }
 ],
 "metadata": {
  "kernelspec": {
   "display_name": "Python 3",
   "language": "python",
   "name": "python3"
  },
  "language_info": {
   "codemirror_mode": {
    "name": "ipython",
    "version": 3
   },
   "file_extension": ".py",
   "mimetype": "text/x-python",
   "name": "python",
   "nbconvert_exporter": "python",
   "pygments_lexer": "ipython3",
   "version": "3.7.5"
  }
 },
 "nbformat": 4,
 "nbformat_minor": 2
}

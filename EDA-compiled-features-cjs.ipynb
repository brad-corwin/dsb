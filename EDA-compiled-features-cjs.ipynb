{
 "cells": [
  {
   "cell_type": "code",
   "execution_count": 1,
   "metadata": {
    "ExecuteTime": {
     "end_time": "2020-01-02T18:45:58.071677Z",
     "start_time": "2020-01-02T18:45:56.308105Z"
    }
   },
   "outputs": [],
   "source": [
    "import joblib\n",
    "import numpy as np\n",
    "import pandas as pd\n",
    "import matplotlib.pyplot as plt\n",
    "import seaborn as sns\n",
    "from tqdm.notebook import tqdm\n",
    "from collections import Counter\n",
    "\n",
    "# local imports\n",
    "from prepare import *"
   ]
  },
  {
   "cell_type": "code",
   "execution_count": 2,
   "metadata": {
    "ExecuteTime": {
     "end_time": "2020-01-02T18:46:07.091953Z",
     "start_time": "2020-01-02T18:45:58.072658Z"
    }
   },
   "outputs": [],
   "source": [
    "compiled_train_data = joblib.load('compiled_train_data.pkl')\n",
    "compiled_test_data = joblib.load('compiled_test_data.pkl')\n",
    "train_labels = pd.read_csv('data/train_labels.csv')"
   ]
  },
  {
   "cell_type": "code",
   "execution_count": null,
   "metadata": {},
   "outputs": [],
   "source": []
  },
  {
   "cell_type": "code",
   "execution_count": 3,
   "metadata": {
    "ExecuteTime": {
     "end_time": "2020-01-02T18:46:08.389836Z",
     "start_time": "2020-01-02T18:46:07.093782Z"
    }
   },
   "outputs": [],
   "source": [
    "compiled_train = pd.concat(compiled_train_data, axis=1).T\n",
    "\n",
    "compiled_train.drop('installation_id_slice', axis=1, inplace=True)\n",
    "\n",
    "compiled_test = pd.concat(compiled_test_data, axis=1).T"
   ]
  },
  {
   "cell_type": "code",
   "execution_count": 4,
   "metadata": {
    "ExecuteTime": {
     "end_time": "2020-01-02T18:46:09.634575Z",
     "start_time": "2020-01-02T18:46:08.391663Z"
    }
   },
   "outputs": [],
   "source": [
    "compiled_train = numerize(compiled_train)"
   ]
  },
  {
   "cell_type": "code",
   "execution_count": 5,
   "metadata": {
    "ExecuteTime": {
     "end_time": "2020-01-02T18:46:09.724568Z",
     "start_time": "2020-01-02T18:46:09.635548Z"
    }
   },
   "outputs": [
    {
     "data": {
      "text/html": [
       "<div>\n",
       "<style scoped>\n",
       "    .dataframe tbody tr th:only-of-type {\n",
       "        vertical-align: middle;\n",
       "    }\n",
       "\n",
       "    .dataframe tbody tr th {\n",
       "        vertical-align: top;\n",
       "    }\n",
       "\n",
       "    .dataframe thead th {\n",
       "        text-align: right;\n",
       "    }\n",
       "</style>\n",
       "<table border=\"1\" class=\"dataframe\">\n",
       "  <thead>\n",
       "    <tr style=\"text-align: right;\">\n",
       "      <th></th>\n",
       "      <th>event_id</th>\n",
       "      <th>game_session</th>\n",
       "      <th>timestamp</th>\n",
       "      <th>event_data</th>\n",
       "      <th>installation_id</th>\n",
       "      <th>event_count</th>\n",
       "      <th>event_code</th>\n",
       "      <th>game_time</th>\n",
       "      <th>title</th>\n",
       "      <th>type</th>\n",
       "      <th>...</th>\n",
       "      <th>avg_event_count</th>\n",
       "      <th>avg_review_incorrect_feedback</th>\n",
       "      <th>avg_review_correct_feedback</th>\n",
       "      <th>total_rounds_beat</th>\n",
       "      <th>total_movies_skipped</th>\n",
       "      <th>total_movies_watched</th>\n",
       "      <th>total_elsewhere_clicks</th>\n",
       "      <th>total_help_button_clicks</th>\n",
       "      <th>total_play_again</th>\n",
       "      <th>accuracy_group</th>\n",
       "    </tr>\n",
       "  </thead>\n",
       "  <tbody>\n",
       "    <tr>\n",
       "      <th>0</th>\n",
       "      <td>3bfd1a65</td>\n",
       "      <td>901acc108f55a5a1</td>\n",
       "      <td>1565068921344000000</td>\n",
       "      <td>{\"version\":\"1.0\",\"event_count\":1,\"game_time\":0...</td>\n",
       "      <td>0006a69f</td>\n",
       "      <td>1</td>\n",
       "      <td>2000</td>\n",
       "      <td>0</td>\n",
       "      <td>Mushroom Sorter (Assessment)</td>\n",
       "      <td>Assessment</td>\n",
       "      <td>...</td>\n",
       "      <td>56.285494</td>\n",
       "      <td>313.142857</td>\n",
       "      <td>4015.888889</td>\n",
       "      <td>18</td>\n",
       "      <td>1</td>\n",
       "      <td>2</td>\n",
       "      <td>94</td>\n",
       "      <td>4</td>\n",
       "      <td>0</td>\n",
       "      <td>3</td>\n",
       "    </tr>\n",
       "    <tr>\n",
       "      <th>1</th>\n",
       "      <td>f56e0afc</td>\n",
       "      <td>77b8ee947eb84b4e</td>\n",
       "      <td>1565069719167000000</td>\n",
       "      <td>{\"version\":\"1.0\",\"event_count\":1,\"game_time\":0...</td>\n",
       "      <td>0006a69f</td>\n",
       "      <td>1</td>\n",
       "      <td>2000</td>\n",
       "      <td>0</td>\n",
       "      <td>Bird Measurer (Assessment)</td>\n",
       "      <td>Assessment</td>\n",
       "      <td>...</td>\n",
       "      <td>67.083042</td>\n",
       "      <td>1771.272727</td>\n",
       "      <td>3103.875000</td>\n",
       "      <td>23</td>\n",
       "      <td>1</td>\n",
       "      <td>2</td>\n",
       "      <td>156</td>\n",
       "      <td>4</td>\n",
       "      <td>0</td>\n",
       "      <td>0</td>\n",
       "    </tr>\n",
       "    <tr>\n",
       "      <th>2</th>\n",
       "      <td>3bfd1a65</td>\n",
       "      <td>6bdf9623adc94d89</td>\n",
       "      <td>1565069870020000000</td>\n",
       "      <td>{\"version\":\"1.0\",\"event_count\":1,\"game_time\":0...</td>\n",
       "      <td>0006a69f</td>\n",
       "      <td>1</td>\n",
       "      <td>2000</td>\n",
       "      <td>0</td>\n",
       "      <td>Mushroom Sorter (Assessment)</td>\n",
       "      <td>Assessment</td>\n",
       "      <td>...</td>\n",
       "      <td>65.451665</td>\n",
       "      <td>1871.727273</td>\n",
       "      <td>3103.875000</td>\n",
       "      <td>23</td>\n",
       "      <td>1</td>\n",
       "      <td>2</td>\n",
       "      <td>160</td>\n",
       "      <td>4</td>\n",
       "      <td>0</td>\n",
       "      <td>3</td>\n",
       "    </tr>\n",
       "    <tr>\n",
       "      <th>3</th>\n",
       "      <td>3bfd1a65</td>\n",
       "      <td>9501794defd84e4d</td>\n",
       "      <td>1565123693812000000</td>\n",
       "      <td>{\"version\":\"1.0\",\"event_count\":1,\"game_time\":0...</td>\n",
       "      <td>0006a69f</td>\n",
       "      <td>1</td>\n",
       "      <td>2000</td>\n",
       "      <td>0</td>\n",
       "      <td>Mushroom Sorter (Assessment)</td>\n",
       "      <td>Assessment</td>\n",
       "      <td>...</td>\n",
       "      <td>62.608959</td>\n",
       "      <td>2427.520000</td>\n",
       "      <td>2544.594595</td>\n",
       "      <td>47</td>\n",
       "      <td>2</td>\n",
       "      <td>5</td>\n",
       "      <td>348</td>\n",
       "      <td>4</td>\n",
       "      <td>1</td>\n",
       "      <td>2</td>\n",
       "    </tr>\n",
       "    <tr>\n",
       "      <th>4</th>\n",
       "      <td>f56e0afc</td>\n",
       "      <td>a9ef3ecb3d1acc6a</td>\n",
       "      <td>1565124599095000000</td>\n",
       "      <td>{\"version\":\"1.0\",\"event_count\":1,\"game_time\":0...</td>\n",
       "      <td>0006a69f</td>\n",
       "      <td>1</td>\n",
       "      <td>2000</td>\n",
       "      <td>0</td>\n",
       "      <td>Bird Measurer (Assessment)</td>\n",
       "      <td>Assessment</td>\n",
       "      <td>...</td>\n",
       "      <td>62.157198</td>\n",
       "      <td>2467.700000</td>\n",
       "      <td>2309.920000</td>\n",
       "      <td>58</td>\n",
       "      <td>2</td>\n",
       "      <td>5</td>\n",
       "      <td>387</td>\n",
       "      <td>4</td>\n",
       "      <td>1</td>\n",
       "      <td>3</td>\n",
       "    </tr>\n",
       "  </tbody>\n",
       "</table>\n",
       "<p>5 rows × 70 columns</p>\n",
       "</div>"
      ],
      "text/plain": [
       "   event_id      game_session            timestamp  \\\n",
       "0  3bfd1a65  901acc108f55a5a1  1565068921344000000   \n",
       "1  f56e0afc  77b8ee947eb84b4e  1565069719167000000   \n",
       "2  3bfd1a65  6bdf9623adc94d89  1565069870020000000   \n",
       "3  3bfd1a65  9501794defd84e4d  1565123693812000000   \n",
       "4  f56e0afc  a9ef3ecb3d1acc6a  1565124599095000000   \n",
       "\n",
       "                                          event_data installation_id  \\\n",
       "0  {\"version\":\"1.0\",\"event_count\":1,\"game_time\":0...        0006a69f   \n",
       "1  {\"version\":\"1.0\",\"event_count\":1,\"game_time\":0...        0006a69f   \n",
       "2  {\"version\":\"1.0\",\"event_count\":1,\"game_time\":0...        0006a69f   \n",
       "3  {\"version\":\"1.0\",\"event_count\":1,\"game_time\":0...        0006a69f   \n",
       "4  {\"version\":\"1.0\",\"event_count\":1,\"game_time\":0...        0006a69f   \n",
       "\n",
       "   event_count  event_code  game_time                         title  \\\n",
       "0            1        2000          0  Mushroom Sorter (Assessment)   \n",
       "1            1        2000          0    Bird Measurer (Assessment)   \n",
       "2            1        2000          0  Mushroom Sorter (Assessment)   \n",
       "3            1        2000          0  Mushroom Sorter (Assessment)   \n",
       "4            1        2000          0    Bird Measurer (Assessment)   \n",
       "\n",
       "         type  ... avg_event_count  avg_review_incorrect_feedback  \\\n",
       "0  Assessment  ...       56.285494                     313.142857   \n",
       "1  Assessment  ...       67.083042                    1771.272727   \n",
       "2  Assessment  ...       65.451665                    1871.727273   \n",
       "3  Assessment  ...       62.608959                    2427.520000   \n",
       "4  Assessment  ...       62.157198                    2467.700000   \n",
       "\n",
       "   avg_review_correct_feedback  total_rounds_beat  total_movies_skipped  \\\n",
       "0                  4015.888889                 18                     1   \n",
       "1                  3103.875000                 23                     1   \n",
       "2                  3103.875000                 23                     1   \n",
       "3                  2544.594595                 47                     2   \n",
       "4                  2309.920000                 58                     2   \n",
       "\n",
       "   total_movies_watched  total_elsewhere_clicks  total_help_button_clicks  \\\n",
       "0                     2                      94                         4   \n",
       "1                     2                     156                         4   \n",
       "2                     2                     160                         4   \n",
       "3                     5                     348                         4   \n",
       "4                     5                     387                         4   \n",
       "\n",
       "   total_play_again  accuracy_group  \n",
       "0                 0               3  \n",
       "1                 0               0  \n",
       "2                 0               3  \n",
       "3                 1               2  \n",
       "4                 1               3  \n",
       "\n",
       "[5 rows x 70 columns]"
      ]
     },
     "execution_count": 5,
     "metadata": {},
     "output_type": "execute_result"
    }
   ],
   "source": [
    "compiled_train = pd.merge(compiled_train, train_labels[['installation_id','game_session','accuracy_group']], \\\n",
    "                  on=['installation_id','game_session'])\n",
    "compiled_train.head()"
   ]
  },
  {
   "cell_type": "code",
   "execution_count": 6,
   "metadata": {
    "ExecuteTime": {
     "end_time": "2020-01-02T18:46:09.728539Z",
     "start_time": "2020-01-02T18:46:09.725568Z"
    }
   },
   "outputs": [],
   "source": [
    "#pd.plotting.scatter_matrix(compiled_train)"
   ]
  },
  {
   "cell_type": "code",
   "execution_count": 10,
   "metadata": {
    "ExecuteTime": {
     "end_time": "2020-01-02T18:47:58.132891Z",
     "start_time": "2020-01-02T18:47:58.128895Z"
    }
   },
   "outputs": [
    {
     "data": {
      "text/plain": [
       "(17690, 70)"
      ]
     },
     "execution_count": 10,
     "metadata": {},
     "output_type": "execute_result"
    }
   ],
   "source": [
    "compiled_train.shape"
   ]
  },
  {
   "cell_type": "code",
   "execution_count": null,
   "metadata": {
    "ExecuteTime": {
     "end_time": "2020-01-02T20:14:42.463033Z",
     "start_time": "2020-01-02T19:46:00.038Z"
    }
   },
   "outputs": [],
   "source": [
    "sns.pairplot(compiled_train,\n",
    "            x_vars='accuracy_group',\n",
    "            y_vars='event_code')\n",
    "sns.pairplot(compiled_train,\n",
    "            x_vars='accuracy_group',\n",
    "            y_vars='game_time')"
   ]
  },
  {
   "cell_type": "code",
   "execution_count": null,
   "metadata": {
    "ExecuteTime": {
     "end_time": "2020-01-02T20:14:42.464032Z",
     "start_time": "2020-01-02T20:01:29.374Z"
    }
   },
   "outputs": [],
   "source": [
    "import webbrowser\n",
    "webbrowser.open('https://www.youtube.com/watch?v=xULTMMgwLuo')"
   ]
  },
  {
   "cell_type": "code",
   "execution_count": 28,
   "metadata": {
    "ExecuteTime": {
     "end_time": "2020-01-02T20:20:39.126879Z",
     "start_time": "2020-01-02T20:20:38.968735Z"
    }
   },
   "outputs": [
    {
     "data": {
      "text/plain": [
       "accuracy_group                         1.000000\n",
       "avg_review_correct_feedback            0.016012\n",
       "title_Chest Sorter (Assessment)        0.010629\n",
       "title_Bubble Bath                     -0.002054\n",
       "timestamp                             -0.003067\n",
       "total_rounds_beat                     -0.003642\n",
       "total_movies_watched                  -0.005226\n",
       "title_Dino Dive                       -0.006626\n",
       "title_Balancing Act                   -0.010555\n",
       "avg_review_incorrect_feedback         -0.011297\n",
       "title_Pan Balance                     -0.013993\n",
       "title_Bottle Filler (Activity)        -0.015521\n",
       "title_Happy Camel                     -0.017576\n",
       "title_Air Show                        -0.019286\n",
       "total_play_again                      -0.019493\n",
       "title_Watering Hole (Activity)        -0.019563\n",
       "title_Crystals Rule                   -0.020599\n",
       "title_Honey Cake                      -0.022044\n",
       "title_Dino Drink                      -0.025667\n",
       "title_Scrub-A-Dub                     -0.029009\n",
       "title_Fireworks (Activity)            -0.031158\n",
       "title_Chicken Balancer (Activity)     -0.031819\n",
       "title_Flower Waterer (Activity)       -0.032944\n",
       "title_Costume Box                     -0.034023\n",
       "title_Bird Measurer (Assessment)      -0.035217\n",
       "title_Pirate's Tale                   -0.035354\n",
       "title_Leaf Leader                     -0.035740\n",
       "total_movies_skipped                  -0.041000\n",
       "title_Egg Dropper (Activity)          -0.043096\n",
       "world_CRYSTALCAVES                    -0.043792\n",
       "title_Rulers                          -0.043893\n",
       "title_Treasure Map                    -0.046380\n",
       "title_All Star Sorting                -0.052985\n",
       "world_MAGMAPEAK                       -0.053922\n",
       "world_TREETOPCITY                     -0.055031\n",
       "title_Lifting Heavy Things            -0.056226\n",
       "title_Heavy, Heavier, Heaviest        -0.056394\n",
       "title_Chow Time                       -0.060525\n",
       "title_Bug Measurer (Activity)         -0.072223\n",
       "title_Cart Balancer (Assessment)      -0.072942\n",
       "total_event_count                     -0.074920\n",
       "title_Tree Top City - Level 3         -0.076403\n",
       "title_Sandcastle Builder (Activity)   -0.080413\n",
       "title_Magma Peak - Level 2            -0.082437\n",
       "title_Tree Top City - Level 2         -0.082549\n",
       "title_12 Monkeys                      -0.085148\n",
       "avg_event_count                       -0.086450\n",
       "total_elsewhere_clicks                -0.094322\n",
       "title_Crystal Caves - Level 2         -0.096386\n",
       "title_Welcome to Lost Lagoon!         -0.097720\n",
       "Name: accuracy_group, dtype: float64"
      ]
     },
     "execution_count": 28,
     "metadata": {},
     "output_type": "execute_result"
    }
   ],
   "source": [
    "import pandas as pd\n",
    "import numpy as np\n",
    "\n",
    "c = compiled_train.corr()\n",
    "\n",
    "c.accuracy_group.sort_values(ascending=False)[0:50]"
   ]
  },
  {
   "cell_type": "code",
   "execution_count": null,
   "metadata": {},
   "outputs": [],
   "source": []
  }
 ],
 "metadata": {
  "hide_input": false,
  "kernelspec": {
   "display_name": "DataScienceBowl",
   "language": "python",
   "name": "datasciencebowl"
  },
  "language_info": {
   "codemirror_mode": {
    "name": "ipython",
    "version": 3
   },
   "file_extension": ".py",
   "mimetype": "text/x-python",
   "name": "python",
   "nbconvert_exporter": "python",
   "pygments_lexer": "ipython3",
   "version": "3.7.0"
  }
 },
 "nbformat": 4,
 "nbformat_minor": 2
}

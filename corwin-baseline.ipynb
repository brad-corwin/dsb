{
 "cells": [
  {
   "cell_type": "code",
   "execution_count": 1,
   "metadata": {},
   "outputs": [],
   "source": [
    "import numpy as np\n",
    "import pandas as pd\n",
    "import matplotlib.pyplot as plt"
   ]
  },
  {
   "cell_type": "markdown",
   "metadata": {},
   "source": [
    "# Load the Data"
   ]
  },
  {
   "cell_type": "code",
   "execution_count": 2,
   "metadata": {},
   "outputs": [],
   "source": [
    "train = pd.read_csv('data/train.csv')\n",
    "train_labels = pd.read_csv('data/train_labels.csv')\n",
    "test = pd.read_csv('data/test.csv')\n",
    "specs = pd.read_csv('data/specs.csv')\n",
    "sample = pd.read_csv('data/sample_submission.csv')"
   ]
  },
  {
   "cell_type": "markdown",
   "metadata": {},
   "source": [
    "Source: https://www.kaggle.com/erikbruin/data-science-bowl-2019-eda-and-baseline\n",
    "\n",
    "So we have 11 million rows and just 11 columns. However, Kaggle provided the following note: Note that the training set contains many installation_ids which never took assessments, whereas every installation_id in the test set made an attempt on at least one assessment.\n",
    "\n",
    "As there is no point in keeping training data that cannot be used for training anyway, I am getting rid of the installation_ids that never took an assessment"
   ]
  },
  {
   "cell_type": "code",
   "execution_count": 3,
   "metadata": {},
   "outputs": [],
   "source": [
    "# filtering by ids that took assessments\n",
    "ids_w_assessments = train[train['type'] == 'Assessment']['installation_id'].drop_duplicates()\n",
    "train = train[train['installation_id'].isin(ids_w_assessments)]"
   ]
  },
  {
   "cell_type": "code",
   "execution_count": 10,
   "metadata": {},
   "outputs": [],
   "source": [
    "# convert timestamp to correct datetime type\n",
    "train['timestamp'] = pd.to_datetime(train['timestamp'], infer_datetime_format=True)"
   ]
  },
  {
   "cell_type": "code",
   "execution_count": 24,
   "metadata": {},
   "outputs": [],
   "source": [
    "from tqdm.notebook import tqdm"
   ]
  },
  {
   "cell_type": "code",
   "execution_count": 25,
   "metadata": {},
   "outputs": [],
   "source": [
    "def process_data(df):\n",
    "    types = train['type'].unique() + '_counts'\n",
    "    totals = ['total_game_time', 'total_event_count']\n",
    "    flattened = pd.DataFrame(columns=list(train.columns) + list(types) + totals)\n",
    "    \n",
    "    for installation in tqdm(df['installation_id'].unique()):\n",
    "        for world in df[df['installation_id'] == installation]['world'].unique():\n",
    "            sl = df[df['installation_id'] == installation].copy()\n",
    "            sl = sl[sl['world'] == world]\n",
    "            \n",
    "            condensed = pd.DataFrame(columns=sl.columns)\n",
    "\n",
    "            for key, group in sl.groupby(['game_session']):\n",
    "                temp = pd.DataFrame(index=range(1,2), columns=sl.columns)\n",
    "\n",
    "                unique_cols = ['event_id', 'game_session', 'installation_id', 'title', 'type', 'world']\n",
    "                for col in unique_cols:\n",
    "                    temp[col] = group[col].unique()[0]\n",
    "\n",
    "                last_val_cols = ['timestamp', 'event_count', 'game_time']\n",
    "                for col in last_val_cols:\n",
    "                    temp[col] = group[col].iloc[-1]\n",
    "\n",
    "                condensed = condensed.append(temp, ignore_index=True)\n",
    "                \n",
    "                # group activities by assessment\n",
    "                condensed['assessment_group'] = np.nan\n",
    "                list_assessement_groups = np.arange(len(condensed.loc[condensed['type'] == 'Assessment', 'assessment_group']))\n",
    "                condensed.loc[condensed['type'] == 'Assessment', 'assessment_group'] = list_assessement_groups\n",
    "                condensed['assessment_group'].fillna(method='backfill', inplace=True)\n",
    "                \n",
    "                cm = condensed.merge(train_labels, on=['game_session', 'installation_id', 'title'], how='left')\n",
    "                \n",
    "                for key, group in cm.groupby(['assessment_group']):\n",
    "                    temp1 = pd.DataFrame(index=range(1,2), columns=list(train.columns) + list(types) + totals)\n",
    "                    temp_counts = group['type'].value_counts()\n",
    "\n",
    "                    for col in group.columns:\n",
    "                        temp1[col] = group[col].iloc[-1]\n",
    "\n",
    "                    for key, value in temp_counts.items():\n",
    "                        temp1[key + '_counts'] = value\n",
    "\n",
    "                    temp1['total_game_time'] = sum(group['game_time'])\n",
    "                    temp1['total_event_count'] = sum(group['event_count'])\n",
    "\n",
    "                    flattened = flattened.append(temp1, ignore_index=True)\n",
    "                    \n",
    "    return flattened"
   ]
  },
  {
   "cell_type": "code",
   "execution_count": null,
   "metadata": {
    "scrolled": true
   },
   "outputs": [
    {
     "data": {
      "application/vnd.jupyter.widget-view+json": {
       "model_id": "4e54ec167433484f8181db061a495d85",
       "version_major": 2,
       "version_minor": 0
      },
      "text/plain": [
       "HBox(children=(FloatProgress(value=0.0, max=4242.0), HTML(value='')))"
      ]
     },
     "metadata": {},
     "output_type": "display_data"
    }
   ],
   "source": [
    "flattened = process_data(train)"
   ]
  },
  {
   "cell_type": "code",
   "execution_count": null,
   "metadata": {},
   "outputs": [],
   "source": [
    "flattened.shape"
   ]
  },
  {
   "cell_type": "code",
   "execution_count": null,
   "metadata": {},
   "outputs": [],
   "source": [
    "flattened.to_pickle('data/ftrain.pkl')"
   ]
  },
  {
   "cell_type": "code",
   "execution_count": null,
   "metadata": {},
   "outputs": [],
   "source": []
  }
 ],
 "metadata": {
  "kernelspec": {
   "display_name": "Python 3",
   "language": "python",
   "name": "python3"
  },
  "language_info": {
   "codemirror_mode": {
    "name": "ipython",
    "version": 3
   },
   "file_extension": ".py",
   "mimetype": "text/x-python",
   "name": "python",
   "nbconvert_exporter": "python",
   "pygments_lexer": "ipython3",
   "version": "3.7.5"
  }
 },
 "nbformat": 4,
 "nbformat_minor": 2
}

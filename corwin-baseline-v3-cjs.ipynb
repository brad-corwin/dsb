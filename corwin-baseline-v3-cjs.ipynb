{
 "cells": [
  {
   "cell_type": "code",
   "execution_count": 1,
   "metadata": {
    "ExecuteTime": {
     "end_time": "2020-01-03T15:44:40.000052Z",
     "start_time": "2020-01-03T15:44:38.052319Z"
    }
   },
   "outputs": [],
   "source": [
    "import numpy as np\n",
    "import pandas as pd\n",
    "import matplotlib.pyplot as plt\n",
    "import joblib\n",
    "from tqdm.notebook import tqdm\n",
    "from collections import Counter\n",
    "\n",
    "# local imports\n",
    "from prepare import *\n",
    "from evaluate import *"
   ]
  },
  {
   "cell_type": "code",
   "execution_count": 2,
   "metadata": {
    "ExecuteTime": {
     "end_time": "2020-01-03T15:33:29.716254Z",
     "start_time": "2020-01-03T15:32:48.170124Z"
    }
   },
   "outputs": [],
   "source": [
    "raw_train, raw_train_labels, raw_test, specs, sample = read_raw_csvs()"
   ]
  },
  {
   "cell_type": "markdown",
   "metadata": {},
   "source": [
    "## Shorten dataframes to speed up testing"
   ]
  },
  {
   "cell_type": "code",
   "execution_count": 9,
   "metadata": {
    "ExecuteTime": {
     "end_time": "2020-01-03T15:24:44.620188Z",
     "start_time": "2020-01-03T15:24:44.597682Z"
    }
   },
   "outputs": [
    {
     "name": "stdout",
     "output_type": "stream",
     "text": [
      "Couldn't find program: 'false'\n"
     ]
    }
   ],
   "source": [
    "%%script false\n",
    "## Comment out above line to run this cell\n",
    "\n",
    "frames = [raw_train, raw_train_labels, raw_test]#, specs, sample]\n",
    "\n",
    "for i, df in enumerate(frames):\n",
    "    frames[i] = frames[i][0:round(0.1*frames[i].shape[0])]\n",
    "    print(frames[i].shape)"
   ]
  },
  {
   "cell_type": "code",
   "execution_count": 4,
   "metadata": {
    "ExecuteTime": {
     "end_time": "2020-01-03T15:35:09.393297Z",
     "start_time": "2020-01-03T15:35:08.599093Z"
    }
   },
   "outputs": [],
   "source": [
    "train = raw_train.copy()\n",
    "train_labels = raw_train_labels.copy()\n",
    "test = raw_test.copy()"
   ]
  },
  {
   "cell_type": "code",
   "execution_count": 5,
   "metadata": {
    "ExecuteTime": {
     "end_time": "2020-01-03T15:35:09.399089Z",
     "start_time": "2020-01-03T15:35:09.394087Z"
    }
   },
   "outputs": [
    {
     "data": {
      "text/plain": [
       "(11341042, 11)"
      ]
     },
     "execution_count": 5,
     "metadata": {},
     "output_type": "execute_result"
    }
   ],
   "source": [
    "train.shape"
   ]
  },
  {
   "cell_type": "markdown",
   "metadata": {},
   "source": [
    "## Run modified remove_dead_weight function"
   ]
  },
  {
   "cell_type": "code",
   "execution_count": 6,
   "metadata": {
    "ExecuteTime": {
     "end_time": "2020-01-03T15:35:31.149994Z",
     "start_time": "2020-01-03T15:35:26.085641Z"
    }
   },
   "outputs": [],
   "source": [
    "train = remove_dead_weight(train, train_labels)\n",
    "test = remove_dead_weight(test, train_labels, test_set=True)"
   ]
  },
  {
   "cell_type": "markdown",
   "metadata": {},
   "source": [
    "## Process time"
   ]
  },
  {
   "cell_type": "code",
   "execution_count": 7,
   "metadata": {
    "ExecuteTime": {
     "end_time": "2020-01-03T15:35:43.266573Z",
     "start_time": "2020-01-03T15:35:31.358943Z"
    }
   },
   "outputs": [],
   "source": [
    "# convert timestamp to correct datetime type\n",
    "train['timestamp'] = pd.to_datetime(train['timestamp'], infer_datetime_format=True)\n",
    "test['timestamp'] = pd.to_datetime(test['timestamp'], infer_datetime_format=True)"
   ]
  },
  {
   "cell_type": "code",
   "execution_count": 15,
   "metadata": {
    "ExecuteTime": {
     "end_time": "2020-01-03T15:25:02.427190Z",
     "start_time": "2020-01-03T15:25:02.424156Z"
    }
   },
   "outputs": [],
   "source": [
    "# have the ability to break datetime into year, month, day, etc with add_datepart in library"
   ]
  },
  {
   "cell_type": "markdown",
   "metadata": {},
   "source": [
    "## Encode data\n",
    "\n",
    "https://towardsdatascience.com/understanding-feature-engineering-part-2-categorical-data-f54324193e63"
   ]
  },
  {
   "cell_type": "code",
   "execution_count": 8,
   "metadata": {
    "ExecuteTime": {
     "end_time": "2020-01-03T15:35:59.029641Z",
     "start_time": "2020-01-03T15:35:43.267547Z"
    }
   },
   "outputs": [],
   "source": [
    "train, test = encode_col(train, test, 'title')\n",
    "train, test = encode_col(train, test, 'world')"
   ]
  },
  {
   "cell_type": "code",
   "execution_count": 95,
   "metadata": {
    "ExecuteTime": {
     "end_time": "2020-01-02T17:37:31.074431Z",
     "start_time": "2020-01-02T17:37:31.072431Z"
    }
   },
   "outputs": [],
   "source": [
    "#train.info(null_counts=True,verbose=True)"
   ]
  },
  {
   "cell_type": "code",
   "execution_count": 96,
   "metadata": {
    "ExecuteTime": {
     "end_time": "2020-01-02T17:37:31.087431Z",
     "start_time": "2020-01-02T17:37:31.076443Z"
    }
   },
   "outputs": [
    {
     "data": {
      "text/plain": [
       "(7696400, 59)"
      ]
     },
     "execution_count": 96,
     "metadata": {},
     "output_type": "execute_result"
    }
   ],
   "source": [
    "train.shape"
   ]
  },
  {
   "cell_type": "markdown",
   "metadata": {},
   "source": [
    "## Bin event codes"
   ]
  },
  {
   "cell_type": "code",
   "execution_count": 97,
   "metadata": {
    "ExecuteTime": {
     "end_time": "2020-01-02T17:37:31.095433Z",
     "start_time": "2020-01-02T17:37:31.090431Z"
    }
   },
   "outputs": [],
   "source": [
    "#TBD"
   ]
  },
  {
   "cell_type": "markdown",
   "metadata": {},
   "source": [
    "## Process Data\n",
    "\n",
    "https://www.kaggle.com/ragnar123/truncated-train-ensemble"
   ]
  },
  {
   "cell_type": "code",
   "execution_count": 98,
   "metadata": {
    "ExecuteTime": {
     "end_time": "2020-01-02T17:57:26.983054Z",
     "start_time": "2020-01-02T17:37:31.097429Z"
    }
   },
   "outputs": [
    {
     "data": {
      "application/vnd.jupyter.widget-view+json": {
       "model_id": "b86ac50cfec44ff0a6fb198a9be33f09",
       "version_major": 2,
       "version_minor": 0
      },
      "text/plain": [
       "HBox(children=(IntProgress(value=0, max=3614), HTML(value='')))"
      ]
     },
     "metadata": {},
     "output_type": "display_data"
    },
    {
     "name": "stdout",
     "output_type": "stream",
     "text": [
      "\n"
     ]
    },
    {
     "data": {
      "application/vnd.jupyter.widget-view+json": {
       "model_id": "9eb3652d1dad4489b656f4464804c35e",
       "version_major": 2,
       "version_minor": 0
      },
      "text/plain": [
       "HBox(children=(IntProgress(value=0, max=1000), HTML(value='')))"
      ]
     },
     "metadata": {},
     "output_type": "display_data"
    },
    {
     "name": "stdout",
     "output_type": "stream",
     "text": [
      "\n"
     ]
    },
    {
     "data": {
      "text/plain": [
       "['compiled_test_data.pkl']"
      ]
     },
     "execution_count": 98,
     "metadata": {},
     "output_type": "execute_result"
    }
   ],
   "source": [
    "# compiled_train_data = process_data(train)\n",
    "# compiled_test_data = process_data(test, test_set=True)\n",
    "\n",
    "# len(compiled_train_data)\n",
    "\n",
    "# import joblib\n",
    "# joblib.dump(compiled_train_data, 'compiled_train_data.pkl')\n",
    "# joblib.dump(compiled_test_data, 'compiled_test_data.pkl')\n"
   ]
  },
  {
   "cell_type": "code",
   "execution_count": 3,
   "metadata": {
    "ExecuteTime": {
     "end_time": "2020-01-04T01:58:35.338305Z",
     "start_time": "2020-01-04T01:58:24.382453Z"
    }
   },
   "outputs": [],
   "source": [
    "compiled_train_data = joblib.load('compiled_train_data.pkl')\n",
    "compiled_test_data = joblib.load('compiled_test_data.pkl')\n",
    "\n",
    "compiled_train = pd.concat(compiled_train_data, axis=1).T\n",
    "\n",
    "compiled_train.drop('installation_id_slice', axis=1, inplace=True)\n",
    "\n",
    "compiled_test = pd.concat(compiled_test_data, axis=1).T"
   ]
  },
  {
   "cell_type": "code",
   "execution_count": 20,
   "metadata": {
    "ExecuteTime": {
     "end_time": "2020-01-03T15:25:30.672869Z",
     "start_time": "2020-01-03T15:25:30.668870Z"
    }
   },
   "outputs": [],
   "source": [
    "#assert len(set(sample.installation_id).difference(set(test.installation_id))) == 0\n",
    "#compiled_train.shape, compiled_test.shape"
   ]
  },
  {
   "cell_type": "markdown",
   "metadata": {},
   "source": [
    "## Add accuracy group from train_labels dataframe"
   ]
  },
  {
   "cell_type": "code",
   "execution_count": 21,
   "metadata": {
    "ExecuteTime": {
     "end_time": "2020-01-03T15:25:30.682920Z",
     "start_time": "2020-01-03T15:25:30.673886Z"
    }
   },
   "outputs": [
    {
     "data": {
      "text/plain": [
       "Index(['game_session', 'installation_id', 'title', 'num_correct',\n",
       "       'num_incorrect', 'accuracy', 'accuracy_group'],\n",
       "      dtype='object')"
      ]
     },
     "execution_count": 21,
     "metadata": {},
     "output_type": "execute_result"
    }
   ],
   "source": [
    "# just verifying\n",
    "train_labels.columns"
   ]
  },
  {
   "cell_type": "code",
   "execution_count": 22,
   "metadata": {
    "ExecuteTime": {
     "end_time": "2020-01-03T15:25:30.848902Z",
     "start_time": "2020-01-03T15:25:30.683869Z"
    },
    "scrolled": true
   },
   "outputs": [
    {
     "data": {
      "text/html": [
       "<div>\n",
       "<style scoped>\n",
       "    .dataframe tbody tr th:only-of-type {\n",
       "        vertical-align: middle;\n",
       "    }\n",
       "\n",
       "    .dataframe tbody tr th {\n",
       "        vertical-align: top;\n",
       "    }\n",
       "\n",
       "    .dataframe thead th {\n",
       "        text-align: right;\n",
       "    }\n",
       "</style>\n",
       "<table border=\"1\" class=\"dataframe\">\n",
       "  <thead>\n",
       "    <tr style=\"text-align: right;\">\n",
       "      <th></th>\n",
       "      <th>event_id</th>\n",
       "      <th>game_session</th>\n",
       "      <th>timestamp</th>\n",
       "      <th>event_data</th>\n",
       "      <th>installation_id</th>\n",
       "      <th>event_count</th>\n",
       "      <th>event_code</th>\n",
       "      <th>game_time</th>\n",
       "      <th>title</th>\n",
       "      <th>type</th>\n",
       "      <th>...</th>\n",
       "      <th>avg_event_count</th>\n",
       "      <th>avg_review_incorrect_feedback</th>\n",
       "      <th>avg_review_correct_feedback</th>\n",
       "      <th>total_rounds_beat</th>\n",
       "      <th>total_movies_skipped</th>\n",
       "      <th>total_movies_watched</th>\n",
       "      <th>total_elsewhere_clicks</th>\n",
       "      <th>total_help_button_clicks</th>\n",
       "      <th>total_play_again</th>\n",
       "      <th>accuracy_group</th>\n",
       "    </tr>\n",
       "  </thead>\n",
       "  <tbody>\n",
       "    <tr>\n",
       "      <td>0</td>\n",
       "      <td>3bfd1a65</td>\n",
       "      <td>901acc108f55a5a1</td>\n",
       "      <td>2019-08-06 05:22:01.344000+00:00</td>\n",
       "      <td>{\"version\":\"1.0\",\"event_count\":1,\"game_time\":0...</td>\n",
       "      <td>0006a69f</td>\n",
       "      <td>1</td>\n",
       "      <td>2000</td>\n",
       "      <td>0</td>\n",
       "      <td>Mushroom Sorter (Assessment)</td>\n",
       "      <td>Assessment</td>\n",
       "      <td>...</td>\n",
       "      <td>56.2855</td>\n",
       "      <td>313.143</td>\n",
       "      <td>4015.89</td>\n",
       "      <td>18</td>\n",
       "      <td>1</td>\n",
       "      <td>2</td>\n",
       "      <td>94</td>\n",
       "      <td>4</td>\n",
       "      <td>0</td>\n",
       "      <td>3</td>\n",
       "    </tr>\n",
       "    <tr>\n",
       "      <td>1</td>\n",
       "      <td>f56e0afc</td>\n",
       "      <td>77b8ee947eb84b4e</td>\n",
       "      <td>2019-08-06 05:35:19.167000+00:00</td>\n",
       "      <td>{\"version\":\"1.0\",\"event_count\":1,\"game_time\":0...</td>\n",
       "      <td>0006a69f</td>\n",
       "      <td>1</td>\n",
       "      <td>2000</td>\n",
       "      <td>0</td>\n",
       "      <td>Bird Measurer (Assessment)</td>\n",
       "      <td>Assessment</td>\n",
       "      <td>...</td>\n",
       "      <td>67.083</td>\n",
       "      <td>1771.27</td>\n",
       "      <td>3103.88</td>\n",
       "      <td>23</td>\n",
       "      <td>1</td>\n",
       "      <td>2</td>\n",
       "      <td>156</td>\n",
       "      <td>4</td>\n",
       "      <td>0</td>\n",
       "      <td>0</td>\n",
       "    </tr>\n",
       "    <tr>\n",
       "      <td>2</td>\n",
       "      <td>3bfd1a65</td>\n",
       "      <td>6bdf9623adc94d89</td>\n",
       "      <td>2019-08-06 05:37:50.020000+00:00</td>\n",
       "      <td>{\"version\":\"1.0\",\"event_count\":1,\"game_time\":0...</td>\n",
       "      <td>0006a69f</td>\n",
       "      <td>1</td>\n",
       "      <td>2000</td>\n",
       "      <td>0</td>\n",
       "      <td>Mushroom Sorter (Assessment)</td>\n",
       "      <td>Assessment</td>\n",
       "      <td>...</td>\n",
       "      <td>65.4517</td>\n",
       "      <td>1871.73</td>\n",
       "      <td>3103.88</td>\n",
       "      <td>23</td>\n",
       "      <td>1</td>\n",
       "      <td>2</td>\n",
       "      <td>160</td>\n",
       "      <td>4</td>\n",
       "      <td>0</td>\n",
       "      <td>3</td>\n",
       "    </tr>\n",
       "    <tr>\n",
       "      <td>3</td>\n",
       "      <td>3bfd1a65</td>\n",
       "      <td>9501794defd84e4d</td>\n",
       "      <td>2019-08-06 20:34:53.812000+00:00</td>\n",
       "      <td>{\"version\":\"1.0\",\"event_count\":1,\"game_time\":0...</td>\n",
       "      <td>0006a69f</td>\n",
       "      <td>1</td>\n",
       "      <td>2000</td>\n",
       "      <td>0</td>\n",
       "      <td>Mushroom Sorter (Assessment)</td>\n",
       "      <td>Assessment</td>\n",
       "      <td>...</td>\n",
       "      <td>62.609</td>\n",
       "      <td>2427.52</td>\n",
       "      <td>2544.59</td>\n",
       "      <td>47</td>\n",
       "      <td>2</td>\n",
       "      <td>5</td>\n",
       "      <td>348</td>\n",
       "      <td>4</td>\n",
       "      <td>1</td>\n",
       "      <td>2</td>\n",
       "    </tr>\n",
       "    <tr>\n",
       "      <td>4</td>\n",
       "      <td>f56e0afc</td>\n",
       "      <td>a9ef3ecb3d1acc6a</td>\n",
       "      <td>2019-08-06 20:49:59.095000+00:00</td>\n",
       "      <td>{\"version\":\"1.0\",\"event_count\":1,\"game_time\":0...</td>\n",
       "      <td>0006a69f</td>\n",
       "      <td>1</td>\n",
       "      <td>2000</td>\n",
       "      <td>0</td>\n",
       "      <td>Bird Measurer (Assessment)</td>\n",
       "      <td>Assessment</td>\n",
       "      <td>...</td>\n",
       "      <td>62.1572</td>\n",
       "      <td>2467.7</td>\n",
       "      <td>2309.92</td>\n",
       "      <td>58</td>\n",
       "      <td>2</td>\n",
       "      <td>5</td>\n",
       "      <td>387</td>\n",
       "      <td>4</td>\n",
       "      <td>1</td>\n",
       "      <td>3</td>\n",
       "    </tr>\n",
       "  </tbody>\n",
       "</table>\n",
       "<p>5 rows × 70 columns</p>\n",
       "</div>"
      ],
      "text/plain": [
       "   event_id      game_session                        timestamp  \\\n",
       "0  3bfd1a65  901acc108f55a5a1 2019-08-06 05:22:01.344000+00:00   \n",
       "1  f56e0afc  77b8ee947eb84b4e 2019-08-06 05:35:19.167000+00:00   \n",
       "2  3bfd1a65  6bdf9623adc94d89 2019-08-06 05:37:50.020000+00:00   \n",
       "3  3bfd1a65  9501794defd84e4d 2019-08-06 20:34:53.812000+00:00   \n",
       "4  f56e0afc  a9ef3ecb3d1acc6a 2019-08-06 20:49:59.095000+00:00   \n",
       "\n",
       "                                          event_data installation_id  \\\n",
       "0  {\"version\":\"1.0\",\"event_count\":1,\"game_time\":0...        0006a69f   \n",
       "1  {\"version\":\"1.0\",\"event_count\":1,\"game_time\":0...        0006a69f   \n",
       "2  {\"version\":\"1.0\",\"event_count\":1,\"game_time\":0...        0006a69f   \n",
       "3  {\"version\":\"1.0\",\"event_count\":1,\"game_time\":0...        0006a69f   \n",
       "4  {\"version\":\"1.0\",\"event_count\":1,\"game_time\":0...        0006a69f   \n",
       "\n",
       "  event_count event_code game_time                         title        type  \\\n",
       "0           1       2000         0  Mushroom Sorter (Assessment)  Assessment   \n",
       "1           1       2000         0    Bird Measurer (Assessment)  Assessment   \n",
       "2           1       2000         0  Mushroom Sorter (Assessment)  Assessment   \n",
       "3           1       2000         0  Mushroom Sorter (Assessment)  Assessment   \n",
       "4           1       2000         0    Bird Measurer (Assessment)  Assessment   \n",
       "\n",
       "   ... avg_event_count avg_review_incorrect_feedback  \\\n",
       "0  ...         56.2855                       313.143   \n",
       "1  ...          67.083                       1771.27   \n",
       "2  ...         65.4517                       1871.73   \n",
       "3  ...          62.609                       2427.52   \n",
       "4  ...         62.1572                        2467.7   \n",
       "\n",
       "  avg_review_correct_feedback total_rounds_beat total_movies_skipped  \\\n",
       "0                     4015.89                18                    1   \n",
       "1                     3103.88                23                    1   \n",
       "2                     3103.88                23                    1   \n",
       "3                     2544.59                47                    2   \n",
       "4                     2309.92                58                    2   \n",
       "\n",
       "  total_movies_watched total_elsewhere_clicks total_help_button_clicks  \\\n",
       "0                    2                     94                        4   \n",
       "1                    2                    156                        4   \n",
       "2                    2                    160                        4   \n",
       "3                    5                    348                        4   \n",
       "4                    5                    387                        4   \n",
       "\n",
       "  total_play_again accuracy_group  \n",
       "0                0              3  \n",
       "1                0              0  \n",
       "2                0              3  \n",
       "3                1              2  \n",
       "4                1              3  \n",
       "\n",
       "[5 rows x 70 columns]"
      ]
     },
     "execution_count": 22,
     "metadata": {},
     "output_type": "execute_result"
    }
   ],
   "source": [
    "compiled_train = pd.merge(compiled_train, train_labels[['installation_id','game_session','accuracy_group']], \\\n",
    "                  on=['installation_id','game_session'])\n",
    "compiled_train.head()"
   ]
  },
  {
   "cell_type": "markdown",
   "metadata": {},
   "source": [
    "## Convert as many columns as possible to numeric"
   ]
  },
  {
   "cell_type": "code",
   "execution_count": 23,
   "metadata": {
    "ExecuteTime": {
     "end_time": "2020-01-03T15:25:30.853870Z",
     "start_time": "2020-01-03T15:25:30.849871Z"
    }
   },
   "outputs": [],
   "source": [
    "def numerize(df):\n",
    "    for i, column in enumerate(df.columns):\n",
    "        col = df.columns[i]\n",
    "        df[col] = pd.to_numeric(df[col], errors='ignore')\n",
    "    return df"
   ]
  },
  {
   "cell_type": "code",
   "execution_count": 4,
   "metadata": {
    "ExecuteTime": {
     "end_time": "2020-01-04T01:58:43.600456Z",
     "start_time": "2020-01-04T01:58:42.326120Z"
    }
   },
   "outputs": [],
   "source": [
    "# for i, column in enumerate(compiled_train.columns):\n",
    "#     col = compiled_train.columns[i]\n",
    "#     compiled_train[col] = pd.to_numeric(compiled_train[col], errors='ignore')\n",
    "\n",
    "# compiled_train.info()\n",
    "\n",
    "compiled_train = numerize(compiled_train)\n",
    "compiled_test = numerize(compiled_test)\n"
   ]
  },
  {
   "cell_type": "code",
   "execution_count": 5,
   "metadata": {
    "ExecuteTime": {
     "end_time": "2020-01-04T01:58:44.115554Z",
     "start_time": "2020-01-04T01:58:44.110552Z"
    }
   },
   "outputs": [
    {
     "data": {
      "text/plain": [
       "((17690, 69), (1000, 69))"
      ]
     },
     "execution_count": 5,
     "metadata": {},
     "output_type": "execute_result"
    }
   ],
   "source": [
    "compiled_train.shape, compiled_test.shape"
   ]
  },
  {
   "cell_type": "code",
   "execution_count": 6,
   "metadata": {
    "ExecuteTime": {
     "end_time": "2020-01-04T01:58:54.083660Z",
     "start_time": "2020-01-04T01:58:54.035543Z"
    }
   },
   "outputs": [
    {
     "data": {
      "text/html": [
       "<div>\n",
       "<style scoped>\n",
       "    .dataframe tbody tr th:only-of-type {\n",
       "        vertical-align: middle;\n",
       "    }\n",
       "\n",
       "    .dataframe tbody tr th {\n",
       "        vertical-align: top;\n",
       "    }\n",
       "\n",
       "    .dataframe thead th {\n",
       "        text-align: right;\n",
       "    }\n",
       "</style>\n",
       "<table border=\"1\" class=\"dataframe\">\n",
       "  <thead>\n",
       "    <tr style=\"text-align: right;\">\n",
       "      <th></th>\n",
       "      <th>event_id</th>\n",
       "      <th>game_session</th>\n",
       "      <th>timestamp</th>\n",
       "      <th>event_data</th>\n",
       "      <th>installation_id</th>\n",
       "      <th>event_count</th>\n",
       "      <th>event_code</th>\n",
       "      <th>game_time</th>\n",
       "      <th>title</th>\n",
       "      <th>type</th>\n",
       "      <th>...</th>\n",
       "      <th>total_event_count</th>\n",
       "      <th>avg_event_count</th>\n",
       "      <th>avg_review_incorrect_feedback</th>\n",
       "      <th>avg_review_correct_feedback</th>\n",
       "      <th>total_rounds_beat</th>\n",
       "      <th>total_movies_skipped</th>\n",
       "      <th>total_movies_watched</th>\n",
       "      <th>total_elsewhere_clicks</th>\n",
       "      <th>total_help_button_clicks</th>\n",
       "      <th>total_play_again</th>\n",
       "    </tr>\n",
       "  </thead>\n",
       "  <tbody>\n",
       "    <tr>\n",
       "      <td>867</td>\n",
       "      <td>90d848e0</td>\n",
       "      <td>348d7f09f96af313</td>\n",
       "      <td>1568296332193000000</td>\n",
       "      <td>{\"version\":\"1.0\",\"event_count\":1,\"game_time\":0...</td>\n",
       "      <td>00abaee7</td>\n",
       "      <td>1</td>\n",
       "      <td>2000</td>\n",
       "      <td>0</td>\n",
       "      <td>Cauldron Filler (Assessment)</td>\n",
       "      <td>Assessment</td>\n",
       "      <td>...</td>\n",
       "      <td>47503</td>\n",
       "      <td>54.726959</td>\n",
       "      <td>1363.212121</td>\n",
       "      <td>2750.333333</td>\n",
       "      <td>7</td>\n",
       "      <td>0</td>\n",
       "      <td>0</td>\n",
       "      <td>190</td>\n",
       "      <td>0</td>\n",
       "      <td>0</td>\n",
       "    </tr>\n",
       "    <tr>\n",
       "      <td>2718</td>\n",
       "      <td>7ad3efc6</td>\n",
       "      <td>1fef5d54cb4b775a</td>\n",
       "      <td>1570652596209000000</td>\n",
       "      <td>{\"version\":\"1.0\",\"event_count\":1,\"game_time\":0...</td>\n",
       "      <td>01242218</td>\n",
       "      <td>1</td>\n",
       "      <td>2000</td>\n",
       "      <td>0</td>\n",
       "      <td>Cart Balancer (Assessment)</td>\n",
       "      <td>Assessment</td>\n",
       "      <td>...</td>\n",
       "      <td>174649</td>\n",
       "      <td>64.232806</td>\n",
       "      <td>2279.760000</td>\n",
       "      <td>2611.152778</td>\n",
       "      <td>82</td>\n",
       "      <td>2</td>\n",
       "      <td>7</td>\n",
       "      <td>385</td>\n",
       "      <td>2</td>\n",
       "      <td>0</td>\n",
       "    </tr>\n",
       "    <tr>\n",
       "      <td>149</td>\n",
       "      <td>3bfd1a65</td>\n",
       "      <td>4b165a330a0bdd6c</td>\n",
       "      <td>1569065301757000000</td>\n",
       "      <td>{\"version\":\"1.0\",\"event_count\":1,\"game_time\":0...</td>\n",
       "      <td>017c5718</td>\n",
       "      <td>1</td>\n",
       "      <td>2000</td>\n",
       "      <td>0</td>\n",
       "      <td>Mushroom Sorter (Assessment)</td>\n",
       "      <td>Assessment</td>\n",
       "      <td>...</td>\n",
       "      <td>5191</td>\n",
       "      <td>34.606667</td>\n",
       "      <td>0.000000</td>\n",
       "      <td>0.000000</td>\n",
       "      <td>0</td>\n",
       "      <td>0</td>\n",
       "      <td>0</td>\n",
       "      <td>14</td>\n",
       "      <td>0</td>\n",
       "      <td>0</td>\n",
       "    </tr>\n",
       "    <tr>\n",
       "      <td>233</td>\n",
       "      <td>3bfd1a65</td>\n",
       "      <td>be0b655ad1fee30c</td>\n",
       "      <td>1564244890394000000</td>\n",
       "      <td>{\"version\":\"1.0\",\"event_count\":1,\"game_time\":0...</td>\n",
       "      <td>01a44906</td>\n",
       "      <td>1</td>\n",
       "      <td>2000</td>\n",
       "      <td>0</td>\n",
       "      <td>Mushroom Sorter (Assessment)</td>\n",
       "      <td>Assessment</td>\n",
       "      <td>...</td>\n",
       "      <td>9681</td>\n",
       "      <td>41.371795</td>\n",
       "      <td>3377.500000</td>\n",
       "      <td>2650.666667</td>\n",
       "      <td>3</td>\n",
       "      <td>0</td>\n",
       "      <td>0</td>\n",
       "      <td>28</td>\n",
       "      <td>1</td>\n",
       "      <td>0</td>\n",
       "    </tr>\n",
       "    <tr>\n",
       "      <td>951</td>\n",
       "      <td>7ad3efc6</td>\n",
       "      <td>46e8bbed71df7520</td>\n",
       "      <td>1567793126197000000</td>\n",
       "      <td>{\"version\":\"1.0\",\"event_count\":1,\"game_time\":0...</td>\n",
       "      <td>01bc6cb6</td>\n",
       "      <td>1</td>\n",
       "      <td>2000</td>\n",
       "      <td>0</td>\n",
       "      <td>Cart Balancer (Assessment)</td>\n",
       "      <td>Assessment</td>\n",
       "      <td>...</td>\n",
       "      <td>101904</td>\n",
       "      <td>107.042017</td>\n",
       "      <td>318.037037</td>\n",
       "      <td>2936.444444</td>\n",
       "      <td>25</td>\n",
       "      <td>0</td>\n",
       "      <td>1</td>\n",
       "      <td>134</td>\n",
       "      <td>0</td>\n",
       "      <td>5</td>\n",
       "    </tr>\n",
       "    <tr>\n",
       "      <td>...</td>\n",
       "      <td>...</td>\n",
       "      <td>...</td>\n",
       "      <td>...</td>\n",
       "      <td>...</td>\n",
       "      <td>...</td>\n",
       "      <td>...</td>\n",
       "      <td>...</td>\n",
       "      <td>...</td>\n",
       "      <td>...</td>\n",
       "      <td>...</td>\n",
       "      <td>...</td>\n",
       "      <td>...</td>\n",
       "      <td>...</td>\n",
       "      <td>...</td>\n",
       "      <td>...</td>\n",
       "      <td>...</td>\n",
       "      <td>...</td>\n",
       "      <td>...</td>\n",
       "      <td>...</td>\n",
       "      <td>...</td>\n",
       "      <td>...</td>\n",
       "    </tr>\n",
       "    <tr>\n",
       "      <td>211</td>\n",
       "      <td>90d848e0</td>\n",
       "      <td>d0ea3550fd72f6c1</td>\n",
       "      <td>1569635090390000000</td>\n",
       "      <td>{\"version\":\"1.0\",\"event_count\":1,\"game_time\":0...</td>\n",
       "      <td>fee254cf</td>\n",
       "      <td>1</td>\n",
       "      <td>2000</td>\n",
       "      <td>0</td>\n",
       "      <td>Cauldron Filler (Assessment)</td>\n",
       "      <td>Assessment</td>\n",
       "      <td>...</td>\n",
       "      <td>7407</td>\n",
       "      <td>34.938679</td>\n",
       "      <td>968.000000</td>\n",
       "      <td>2215.750000</td>\n",
       "      <td>7</td>\n",
       "      <td>0</td>\n",
       "      <td>0</td>\n",
       "      <td>41</td>\n",
       "      <td>0</td>\n",
       "      <td>1</td>\n",
       "    </tr>\n",
       "    <tr>\n",
       "      <td>302</td>\n",
       "      <td>5b49460a</td>\n",
       "      <td>d22d3b1442967ba7</td>\n",
       "      <td>1570987104776000000</td>\n",
       "      <td>{\"version\":\"1.0\",\"event_count\":1,\"game_time\":0...</td>\n",
       "      <td>ff57e602</td>\n",
       "      <td>1</td>\n",
       "      <td>2000</td>\n",
       "      <td>0</td>\n",
       "      <td>Chest Sorter (Assessment)</td>\n",
       "      <td>Assessment</td>\n",
       "      <td>...</td>\n",
       "      <td>9459</td>\n",
       "      <td>31.217822</td>\n",
       "      <td>502.125000</td>\n",
       "      <td>3566.875000</td>\n",
       "      <td>7</td>\n",
       "      <td>0</td>\n",
       "      <td>0</td>\n",
       "      <td>56</td>\n",
       "      <td>0</td>\n",
       "      <td>2</td>\n",
       "    </tr>\n",
       "    <tr>\n",
       "      <td>525</td>\n",
       "      <td>7ad3efc6</td>\n",
       "      <td>fd5e0fd3fe28f907</td>\n",
       "      <td>1570480618937000000</td>\n",
       "      <td>{\"version\":\"1.0\",\"event_count\":1,\"game_time\":0...</td>\n",
       "      <td>ffc73fb2</td>\n",
       "      <td>1</td>\n",
       "      <td>2000</td>\n",
       "      <td>0</td>\n",
       "      <td>Cart Balancer (Assessment)</td>\n",
       "      <td>Assessment</td>\n",
       "      <td>...</td>\n",
       "      <td>30362</td>\n",
       "      <td>57.722433</td>\n",
       "      <td>2216.500000</td>\n",
       "      <td>2076.300000</td>\n",
       "      <td>6</td>\n",
       "      <td>0</td>\n",
       "      <td>0</td>\n",
       "      <td>136</td>\n",
       "      <td>0</td>\n",
       "      <td>0</td>\n",
       "    </tr>\n",
       "    <tr>\n",
       "      <td>258</td>\n",
       "      <td>7ad3efc6</td>\n",
       "      <td>8d0fdec0ad44aefb</td>\n",
       "      <td>1568142042792000000</td>\n",
       "      <td>{\"version\":\"1.0\",\"event_count\":1,\"game_time\":0...</td>\n",
       "      <td>ffe00ca8</td>\n",
       "      <td>1</td>\n",
       "      <td>2000</td>\n",
       "      <td>0</td>\n",
       "      <td>Cart Balancer (Assessment)</td>\n",
       "      <td>Assessment</td>\n",
       "      <td>...</td>\n",
       "      <td>9365</td>\n",
       "      <td>36.158301</td>\n",
       "      <td>1259.000000</td>\n",
       "      <td>3309.500000</td>\n",
       "      <td>2</td>\n",
       "      <td>0</td>\n",
       "      <td>0</td>\n",
       "      <td>45</td>\n",
       "      <td>2</td>\n",
       "      <td>0</td>\n",
       "    </tr>\n",
       "    <tr>\n",
       "      <td>44</td>\n",
       "      <td>f56e0afc</td>\n",
       "      <td>6897df1e7b5ccdf7</td>\n",
       "      <td>1569705716105000000</td>\n",
       "      <td>{\"version\":\"1.0\",\"event_count\":1,\"game_time\":0...</td>\n",
       "      <td>ffe774cc</td>\n",
       "      <td>1</td>\n",
       "      <td>2000</td>\n",
       "      <td>0</td>\n",
       "      <td>Bird Measurer (Assessment)</td>\n",
       "      <td>Assessment</td>\n",
       "      <td>...</td>\n",
       "      <td>865</td>\n",
       "      <td>19.222222</td>\n",
       "      <td>0.000000</td>\n",
       "      <td>1561.250000</td>\n",
       "      <td>2</td>\n",
       "      <td>0</td>\n",
       "      <td>0</td>\n",
       "      <td>7</td>\n",
       "      <td>0</td>\n",
       "      <td>0</td>\n",
       "    </tr>\n",
       "  </tbody>\n",
       "</table>\n",
       "<p>1000 rows × 69 columns</p>\n",
       "</div>"
      ],
      "text/plain": [
       "      event_id      game_session            timestamp  \\\n",
       "867   90d848e0  348d7f09f96af313  1568296332193000000   \n",
       "2718  7ad3efc6  1fef5d54cb4b775a  1570652596209000000   \n",
       "149   3bfd1a65  4b165a330a0bdd6c  1569065301757000000   \n",
       "233   3bfd1a65  be0b655ad1fee30c  1564244890394000000   \n",
       "951   7ad3efc6  46e8bbed71df7520  1567793126197000000   \n",
       "...        ...               ...                  ...   \n",
       "211   90d848e0  d0ea3550fd72f6c1  1569635090390000000   \n",
       "302   5b49460a  d22d3b1442967ba7  1570987104776000000   \n",
       "525   7ad3efc6  fd5e0fd3fe28f907  1570480618937000000   \n",
       "258   7ad3efc6  8d0fdec0ad44aefb  1568142042792000000   \n",
       "44    f56e0afc  6897df1e7b5ccdf7  1569705716105000000   \n",
       "\n",
       "                                             event_data installation_id  \\\n",
       "867   {\"version\":\"1.0\",\"event_count\":1,\"game_time\":0...        00abaee7   \n",
       "2718  {\"version\":\"1.0\",\"event_count\":1,\"game_time\":0...        01242218   \n",
       "149   {\"version\":\"1.0\",\"event_count\":1,\"game_time\":0...        017c5718   \n",
       "233   {\"version\":\"1.0\",\"event_count\":1,\"game_time\":0...        01a44906   \n",
       "951   {\"version\":\"1.0\",\"event_count\":1,\"game_time\":0...        01bc6cb6   \n",
       "...                                                 ...             ...   \n",
       "211   {\"version\":\"1.0\",\"event_count\":1,\"game_time\":0...        fee254cf   \n",
       "302   {\"version\":\"1.0\",\"event_count\":1,\"game_time\":0...        ff57e602   \n",
       "525   {\"version\":\"1.0\",\"event_count\":1,\"game_time\":0...        ffc73fb2   \n",
       "258   {\"version\":\"1.0\",\"event_count\":1,\"game_time\":0...        ffe00ca8   \n",
       "44    {\"version\":\"1.0\",\"event_count\":1,\"game_time\":0...        ffe774cc   \n",
       "\n",
       "      event_count  event_code  game_time                         title  \\\n",
       "867             1        2000          0  Cauldron Filler (Assessment)   \n",
       "2718            1        2000          0    Cart Balancer (Assessment)   \n",
       "149             1        2000          0  Mushroom Sorter (Assessment)   \n",
       "233             1        2000          0  Mushroom Sorter (Assessment)   \n",
       "951             1        2000          0    Cart Balancer (Assessment)   \n",
       "...           ...         ...        ...                           ...   \n",
       "211             1        2000          0  Cauldron Filler (Assessment)   \n",
       "302             1        2000          0     Chest Sorter (Assessment)   \n",
       "525             1        2000          0    Cart Balancer (Assessment)   \n",
       "258             1        2000          0    Cart Balancer (Assessment)   \n",
       "44              1        2000          0    Bird Measurer (Assessment)   \n",
       "\n",
       "            type  ... total_event_count  avg_event_count  \\\n",
       "867   Assessment  ...             47503        54.726959   \n",
       "2718  Assessment  ...            174649        64.232806   \n",
       "149   Assessment  ...              5191        34.606667   \n",
       "233   Assessment  ...              9681        41.371795   \n",
       "951   Assessment  ...            101904       107.042017   \n",
       "...          ...  ...               ...              ...   \n",
       "211   Assessment  ...              7407        34.938679   \n",
       "302   Assessment  ...              9459        31.217822   \n",
       "525   Assessment  ...             30362        57.722433   \n",
       "258   Assessment  ...              9365        36.158301   \n",
       "44    Assessment  ...               865        19.222222   \n",
       "\n",
       "      avg_review_incorrect_feedback  avg_review_correct_feedback  \\\n",
       "867                     1363.212121                  2750.333333   \n",
       "2718                    2279.760000                  2611.152778   \n",
       "149                        0.000000                     0.000000   \n",
       "233                     3377.500000                  2650.666667   \n",
       "951                      318.037037                  2936.444444   \n",
       "...                             ...                          ...   \n",
       "211                      968.000000                  2215.750000   \n",
       "302                      502.125000                  3566.875000   \n",
       "525                     2216.500000                  2076.300000   \n",
       "258                     1259.000000                  3309.500000   \n",
       "44                         0.000000                  1561.250000   \n",
       "\n",
       "      total_rounds_beat  total_movies_skipped  total_movies_watched  \\\n",
       "867                   7                     0                     0   \n",
       "2718                 82                     2                     7   \n",
       "149                   0                     0                     0   \n",
       "233                   3                     0                     0   \n",
       "951                  25                     0                     1   \n",
       "...                 ...                   ...                   ...   \n",
       "211                   7                     0                     0   \n",
       "302                   7                     0                     0   \n",
       "525                   6                     0                     0   \n",
       "258                   2                     0                     0   \n",
       "44                    2                     0                     0   \n",
       "\n",
       "      total_elsewhere_clicks  total_help_button_clicks  total_play_again  \n",
       "867                      190                         0                 0  \n",
       "2718                     385                         2                 0  \n",
       "149                       14                         0                 0  \n",
       "233                       28                         1                 0  \n",
       "951                      134                         0                 5  \n",
       "...                      ...                       ...               ...  \n",
       "211                       41                         0                 1  \n",
       "302                       56                         0                 2  \n",
       "525                      136                         0                 0  \n",
       "258                       45                         2                 0  \n",
       "44                         7                         0                 0  \n",
       "\n",
       "[1000 rows x 69 columns]"
      ]
     },
     "execution_count": 6,
     "metadata": {},
     "output_type": "execute_result"
    }
   ],
   "source": [
    "compiled_test"
   ]
  },
  {
   "cell_type": "markdown",
   "metadata": {},
   "source": [
    "## Train RF model"
   ]
  },
  {
   "cell_type": "code",
   "execution_count": 26,
   "metadata": {
    "ExecuteTime": {
     "end_time": "2020-01-03T15:25:32.288203Z",
     "start_time": "2020-01-03T15:25:32.194657Z"
    }
   },
   "outputs": [],
   "source": [
    "from sklearn.ensemble import RandomForestClassifier\n",
    "from sklearn.model_selection import train_test_split\n",
    "from sklearn.metrics import accuracy_score\n",
    "from sklearn.preprocessing import StandardScaler"
   ]
  },
  {
   "cell_type": "code",
   "execution_count": null,
   "metadata": {},
   "outputs": [],
   "source": []
  },
  {
   "cell_type": "code",
   "execution_count": 9,
   "metadata": {
    "ExecuteTime": {
     "end_time": "2020-01-04T02:03:02.260694Z",
     "start_time": "2020-01-04T02:03:02.230602Z"
    }
   },
   "outputs": [
    {
     "ename": "KeyError",
     "evalue": "\"['accuracy_group'] not found in axis\"",
     "output_type": "error",
     "traceback": [
      "\u001b[1;31m---------------------------------------------------------------------------\u001b[0m",
      "\u001b[1;31mKeyError\u001b[0m                                  Traceback (most recent call last)",
      "\u001b[1;32m<ipython-input-9-d5580aede19a>\u001b[0m in \u001b[0;36m<module>\u001b[1;34m\u001b[0m\n\u001b[0;32m      4\u001b[0m \u001b[1;31m#X = compiled_train._get_numeric_data().drop('accuracy_group', axis=1).iloc[:,:-3]\u001b[0m\u001b[1;33m\u001b[0m\u001b[1;33m\u001b[0m\u001b[1;33m\u001b[0m\u001b[0m\n\u001b[0;32m      5\u001b[0m \u001b[1;33m\u001b[0m\u001b[0m\n\u001b[1;32m----> 6\u001b[1;33m \u001b[0mX\u001b[0m \u001b[1;33m=\u001b[0m \u001b[0mcompiled_train\u001b[0m\u001b[1;33m.\u001b[0m\u001b[0mdrop\u001b[0m\u001b[1;33m(\u001b[0m\u001b[1;34m'accuracy_group'\u001b[0m\u001b[1;33m,\u001b[0m \u001b[0maxis\u001b[0m\u001b[1;33m=\u001b[0m\u001b[1;36m1\u001b[0m\u001b[1;33m)\u001b[0m\u001b[1;33m.\u001b[0m\u001b[0m_get_numeric_data\u001b[0m\u001b[1;33m(\u001b[0m\u001b[1;33m)\u001b[0m\u001b[1;33m\u001b[0m\u001b[1;33m\u001b[0m\u001b[0m\n\u001b[0m\u001b[0;32m      7\u001b[0m \u001b[0mprint\u001b[0m\u001b[1;33m(\u001b[0m\u001b[0mX\u001b[0m\u001b[1;33m.\u001b[0m\u001b[0mshape\u001b[0m\u001b[1;33m)\u001b[0m\u001b[1;33m\u001b[0m\u001b[1;33m\u001b[0m\u001b[0m\n\u001b[0;32m      8\u001b[0m \u001b[1;31m#print(compiled_test.shape)\u001b[0m\u001b[1;33m\u001b[0m\u001b[1;33m\u001b[0m\u001b[1;33m\u001b[0m\u001b[0m\n",
      "\u001b[1;32m~\\Continuum\\anaconda3\\lib\\site-packages\\pandas\\core\\frame.py\u001b[0m in \u001b[0;36mdrop\u001b[1;34m(self, labels, axis, index, columns, level, inplace, errors)\u001b[0m\n\u001b[0;32m   4100\u001b[0m             \u001b[0mlevel\u001b[0m\u001b[1;33m=\u001b[0m\u001b[0mlevel\u001b[0m\u001b[1;33m,\u001b[0m\u001b[1;33m\u001b[0m\u001b[1;33m\u001b[0m\u001b[0m\n\u001b[0;32m   4101\u001b[0m             \u001b[0minplace\u001b[0m\u001b[1;33m=\u001b[0m\u001b[0minplace\u001b[0m\u001b[1;33m,\u001b[0m\u001b[1;33m\u001b[0m\u001b[1;33m\u001b[0m\u001b[0m\n\u001b[1;32m-> 4102\u001b[1;33m             \u001b[0merrors\u001b[0m\u001b[1;33m=\u001b[0m\u001b[0merrors\u001b[0m\u001b[1;33m,\u001b[0m\u001b[1;33m\u001b[0m\u001b[1;33m\u001b[0m\u001b[0m\n\u001b[0m\u001b[0;32m   4103\u001b[0m         )\n\u001b[0;32m   4104\u001b[0m \u001b[1;33m\u001b[0m\u001b[0m\n",
      "\u001b[1;32m~\\Continuum\\anaconda3\\lib\\site-packages\\pandas\\core\\generic.py\u001b[0m in \u001b[0;36mdrop\u001b[1;34m(self, labels, axis, index, columns, level, inplace, errors)\u001b[0m\n\u001b[0;32m   3912\u001b[0m         \u001b[1;32mfor\u001b[0m \u001b[0maxis\u001b[0m\u001b[1;33m,\u001b[0m \u001b[0mlabels\u001b[0m \u001b[1;32min\u001b[0m \u001b[0maxes\u001b[0m\u001b[1;33m.\u001b[0m\u001b[0mitems\u001b[0m\u001b[1;33m(\u001b[0m\u001b[1;33m)\u001b[0m\u001b[1;33m:\u001b[0m\u001b[1;33m\u001b[0m\u001b[1;33m\u001b[0m\u001b[0m\n\u001b[0;32m   3913\u001b[0m             \u001b[1;32mif\u001b[0m \u001b[0mlabels\u001b[0m \u001b[1;32mis\u001b[0m \u001b[1;32mnot\u001b[0m \u001b[1;32mNone\u001b[0m\u001b[1;33m:\u001b[0m\u001b[1;33m\u001b[0m\u001b[1;33m\u001b[0m\u001b[0m\n\u001b[1;32m-> 3914\u001b[1;33m                 \u001b[0mobj\u001b[0m \u001b[1;33m=\u001b[0m \u001b[0mobj\u001b[0m\u001b[1;33m.\u001b[0m\u001b[0m_drop_axis\u001b[0m\u001b[1;33m(\u001b[0m\u001b[0mlabels\u001b[0m\u001b[1;33m,\u001b[0m \u001b[0maxis\u001b[0m\u001b[1;33m,\u001b[0m \u001b[0mlevel\u001b[0m\u001b[1;33m=\u001b[0m\u001b[0mlevel\u001b[0m\u001b[1;33m,\u001b[0m \u001b[0merrors\u001b[0m\u001b[1;33m=\u001b[0m\u001b[0merrors\u001b[0m\u001b[1;33m)\u001b[0m\u001b[1;33m\u001b[0m\u001b[1;33m\u001b[0m\u001b[0m\n\u001b[0m\u001b[0;32m   3915\u001b[0m \u001b[1;33m\u001b[0m\u001b[0m\n\u001b[0;32m   3916\u001b[0m         \u001b[1;32mif\u001b[0m \u001b[0minplace\u001b[0m\u001b[1;33m:\u001b[0m\u001b[1;33m\u001b[0m\u001b[1;33m\u001b[0m\u001b[0m\n",
      "\u001b[1;32m~\\Continuum\\anaconda3\\lib\\site-packages\\pandas\\core\\generic.py\u001b[0m in \u001b[0;36m_drop_axis\u001b[1;34m(self, labels, axis, level, errors)\u001b[0m\n\u001b[0;32m   3944\u001b[0m                 \u001b[0mnew_axis\u001b[0m \u001b[1;33m=\u001b[0m \u001b[0maxis\u001b[0m\u001b[1;33m.\u001b[0m\u001b[0mdrop\u001b[0m\u001b[1;33m(\u001b[0m\u001b[0mlabels\u001b[0m\u001b[1;33m,\u001b[0m \u001b[0mlevel\u001b[0m\u001b[1;33m=\u001b[0m\u001b[0mlevel\u001b[0m\u001b[1;33m,\u001b[0m \u001b[0merrors\u001b[0m\u001b[1;33m=\u001b[0m\u001b[0merrors\u001b[0m\u001b[1;33m)\u001b[0m\u001b[1;33m\u001b[0m\u001b[1;33m\u001b[0m\u001b[0m\n\u001b[0;32m   3945\u001b[0m             \u001b[1;32melse\u001b[0m\u001b[1;33m:\u001b[0m\u001b[1;33m\u001b[0m\u001b[1;33m\u001b[0m\u001b[0m\n\u001b[1;32m-> 3946\u001b[1;33m                 \u001b[0mnew_axis\u001b[0m \u001b[1;33m=\u001b[0m \u001b[0maxis\u001b[0m\u001b[1;33m.\u001b[0m\u001b[0mdrop\u001b[0m\u001b[1;33m(\u001b[0m\u001b[0mlabels\u001b[0m\u001b[1;33m,\u001b[0m \u001b[0merrors\u001b[0m\u001b[1;33m=\u001b[0m\u001b[0merrors\u001b[0m\u001b[1;33m)\u001b[0m\u001b[1;33m\u001b[0m\u001b[1;33m\u001b[0m\u001b[0m\n\u001b[0m\u001b[0;32m   3947\u001b[0m             \u001b[0mresult\u001b[0m \u001b[1;33m=\u001b[0m \u001b[0mself\u001b[0m\u001b[1;33m.\u001b[0m\u001b[0mreindex\u001b[0m\u001b[1;33m(\u001b[0m\u001b[1;33m**\u001b[0m\u001b[1;33m{\u001b[0m\u001b[0maxis_name\u001b[0m\u001b[1;33m:\u001b[0m \u001b[0mnew_axis\u001b[0m\u001b[1;33m}\u001b[0m\u001b[1;33m)\u001b[0m\u001b[1;33m\u001b[0m\u001b[1;33m\u001b[0m\u001b[0m\n\u001b[0;32m   3948\u001b[0m \u001b[1;33m\u001b[0m\u001b[0m\n",
      "\u001b[1;32m~\\Continuum\\anaconda3\\lib\\site-packages\\pandas\\core\\indexes\\base.py\u001b[0m in \u001b[0;36mdrop\u001b[1;34m(self, labels, errors)\u001b[0m\n\u001b[0;32m   5338\u001b[0m         \u001b[1;32mif\u001b[0m \u001b[0mmask\u001b[0m\u001b[1;33m.\u001b[0m\u001b[0many\u001b[0m\u001b[1;33m(\u001b[0m\u001b[1;33m)\u001b[0m\u001b[1;33m:\u001b[0m\u001b[1;33m\u001b[0m\u001b[1;33m\u001b[0m\u001b[0m\n\u001b[0;32m   5339\u001b[0m             \u001b[1;32mif\u001b[0m \u001b[0merrors\u001b[0m \u001b[1;33m!=\u001b[0m \u001b[1;34m\"ignore\"\u001b[0m\u001b[1;33m:\u001b[0m\u001b[1;33m\u001b[0m\u001b[1;33m\u001b[0m\u001b[0m\n\u001b[1;32m-> 5340\u001b[1;33m                 \u001b[1;32mraise\u001b[0m \u001b[0mKeyError\u001b[0m\u001b[1;33m(\u001b[0m\u001b[1;34m\"{} not found in axis\"\u001b[0m\u001b[1;33m.\u001b[0m\u001b[0mformat\u001b[0m\u001b[1;33m(\u001b[0m\u001b[0mlabels\u001b[0m\u001b[1;33m[\u001b[0m\u001b[0mmask\u001b[0m\u001b[1;33m]\u001b[0m\u001b[1;33m)\u001b[0m\u001b[1;33m)\u001b[0m\u001b[1;33m\u001b[0m\u001b[1;33m\u001b[0m\u001b[0m\n\u001b[0m\u001b[0;32m   5341\u001b[0m             \u001b[0mindexer\u001b[0m \u001b[1;33m=\u001b[0m \u001b[0mindexer\u001b[0m\u001b[1;33m[\u001b[0m\u001b[1;33m~\u001b[0m\u001b[0mmask\u001b[0m\u001b[1;33m]\u001b[0m\u001b[1;33m\u001b[0m\u001b[1;33m\u001b[0m\u001b[0m\n\u001b[0;32m   5342\u001b[0m         \u001b[1;32mreturn\u001b[0m \u001b[0mself\u001b[0m\u001b[1;33m.\u001b[0m\u001b[0mdelete\u001b[0m\u001b[1;33m(\u001b[0m\u001b[0mindexer\u001b[0m\u001b[1;33m)\u001b[0m\u001b[1;33m\u001b[0m\u001b[1;33m\u001b[0m\u001b[0m\n",
      "\u001b[1;31mKeyError\u001b[0m: \"['accuracy_group'] not found in axis\""
     ]
    }
   ],
   "source": [
    "#scaler = StandardScaler()\n",
    "\n",
    "# get numeric fields only\n",
    "#X = compiled_train._get_numeric_data().drop('accuracy_group', axis=1).iloc[:,:-3]\n",
    "\n",
    "X = compiled_train.drop('accuracy_group', axis=1)._get_numeric_data()\n",
    "print(X.shape)\n",
    "#print(compiled_test.shape)\n",
    "#X_scaled = scaler.fit_transform(X)\n",
    "y = compiled_train.accuracy_group\n",
    "\n",
    "compiled_test = compiled_test._get_numeric_data()\n",
    "print(compiled_test.shape)\n",
    "\n",
    "X_train, X_test, y_train, y_test = train_test_split(X, y, test_size=.2, random_state=42)\n",
    "rf = RandomForestClassifier()\n",
    "rf.fit(X_train, y_train)\n",
    "y_pred = rf.predict(X_test)\n",
    "accuracy_score(y_test, y_pred)"
   ]
  },
  {
   "cell_type": "markdown",
   "metadata": {},
   "source": [
    "## Logistic Regression"
   ]
  },
  {
   "cell_type": "code",
   "execution_count": null,
   "metadata": {
    "ExecuteTime": {
     "end_time": "2020-01-03T15:21:44.560907Z",
     "start_time": "2020-01-03T15:21:27.456Z"
    }
   },
   "outputs": [],
   "source": [
    "from sklearn.linear_model import LogisticRegression, SGDClassifier, RidgeClassifier, \n",
    "from sklearn.neighbors import KNeighborsClassifier\n",
    "from sklearn.linear_model.SGDClassifier"
   ]
  },
  {
   "cell_type": "code",
   "execution_count": null,
   "metadata": {
    "ExecuteTime": {
     "end_time": "2020-01-03T15:21:44.560907Z",
     "start_time": "2020-01-03T15:21:27.718Z"
    }
   },
   "outputs": [],
   "source": [
    "logreg = LogisticRegression()\n",
    "quick_acc(compiled_train, logreg)"
   ]
  },
  {
   "cell_type": "code",
   "execution_count": 33,
   "metadata": {
    "ExecuteTime": {
     "end_time": "2020-01-03T15:19:48.526001Z",
     "start_time": "2020-01-03T15:19:48.523301Z"
    }
   },
   "outputs": [],
   "source": [
    "from evaluate import quick_acc"
   ]
  },
  {
   "cell_type": "code",
   "execution_count": 22,
   "metadata": {
    "ExecuteTime": {
     "end_time": "2020-01-03T15:06:04.812934Z",
     "start_time": "2020-01-03T15:06:04.809931Z"
    }
   },
   "outputs": [],
   "source": [
    "from sklearn.neighbors import KNeighborsClassifier"
   ]
  },
  {
   "cell_type": "code",
   "execution_count": 7,
   "metadata": {
    "ExecuteTime": {
     "end_time": "2020-01-04T02:02:23.377270Z",
     "start_time": "2020-01-04T02:02:23.341171Z"
    }
   },
   "outputs": [
    {
     "data": {
      "text/html": [
       "<div>\n",
       "<style scoped>\n",
       "    .dataframe tbody tr th:only-of-type {\n",
       "        vertical-align: middle;\n",
       "    }\n",
       "\n",
       "    .dataframe tbody tr th {\n",
       "        vertical-align: top;\n",
       "    }\n",
       "\n",
       "    .dataframe thead th {\n",
       "        text-align: right;\n",
       "    }\n",
       "</style>\n",
       "<table border=\"1\" class=\"dataframe\">\n",
       "  <thead>\n",
       "    <tr style=\"text-align: right;\">\n",
       "      <th></th>\n",
       "      <th>event_id</th>\n",
       "      <th>game_session</th>\n",
       "      <th>timestamp</th>\n",
       "      <th>event_data</th>\n",
       "      <th>installation_id</th>\n",
       "      <th>event_count</th>\n",
       "      <th>event_code</th>\n",
       "      <th>game_time</th>\n",
       "      <th>title</th>\n",
       "      <th>type</th>\n",
       "      <th>...</th>\n",
       "      <th>total_event_count</th>\n",
       "      <th>avg_event_count</th>\n",
       "      <th>avg_review_incorrect_feedback</th>\n",
       "      <th>avg_review_correct_feedback</th>\n",
       "      <th>total_rounds_beat</th>\n",
       "      <th>total_movies_skipped</th>\n",
       "      <th>total_movies_watched</th>\n",
       "      <th>total_elsewhere_clicks</th>\n",
       "      <th>total_help_button_clicks</th>\n",
       "      <th>total_play_again</th>\n",
       "    </tr>\n",
       "  </thead>\n",
       "  <tbody>\n",
       "    <tr>\n",
       "      <td>867</td>\n",
       "      <td>90d848e0</td>\n",
       "      <td>348d7f09f96af313</td>\n",
       "      <td>1568296332193000000</td>\n",
       "      <td>{\"version\":\"1.0\",\"event_count\":1,\"game_time\":0...</td>\n",
       "      <td>00abaee7</td>\n",
       "      <td>1</td>\n",
       "      <td>2000</td>\n",
       "      <td>0</td>\n",
       "      <td>Cauldron Filler (Assessment)</td>\n",
       "      <td>Assessment</td>\n",
       "      <td>...</td>\n",
       "      <td>47503</td>\n",
       "      <td>54.726959</td>\n",
       "      <td>1363.212121</td>\n",
       "      <td>2750.333333</td>\n",
       "      <td>7</td>\n",
       "      <td>0</td>\n",
       "      <td>0</td>\n",
       "      <td>190</td>\n",
       "      <td>0</td>\n",
       "      <td>0</td>\n",
       "    </tr>\n",
       "    <tr>\n",
       "      <td>2718</td>\n",
       "      <td>7ad3efc6</td>\n",
       "      <td>1fef5d54cb4b775a</td>\n",
       "      <td>1570652596209000000</td>\n",
       "      <td>{\"version\":\"1.0\",\"event_count\":1,\"game_time\":0...</td>\n",
       "      <td>01242218</td>\n",
       "      <td>1</td>\n",
       "      <td>2000</td>\n",
       "      <td>0</td>\n",
       "      <td>Cart Balancer (Assessment)</td>\n",
       "      <td>Assessment</td>\n",
       "      <td>...</td>\n",
       "      <td>174649</td>\n",
       "      <td>64.232806</td>\n",
       "      <td>2279.760000</td>\n",
       "      <td>2611.152778</td>\n",
       "      <td>82</td>\n",
       "      <td>2</td>\n",
       "      <td>7</td>\n",
       "      <td>385</td>\n",
       "      <td>2</td>\n",
       "      <td>0</td>\n",
       "    </tr>\n",
       "    <tr>\n",
       "      <td>149</td>\n",
       "      <td>3bfd1a65</td>\n",
       "      <td>4b165a330a0bdd6c</td>\n",
       "      <td>1569065301757000000</td>\n",
       "      <td>{\"version\":\"1.0\",\"event_count\":1,\"game_time\":0...</td>\n",
       "      <td>017c5718</td>\n",
       "      <td>1</td>\n",
       "      <td>2000</td>\n",
       "      <td>0</td>\n",
       "      <td>Mushroom Sorter (Assessment)</td>\n",
       "      <td>Assessment</td>\n",
       "      <td>...</td>\n",
       "      <td>5191</td>\n",
       "      <td>34.606667</td>\n",
       "      <td>0.000000</td>\n",
       "      <td>0.000000</td>\n",
       "      <td>0</td>\n",
       "      <td>0</td>\n",
       "      <td>0</td>\n",
       "      <td>14</td>\n",
       "      <td>0</td>\n",
       "      <td>0</td>\n",
       "    </tr>\n",
       "    <tr>\n",
       "      <td>233</td>\n",
       "      <td>3bfd1a65</td>\n",
       "      <td>be0b655ad1fee30c</td>\n",
       "      <td>1564244890394000000</td>\n",
       "      <td>{\"version\":\"1.0\",\"event_count\":1,\"game_time\":0...</td>\n",
       "      <td>01a44906</td>\n",
       "      <td>1</td>\n",
       "      <td>2000</td>\n",
       "      <td>0</td>\n",
       "      <td>Mushroom Sorter (Assessment)</td>\n",
       "      <td>Assessment</td>\n",
       "      <td>...</td>\n",
       "      <td>9681</td>\n",
       "      <td>41.371795</td>\n",
       "      <td>3377.500000</td>\n",
       "      <td>2650.666667</td>\n",
       "      <td>3</td>\n",
       "      <td>0</td>\n",
       "      <td>0</td>\n",
       "      <td>28</td>\n",
       "      <td>1</td>\n",
       "      <td>0</td>\n",
       "    </tr>\n",
       "    <tr>\n",
       "      <td>951</td>\n",
       "      <td>7ad3efc6</td>\n",
       "      <td>46e8bbed71df7520</td>\n",
       "      <td>1567793126197000000</td>\n",
       "      <td>{\"version\":\"1.0\",\"event_count\":1,\"game_time\":0...</td>\n",
       "      <td>01bc6cb6</td>\n",
       "      <td>1</td>\n",
       "      <td>2000</td>\n",
       "      <td>0</td>\n",
       "      <td>Cart Balancer (Assessment)</td>\n",
       "      <td>Assessment</td>\n",
       "      <td>...</td>\n",
       "      <td>101904</td>\n",
       "      <td>107.042017</td>\n",
       "      <td>318.037037</td>\n",
       "      <td>2936.444444</td>\n",
       "      <td>25</td>\n",
       "      <td>0</td>\n",
       "      <td>1</td>\n",
       "      <td>134</td>\n",
       "      <td>0</td>\n",
       "      <td>5</td>\n",
       "    </tr>\n",
       "    <tr>\n",
       "      <td>...</td>\n",
       "      <td>...</td>\n",
       "      <td>...</td>\n",
       "      <td>...</td>\n",
       "      <td>...</td>\n",
       "      <td>...</td>\n",
       "      <td>...</td>\n",
       "      <td>...</td>\n",
       "      <td>...</td>\n",
       "      <td>...</td>\n",
       "      <td>...</td>\n",
       "      <td>...</td>\n",
       "      <td>...</td>\n",
       "      <td>...</td>\n",
       "      <td>...</td>\n",
       "      <td>...</td>\n",
       "      <td>...</td>\n",
       "      <td>...</td>\n",
       "      <td>...</td>\n",
       "      <td>...</td>\n",
       "      <td>...</td>\n",
       "      <td>...</td>\n",
       "    </tr>\n",
       "    <tr>\n",
       "      <td>211</td>\n",
       "      <td>90d848e0</td>\n",
       "      <td>d0ea3550fd72f6c1</td>\n",
       "      <td>1569635090390000000</td>\n",
       "      <td>{\"version\":\"1.0\",\"event_count\":1,\"game_time\":0...</td>\n",
       "      <td>fee254cf</td>\n",
       "      <td>1</td>\n",
       "      <td>2000</td>\n",
       "      <td>0</td>\n",
       "      <td>Cauldron Filler (Assessment)</td>\n",
       "      <td>Assessment</td>\n",
       "      <td>...</td>\n",
       "      <td>7407</td>\n",
       "      <td>34.938679</td>\n",
       "      <td>968.000000</td>\n",
       "      <td>2215.750000</td>\n",
       "      <td>7</td>\n",
       "      <td>0</td>\n",
       "      <td>0</td>\n",
       "      <td>41</td>\n",
       "      <td>0</td>\n",
       "      <td>1</td>\n",
       "    </tr>\n",
       "    <tr>\n",
       "      <td>302</td>\n",
       "      <td>5b49460a</td>\n",
       "      <td>d22d3b1442967ba7</td>\n",
       "      <td>1570987104776000000</td>\n",
       "      <td>{\"version\":\"1.0\",\"event_count\":1,\"game_time\":0...</td>\n",
       "      <td>ff57e602</td>\n",
       "      <td>1</td>\n",
       "      <td>2000</td>\n",
       "      <td>0</td>\n",
       "      <td>Chest Sorter (Assessment)</td>\n",
       "      <td>Assessment</td>\n",
       "      <td>...</td>\n",
       "      <td>9459</td>\n",
       "      <td>31.217822</td>\n",
       "      <td>502.125000</td>\n",
       "      <td>3566.875000</td>\n",
       "      <td>7</td>\n",
       "      <td>0</td>\n",
       "      <td>0</td>\n",
       "      <td>56</td>\n",
       "      <td>0</td>\n",
       "      <td>2</td>\n",
       "    </tr>\n",
       "    <tr>\n",
       "      <td>525</td>\n",
       "      <td>7ad3efc6</td>\n",
       "      <td>fd5e0fd3fe28f907</td>\n",
       "      <td>1570480618937000000</td>\n",
       "      <td>{\"version\":\"1.0\",\"event_count\":1,\"game_time\":0...</td>\n",
       "      <td>ffc73fb2</td>\n",
       "      <td>1</td>\n",
       "      <td>2000</td>\n",
       "      <td>0</td>\n",
       "      <td>Cart Balancer (Assessment)</td>\n",
       "      <td>Assessment</td>\n",
       "      <td>...</td>\n",
       "      <td>30362</td>\n",
       "      <td>57.722433</td>\n",
       "      <td>2216.500000</td>\n",
       "      <td>2076.300000</td>\n",
       "      <td>6</td>\n",
       "      <td>0</td>\n",
       "      <td>0</td>\n",
       "      <td>136</td>\n",
       "      <td>0</td>\n",
       "      <td>0</td>\n",
       "    </tr>\n",
       "    <tr>\n",
       "      <td>258</td>\n",
       "      <td>7ad3efc6</td>\n",
       "      <td>8d0fdec0ad44aefb</td>\n",
       "      <td>1568142042792000000</td>\n",
       "      <td>{\"version\":\"1.0\",\"event_count\":1,\"game_time\":0...</td>\n",
       "      <td>ffe00ca8</td>\n",
       "      <td>1</td>\n",
       "      <td>2000</td>\n",
       "      <td>0</td>\n",
       "      <td>Cart Balancer (Assessment)</td>\n",
       "      <td>Assessment</td>\n",
       "      <td>...</td>\n",
       "      <td>9365</td>\n",
       "      <td>36.158301</td>\n",
       "      <td>1259.000000</td>\n",
       "      <td>3309.500000</td>\n",
       "      <td>2</td>\n",
       "      <td>0</td>\n",
       "      <td>0</td>\n",
       "      <td>45</td>\n",
       "      <td>2</td>\n",
       "      <td>0</td>\n",
       "    </tr>\n",
       "    <tr>\n",
       "      <td>44</td>\n",
       "      <td>f56e0afc</td>\n",
       "      <td>6897df1e7b5ccdf7</td>\n",
       "      <td>1569705716105000000</td>\n",
       "      <td>{\"version\":\"1.0\",\"event_count\":1,\"game_time\":0...</td>\n",
       "      <td>ffe774cc</td>\n",
       "      <td>1</td>\n",
       "      <td>2000</td>\n",
       "      <td>0</td>\n",
       "      <td>Bird Measurer (Assessment)</td>\n",
       "      <td>Assessment</td>\n",
       "      <td>...</td>\n",
       "      <td>865</td>\n",
       "      <td>19.222222</td>\n",
       "      <td>0.000000</td>\n",
       "      <td>1561.250000</td>\n",
       "      <td>2</td>\n",
       "      <td>0</td>\n",
       "      <td>0</td>\n",
       "      <td>7</td>\n",
       "      <td>0</td>\n",
       "      <td>0</td>\n",
       "    </tr>\n",
       "  </tbody>\n",
       "</table>\n",
       "<p>1000 rows × 69 columns</p>\n",
       "</div>"
      ],
      "text/plain": [
       "      event_id      game_session            timestamp  \\\n",
       "867   90d848e0  348d7f09f96af313  1568296332193000000   \n",
       "2718  7ad3efc6  1fef5d54cb4b775a  1570652596209000000   \n",
       "149   3bfd1a65  4b165a330a0bdd6c  1569065301757000000   \n",
       "233   3bfd1a65  be0b655ad1fee30c  1564244890394000000   \n",
       "951   7ad3efc6  46e8bbed71df7520  1567793126197000000   \n",
       "...        ...               ...                  ...   \n",
       "211   90d848e0  d0ea3550fd72f6c1  1569635090390000000   \n",
       "302   5b49460a  d22d3b1442967ba7  1570987104776000000   \n",
       "525   7ad3efc6  fd5e0fd3fe28f907  1570480618937000000   \n",
       "258   7ad3efc6  8d0fdec0ad44aefb  1568142042792000000   \n",
       "44    f56e0afc  6897df1e7b5ccdf7  1569705716105000000   \n",
       "\n",
       "                                             event_data installation_id  \\\n",
       "867   {\"version\":\"1.0\",\"event_count\":1,\"game_time\":0...        00abaee7   \n",
       "2718  {\"version\":\"1.0\",\"event_count\":1,\"game_time\":0...        01242218   \n",
       "149   {\"version\":\"1.0\",\"event_count\":1,\"game_time\":0...        017c5718   \n",
       "233   {\"version\":\"1.0\",\"event_count\":1,\"game_time\":0...        01a44906   \n",
       "951   {\"version\":\"1.0\",\"event_count\":1,\"game_time\":0...        01bc6cb6   \n",
       "...                                                 ...             ...   \n",
       "211   {\"version\":\"1.0\",\"event_count\":1,\"game_time\":0...        fee254cf   \n",
       "302   {\"version\":\"1.0\",\"event_count\":1,\"game_time\":0...        ff57e602   \n",
       "525   {\"version\":\"1.0\",\"event_count\":1,\"game_time\":0...        ffc73fb2   \n",
       "258   {\"version\":\"1.0\",\"event_count\":1,\"game_time\":0...        ffe00ca8   \n",
       "44    {\"version\":\"1.0\",\"event_count\":1,\"game_time\":0...        ffe774cc   \n",
       "\n",
       "      event_count  event_code  game_time                         title  \\\n",
       "867             1        2000          0  Cauldron Filler (Assessment)   \n",
       "2718            1        2000          0    Cart Balancer (Assessment)   \n",
       "149             1        2000          0  Mushroom Sorter (Assessment)   \n",
       "233             1        2000          0  Mushroom Sorter (Assessment)   \n",
       "951             1        2000          0    Cart Balancer (Assessment)   \n",
       "...           ...         ...        ...                           ...   \n",
       "211             1        2000          0  Cauldron Filler (Assessment)   \n",
       "302             1        2000          0     Chest Sorter (Assessment)   \n",
       "525             1        2000          0    Cart Balancer (Assessment)   \n",
       "258             1        2000          0    Cart Balancer (Assessment)   \n",
       "44              1        2000          0    Bird Measurer (Assessment)   \n",
       "\n",
       "            type  ... total_event_count  avg_event_count  \\\n",
       "867   Assessment  ...             47503        54.726959   \n",
       "2718  Assessment  ...            174649        64.232806   \n",
       "149   Assessment  ...              5191        34.606667   \n",
       "233   Assessment  ...              9681        41.371795   \n",
       "951   Assessment  ...            101904       107.042017   \n",
       "...          ...  ...               ...              ...   \n",
       "211   Assessment  ...              7407        34.938679   \n",
       "302   Assessment  ...              9459        31.217822   \n",
       "525   Assessment  ...             30362        57.722433   \n",
       "258   Assessment  ...              9365        36.158301   \n",
       "44    Assessment  ...               865        19.222222   \n",
       "\n",
       "      avg_review_incorrect_feedback  avg_review_correct_feedback  \\\n",
       "867                     1363.212121                  2750.333333   \n",
       "2718                    2279.760000                  2611.152778   \n",
       "149                        0.000000                     0.000000   \n",
       "233                     3377.500000                  2650.666667   \n",
       "951                      318.037037                  2936.444444   \n",
       "...                             ...                          ...   \n",
       "211                      968.000000                  2215.750000   \n",
       "302                      502.125000                  3566.875000   \n",
       "525                     2216.500000                  2076.300000   \n",
       "258                     1259.000000                  3309.500000   \n",
       "44                         0.000000                  1561.250000   \n",
       "\n",
       "      total_rounds_beat  total_movies_skipped  total_movies_watched  \\\n",
       "867                   7                     0                     0   \n",
       "2718                 82                     2                     7   \n",
       "149                   0                     0                     0   \n",
       "233                   3                     0                     0   \n",
       "951                  25                     0                     1   \n",
       "...                 ...                   ...                   ...   \n",
       "211                   7                     0                     0   \n",
       "302                   7                     0                     0   \n",
       "525                   6                     0                     0   \n",
       "258                   2                     0                     0   \n",
       "44                    2                     0                     0   \n",
       "\n",
       "      total_elsewhere_clicks  total_help_button_clicks  total_play_again  \n",
       "867                      190                         0                 0  \n",
       "2718                     385                         2                 0  \n",
       "149                       14                         0                 0  \n",
       "233                       28                         1                 0  \n",
       "951                      134                         0                 5  \n",
       "...                      ...                       ...               ...  \n",
       "211                       41                         0                 1  \n",
       "302                       56                         0                 2  \n",
       "525                      136                         0                 0  \n",
       "258                       45                         2                 0  \n",
       "44                         7                         0                 0  \n",
       "\n",
       "[1000 rows x 69 columns]"
      ]
     },
     "execution_count": 7,
     "metadata": {},
     "output_type": "execute_result"
    }
   ],
   "source": [
    "compiled_test"
   ]
  },
  {
   "cell_type": "code",
   "execution_count": 8,
   "metadata": {
    "ExecuteTime": {
     "end_time": "2020-01-04T02:02:37.777906Z",
     "start_time": "2020-01-04T02:02:37.759904Z"
    }
   },
   "outputs": [
    {
     "ename": "NameError",
     "evalue": "name 'rf' is not defined",
     "output_type": "error",
     "traceback": [
      "\u001b[1;31m---------------------------------------------------------------------------\u001b[0m",
      "\u001b[1;31mNameError\u001b[0m                                 Traceback (most recent call last)",
      "\u001b[1;32m<ipython-input-8-adfceed9f8d4>\u001b[0m in \u001b[0;36m<module>\u001b[1;34m\u001b[0m\n\u001b[1;32m----> 1\u001b[1;33m \u001b[0mtest_prediction\u001b[0m \u001b[1;33m=\u001b[0m \u001b[0mrf\u001b[0m\u001b[1;33m.\u001b[0m\u001b[0mpredict\u001b[0m\u001b[1;33m(\u001b[0m\u001b[0mcompiled_test\u001b[0m\u001b[1;33m)\u001b[0m\u001b[1;33m\u001b[0m\u001b[1;33m\u001b[0m\u001b[0m\n\u001b[0m\u001b[0;32m      2\u001b[0m \u001b[0mlist\u001b[0m\u001b[1;33m(\u001b[0m\u001b[0mzip\u001b[0m\u001b[1;33m(\u001b[0m\u001b[0mcompiled_test\u001b[0m\u001b[1;33m.\u001b[0m\u001b[0minstallation_id\u001b[0m\u001b[1;33m,\u001b[0m \u001b[0mtest_prediction\u001b[0m\u001b[1;33m)\u001b[0m\u001b[1;33m)\u001b[0m\u001b[1;33m\u001b[0m\u001b[1;33m\u001b[0m\u001b[0m\n\u001b[0;32m      3\u001b[0m \u001b[1;33m\u001b[0m\u001b[0m\n\u001b[0;32m      4\u001b[0m \u001b[1;31m# To create a submission:\u001b[0m\u001b[1;33m\u001b[0m\u001b[1;33m\u001b[0m\u001b[1;33m\u001b[0m\u001b[0m\n\u001b[0;32m      5\u001b[0m \u001b[0msubmission\u001b[0m \u001b[1;33m=\u001b[0m \u001b[0mpd\u001b[0m\u001b[1;33m.\u001b[0m\u001b[0mDataFrame\u001b[0m\u001b[1;33m(\u001b[0m\u001b[1;33m)\u001b[0m\u001b[1;33m\u001b[0m\u001b[1;33m\u001b[0m\u001b[0m\n",
      "\u001b[1;31mNameError\u001b[0m: name 'rf' is not defined"
     ]
    }
   ],
   "source": [
    "test_prediction = rf.predict(compiled_test)\n",
    "list(zip(compiled_test.installation_id, test_prediction))\n",
    "\n",
    "# To create a submission:\n",
    "submission = pd.DataFrame()\n",
    "submission['installation_id'] = compiled_test.installation_id\n",
    "submission['accuracy_group'] = test_prediction\n",
    "submission.head()\n",
    "\n",
    "submission.accuracy_group.value_counts()"
   ]
  },
  {
   "cell_type": "code",
   "execution_count": 71,
   "metadata": {
    "ExecuteTime": {
     "end_time": "2020-01-02T16:42:53.590603Z",
     "start_time": "2020-01-02T16:42:53.580598Z"
    }
   },
   "outputs": [],
   "source": [
    "submission.to_csv('submission_unscaled_1_1_2020.csv',index=False)"
   ]
  },
  {
   "cell_type": "markdown",
   "metadata": {},
   "source": [
    "## Balance classes"
   ]
  },
  {
   "cell_type": "markdown",
   "metadata": {},
   "source": [
    "### Balancing the classes prior to training seems to drop accuracy substantially"
   ]
  },
  {
   "cell_type": "code",
   "execution_count": 72,
   "metadata": {
    "ExecuteTime": {
     "end_time": "2020-01-02T16:47:24.220170Z",
     "start_time": "2020-01-02T16:47:24.159987Z"
    }
   },
   "outputs": [
    {
     "data": {
      "text/plain": [
       "3    2205\n",
       "2    2205\n",
       "1    2205\n",
       "0    2205\n",
       "Name: accuracy_group, dtype: int64"
      ]
     },
     "execution_count": 72,
     "metadata": {},
     "output_type": "execute_result"
    }
   ],
   "source": [
    "%%script false\n",
    "\n",
    "from sklearn.utils import resample\n",
    "\n",
    "# Separate classes\n",
    "df_0 = compiled_train[compiled_train.accuracy_group==0]\n",
    "df_1 = compiled_train[compiled_train.accuracy_group==1]\n",
    "df_2 = compiled_train[compiled_train.accuracy_group==2]\n",
    "df_3 = compiled_train[compiled_train.accuracy_group==3]\n",
    "\n",
    "# Downsample 3, 0, 1 to 2's level - n=419\n",
    "resampled_dfs = [df_2]\n",
    "\n",
    "for i in [df_0,df_1,df_3]:  \n",
    "    downsampled_df = resample(i, \n",
    "                              replace=False, # sample without replacement\n",
    "                              n_samples = min(compiled_train.accuracy_group.value_counts()), #  to match minority\n",
    "                              random_state = 42)  # reproducibility\n",
    "    resampled_dfs.append(downsampled_df)\n",
    "\n",
    "balanced_compiled_train = pd.concat(resampled_dfs, axis=0)\n",
    "\n",
    "balanced_compiled_train.accuracy_group.value_counts()"
   ]
  },
  {
   "cell_type": "code",
   "execution_count": 80,
   "metadata": {
    "ExecuteTime": {
     "end_time": "2020-01-02T16:56:09.690335Z",
     "start_time": "2020-01-02T16:56:09.680775Z"
    }
   },
   "outputs": [
    {
     "name": "stdout",
     "output_type": "stream",
     "text": [
      "Couldn't find program: 'false'\n"
     ]
    }
   ],
   "source": [
    "%%script false\n",
    "scaler = StandardScaler()\n",
    "\n",
    "X = balanced_compiled_train._get_numeric_data().drop('accuracy_group', axis=1)\n",
    "X_scaled = scaler.fit_transform(X)\n",
    "y = balanced_compiled_train.accuracy_group\n",
    "\n",
    "X_train, X_test, y_train, y_test = train_test_split(X_scaled, y, test_size=.2, random_state=42)\n",
    "rf = RandomForestClassifier()\n",
    "rf.fit(X_train, y_train)\n",
    "y_pred = rf.predict(X_test)\n",
    "accuracy_score(y_test, y_pred)"
   ]
  },
  {
   "cell_type": "code",
   "execution_count": 81,
   "metadata": {
    "ExecuteTime": {
     "end_time": "2020-01-02T16:56:26.417600Z",
     "start_time": "2020-01-02T16:56:26.407568Z"
    }
   },
   "outputs": [
    {
     "name": "stdout",
     "output_type": "stream",
     "text": [
      "Couldn't find program: 'false'\n"
     ]
    }
   ],
   "source": [
    "%%script false\n",
    "test_prediction = rf.predict(compiled_test_scaled)\n",
    "list(zip(compiled_test.installation_id, test_prediction))"
   ]
  },
  {
   "cell_type": "code",
   "execution_count": 82,
   "metadata": {
    "ExecuteTime": {
     "end_time": "2020-01-02T16:56:34.493332Z",
     "start_time": "2020-01-02T16:56:34.486345Z"
    }
   },
   "outputs": [
    {
     "name": "stderr",
     "output_type": "stream",
     "text": [
      "UsageError: Line magic function `%script` not found (But cell magic `%%script` exists, did you mean that instead?).\n"
     ]
    }
   ],
   "source": [
    "%script false\n",
    "submission = pd.DataFrame()\n",
    "submission['installation_id'] = compiled_test.installation_id\n",
    "submission['accuracy_group'] = test_prediction\n",
    "submission.head()"
   ]
  },
  {
   "cell_type": "code",
   "execution_count": 78,
   "metadata": {
    "ExecuteTime": {
     "end_time": "2020-01-02T16:47:47.825623Z",
     "start_time": "2020-01-02T16:47:47.818680Z"
    }
   },
   "outputs": [
    {
     "data": {
      "text/plain": [
       "0    560\n",
       "1    215\n",
       "2    132\n",
       "3     93\n",
       "Name: accuracy_group, dtype: int64"
      ]
     },
     "execution_count": 78,
     "metadata": {},
     "output_type": "execute_result"
    }
   ],
   "source": [
    "%%script false\n",
    "submission.accuracy_group.value_counts()\n",
    "\n",
    "submission.to_csv('submission_01022020.csv',index=False)"
   ]
  },
  {
   "cell_type": "code",
   "execution_count": null,
   "metadata": {},
   "outputs": [],
   "source": []
  }
 ],
 "metadata": {
  "hide_input": false,
  "kernelspec": {
   "display_name": "Python 3",
   "language": "python",
   "name": "python3"
  },
  "language_info": {
   "codemirror_mode": {
    "name": "ipython",
    "version": 3
   },
   "file_extension": ".py",
   "mimetype": "text/x-python",
   "name": "python",
   "nbconvert_exporter": "python",
   "pygments_lexer": "ipython3",
   "version": "3.7.3"
  }
 },
 "nbformat": 4,
 "nbformat_minor": 2
}

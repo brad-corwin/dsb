{
 "cells": [
  {
   "cell_type": "code",
   "execution_count": 176,
   "metadata": {
    "ExecuteTime": {
     "end_time": "2020-01-01T06:52:45.370176Z",
     "start_time": "2020-01-01T06:52:45.364738Z"
    }
   },
   "outputs": [],
   "source": [
    "import numpy as np\n",
    "import pandas as pd\n",
    "import matplotlib.pyplot as plt\n",
    "\n",
    "from tqdm.notebook import tqdm\n",
    "from collections import Counter\n",
    "\n",
    "# local imports\n",
    "from prepare import *"
   ]
  },
  {
   "cell_type": "code",
   "execution_count": 177,
   "metadata": {
    "ExecuteTime": {
     "end_time": "2020-01-01T06:54:07.419094Z",
     "start_time": "2020-01-01T06:52:45.372490Z"
    }
   },
   "outputs": [],
   "source": [
    "raw_train = pd.read_csv('data/train.csv')\n",
    "raw_train_labels = pd.read_csv('data/train_labels.csv')\n",
    "raw_test = pd.read_csv('data/test.csv')\n",
    "specs = pd.read_csv('data/specs.csv')\n",
    "sample = pd.read_csv('data/sample_submission.csv')"
   ]
  },
  {
   "cell_type": "markdown",
   "metadata": {},
   "source": [
    "## Shorten dataframes to speed up testing"
   ]
  },
  {
   "cell_type": "code",
   "execution_count": 178,
   "metadata": {
    "ExecuteTime": {
     "end_time": "2020-01-01T06:54:07.433083Z",
     "start_time": "2020-01-01T06:54:07.421080Z"
    }
   },
   "outputs": [
    {
     "name": "stdout",
     "output_type": "stream",
     "text": [
      "Couldn't find program: 'false'\n"
     ]
    }
   ],
   "source": [
    "%%script false\n",
    "\n",
    "frames = [raw_train, raw_train_labels, raw_test]#, specs, sample]\n",
    "\n",
    "for i, df in enumerate(frames):\n",
    "    frames[i] = frames[i][0:round(0.1*frames[i].shape[0])]\n",
    "    print(frames[i].shape)"
   ]
  },
  {
   "cell_type": "code",
   "execution_count": 237,
   "metadata": {
    "ExecuteTime": {
     "end_time": "2020-01-01T07:13:52.983709Z",
     "start_time": "2020-01-01T07:13:50.334091Z"
    }
   },
   "outputs": [],
   "source": [
    "train = raw_train.copy()\n",
    "train_labels = raw_train_labels.copy()\n",
    "test = raw_test.copy()"
   ]
  },
  {
   "cell_type": "markdown",
   "metadata": {},
   "source": [
    "## Run modified remove_dead_weight function"
   ]
  },
  {
   "cell_type": "code",
   "execution_count": 238,
   "metadata": {
    "ExecuteTime": {
     "end_time": "2020-01-01T07:13:57.943265Z",
     "start_time": "2020-01-01T07:13:52.984677Z"
    }
   },
   "outputs": [],
   "source": [
    "train = remove_dead_weight(train, train_labels)\n",
    "test = remove_dead_weight(test, train_labels, test_set=True)"
   ]
  },
  {
   "cell_type": "code",
   "execution_count": 239,
   "metadata": {
    "ExecuteTime": {
     "end_time": "2020-01-01T07:13:57.952262Z",
     "start_time": "2020-01-01T07:13:57.945230Z"
    }
   },
   "outputs": [
    {
     "data": {
      "text/plain": [
       "(7696400, 11)"
      ]
     },
     "execution_count": 239,
     "metadata": {},
     "output_type": "execute_result"
    }
   ],
   "source": [
    "train.shape"
   ]
  },
  {
   "cell_type": "markdown",
   "metadata": {},
   "source": [
    "## Process time"
   ]
  },
  {
   "cell_type": "code",
   "execution_count": 240,
   "metadata": {
    "ExecuteTime": {
     "end_time": "2020-01-01T07:14:09.171890Z",
     "start_time": "2020-01-01T07:13:57.955237Z"
    }
   },
   "outputs": [],
   "source": [
    "# convert timestamp to correct datetime type\n",
    "train['timestamp'] = pd.to_datetime(train['timestamp'], infer_datetime_format=True)\n",
    "test['timestamp'] = pd.to_datetime(test['timestamp'], infer_datetime_format=True)"
   ]
  },
  {
   "cell_type": "code",
   "execution_count": 241,
   "metadata": {
    "ExecuteTime": {
     "end_time": "2020-01-01T07:14:09.176892Z",
     "start_time": "2020-01-01T07:14:09.172890Z"
    }
   },
   "outputs": [],
   "source": [
    "# have the ability to break datetime into year, month, day, etc with add_datepart in library"
   ]
  },
  {
   "cell_type": "markdown",
   "metadata": {},
   "source": [
    "## Encode data\n",
    "\n",
    "https://towardsdatascience.com/understanding-feature-engineering-part-2-categorical-data-f54324193e63"
   ]
  },
  {
   "cell_type": "code",
   "execution_count": 242,
   "metadata": {
    "ExecuteTime": {
     "end_time": "2020-01-01T07:14:34.046854Z",
     "start_time": "2020-01-01T07:14:09.178892Z"
    }
   },
   "outputs": [],
   "source": [
    "train, test = encode_col(train, test, 'title')\n",
    "train, test = encode_col(train, test, 'world')"
   ]
  },
  {
   "cell_type": "code",
   "execution_count": 243,
   "metadata": {
    "ExecuteTime": {
     "end_time": "2020-01-01T07:14:34.053835Z",
     "start_time": "2020-01-01T07:14:34.047799Z"
    }
   },
   "outputs": [
    {
     "data": {
      "text/plain": [
       "(7696400, 59)"
      ]
     },
     "execution_count": 243,
     "metadata": {},
     "output_type": "execute_result"
    }
   ],
   "source": [
    "train.shape"
   ]
  },
  {
   "cell_type": "markdown",
   "metadata": {},
   "source": [
    "## Bin event codes"
   ]
  },
  {
   "cell_type": "code",
   "execution_count": 244,
   "metadata": {
    "ExecuteTime": {
     "end_time": "2020-01-01T07:14:34.062806Z",
     "start_time": "2020-01-01T07:14:34.056800Z"
    }
   },
   "outputs": [],
   "source": [
    "#TBD"
   ]
  },
  {
   "cell_type": "markdown",
   "metadata": {},
   "source": [
    "## Process Data\n",
    "\n",
    "https://www.kaggle.com/ragnar123/truncated-train-ensemble"
   ]
  },
  {
   "cell_type": "code",
   "execution_count": 245,
   "metadata": {
    "ExecuteTime": {
     "end_time": "2020-01-01T07:18:24.896433Z",
     "start_time": "2020-01-01T07:14:34.065802Z"
    }
   },
   "outputs": [
    {
     "data": {
      "application/vnd.jupyter.widget-view+json": {
       "model_id": "bbdd347983924206a37e3226d27f94ac",
       "version_major": 2,
       "version_minor": 0
      },
      "text/plain": [
       "HBox(children=(IntProgress(value=0, max=3614), HTML(value='')))"
      ]
     },
     "metadata": {},
     "output_type": "display_data"
    },
    {
     "name": "stdout",
     "output_type": "stream",
     "text": [
      "\n"
     ]
    },
    {
     "data": {
      "application/vnd.jupyter.widget-view+json": {
       "model_id": "f8b2bb1eb0eb4c61906d7b8e91a62d97",
       "version_major": 2,
       "version_minor": 0
      },
      "text/plain": [
       "HBox(children=(IntProgress(value=0, max=3614), HTML(value='')))"
      ]
     },
     "metadata": {},
     "output_type": "display_data"
    },
    {
     "name": "stdout",
     "output_type": "stream",
     "text": [
      "\n"
     ]
    }
   ],
   "source": [
    "compiled_train_data = process_data(train)\n",
    "compiled_test_data = process_data(test, test_set=True)"
   ]
  },
  {
   "cell_type": "code",
   "execution_count": 246,
   "metadata": {
    "ExecuteTime": {
     "end_time": "2020-01-01T07:18:24.902440Z",
     "start_time": "2020-01-01T07:18:24.898434Z"
    }
   },
   "outputs": [
    {
     "data": {
      "text/plain": [
       "17690"
      ]
     },
     "execution_count": 246,
     "metadata": {},
     "output_type": "execute_result"
    }
   ],
   "source": [
    "len(compiled_train_data)"
   ]
  },
  {
   "cell_type": "code",
   "execution_count": 279,
   "metadata": {
    "ExecuteTime": {
     "end_time": "2020-01-01T07:30:50.592956Z",
     "start_time": "2020-01-01T07:30:49.535796Z"
    }
   },
   "outputs": [],
   "source": [
    "compiled_train = pd.concat(compiled_train_data, axis=1).T"
   ]
  },
  {
   "cell_type": "code",
   "execution_count": 280,
   "metadata": {
    "ExecuteTime": {
     "end_time": "2020-01-01T07:30:50.624534Z",
     "start_time": "2020-01-01T07:30:50.594813Z"
    }
   },
   "outputs": [],
   "source": [
    "compiled_train.drop('installation_id_slice', axis=1, inplace=True)"
   ]
  },
  {
   "cell_type": "code",
   "execution_count": 281,
   "metadata": {
    "ExecuteTime": {
     "end_time": "2020-01-01T07:30:51.068366Z",
     "start_time": "2020-01-01T07:30:50.859353Z"
    }
   },
   "outputs": [],
   "source": [
    "compiled_test = pd.concat(compiled_test_data, axis=1).T"
   ]
  },
  {
   "cell_type": "code",
   "execution_count": 282,
   "metadata": {
    "ExecuteTime": {
     "end_time": "2020-01-01T07:30:52.834050Z",
     "start_time": "2020-01-01T07:30:52.826023Z"
    }
   },
   "outputs": [
    {
     "name": "stdout",
     "output_type": "stream",
     "text": [
      "set()\n"
     ]
    },
    {
     "data": {
      "text/plain": [
       "((17690, 63), (3614, 63))"
      ]
     },
     "execution_count": 282,
     "metadata": {},
     "output_type": "execute_result"
    }
   ],
   "source": [
    "print(set(compiled_train.columns).difference(set(compiled_test.columns)))\n",
    "compiled_train.shape, compiled_test.shape"
   ]
  },
  {
   "cell_type": "markdown",
   "metadata": {},
   "source": [
    "## Add accuracy group from train_labels dataframe"
   ]
  },
  {
   "cell_type": "code",
   "execution_count": 251,
   "metadata": {
    "ExecuteTime": {
     "end_time": "2020-01-01T07:18:26.186555Z",
     "start_time": "2020-01-01T07:18:26.179544Z"
    }
   },
   "outputs": [
    {
     "data": {
      "text/plain": [
       "Index(['game_session', 'installation_id', 'title', 'num_correct',\n",
       "       'num_incorrect', 'accuracy', 'accuracy_group'],\n",
       "      dtype='object')"
      ]
     },
     "execution_count": 251,
     "metadata": {},
     "output_type": "execute_result"
    }
   ],
   "source": [
    "# just verifying\n",
    "train_labels.columns"
   ]
  },
  {
   "cell_type": "code",
   "execution_count": 252,
   "metadata": {
    "ExecuteTime": {
     "end_time": "2020-01-01T07:18:26.295543Z",
     "start_time": "2020-01-01T07:18:26.188546Z"
    },
    "scrolled": true
   },
   "outputs": [
    {
     "data": {
      "text/html": [
       "<div>\n",
       "<style scoped>\n",
       "    .dataframe tbody tr th:only-of-type {\n",
       "        vertical-align: middle;\n",
       "    }\n",
       "\n",
       "    .dataframe tbody tr th {\n",
       "        vertical-align: top;\n",
       "    }\n",
       "\n",
       "    .dataframe thead th {\n",
       "        text-align: right;\n",
       "    }\n",
       "</style>\n",
       "<table border=\"1\" class=\"dataframe\">\n",
       "  <thead>\n",
       "    <tr style=\"text-align: right;\">\n",
       "      <th></th>\n",
       "      <th>event_id</th>\n",
       "      <th>game_session</th>\n",
       "      <th>timestamp</th>\n",
       "      <th>event_data</th>\n",
       "      <th>installation_id</th>\n",
       "      <th>event_count</th>\n",
       "      <th>event_code</th>\n",
       "      <th>game_time</th>\n",
       "      <th>title</th>\n",
       "      <th>type</th>\n",
       "      <th>...</th>\n",
       "      <th>title_Welcome to Lost Lagoon!</th>\n",
       "      <th>world_CRYSTALCAVES</th>\n",
       "      <th>world_MAGMAPEAK</th>\n",
       "      <th>world_NONE</th>\n",
       "      <th>world_TREETOPCITY</th>\n",
       "      <th>total_event_count</th>\n",
       "      <th>avg_event_count</th>\n",
       "      <th>total_game_time</th>\n",
       "      <th>avg_game_time</th>\n",
       "      <th>accuracy_group</th>\n",
       "    </tr>\n",
       "  </thead>\n",
       "  <tbody>\n",
       "    <tr>\n",
       "      <td>0</td>\n",
       "      <td>3bfd1a65</td>\n",
       "      <td>901acc108f55a5a1</td>\n",
       "      <td>2019-08-06 05:22:01.344000+00:00</td>\n",
       "      <td>{\"version\":\"1.0\",\"event_count\":1,\"game_time\":0...</td>\n",
       "      <td>0006a69f</td>\n",
       "      <td>1</td>\n",
       "      <td>2000</td>\n",
       "      <td>0</td>\n",
       "      <td>Mushroom Sorter (Assessment)</td>\n",
       "      <td>Assessment</td>\n",
       "      <td>...</td>\n",
       "      <td>2</td>\n",
       "      <td>0</td>\n",
       "      <td>235</td>\n",
       "      <td>2</td>\n",
       "      <td>411</td>\n",
       "      <td>36473</td>\n",
       "      <td>56.2855</td>\n",
       "      <td>35855793</td>\n",
       "      <td>5.12226e+06</td>\n",
       "      <td>3</td>\n",
       "    </tr>\n",
       "    <tr>\n",
       "      <td>1</td>\n",
       "      <td>f56e0afc</td>\n",
       "      <td>77b8ee947eb84b4e</td>\n",
       "      <td>2019-08-06 05:35:19.167000+00:00</td>\n",
       "      <td>{\"version\":\"1.0\",\"event_count\":1,\"game_time\":0...</td>\n",
       "      <td>0006a69f</td>\n",
       "      <td>1</td>\n",
       "      <td>2000</td>\n",
       "      <td>0</td>\n",
       "      <td>Bird Measurer (Assessment)</td>\n",
       "      <td>Assessment</td>\n",
       "      <td>...</td>\n",
       "      <td>2</td>\n",
       "      <td>0</td>\n",
       "      <td>235</td>\n",
       "      <td>2</td>\n",
       "      <td>907</td>\n",
       "      <td>76743</td>\n",
       "      <td>67.083</td>\n",
       "      <td>71139760</td>\n",
       "      <td>6.46725e+06</td>\n",
       "      <td>0</td>\n",
       "    </tr>\n",
       "    <tr>\n",
       "      <td>2</td>\n",
       "      <td>3bfd1a65</td>\n",
       "      <td>6bdf9623adc94d89</td>\n",
       "      <td>2019-08-06 05:37:50.020000+00:00</td>\n",
       "      <td>{\"version\":\"1.0\",\"event_count\":1,\"game_time\":0...</td>\n",
       "      <td>0006a69f</td>\n",
       "      <td>1</td>\n",
       "      <td>2000</td>\n",
       "      <td>0</td>\n",
       "      <td>Mushroom Sorter (Assessment)</td>\n",
       "      <td>Assessment</td>\n",
       "      <td>...</td>\n",
       "      <td>2</td>\n",
       "      <td>0</td>\n",
       "      <td>235</td>\n",
       "      <td>2</td>\n",
       "      <td>994</td>\n",
       "      <td>80571</td>\n",
       "      <td>65.4517</td>\n",
       "      <td>75295894</td>\n",
       "      <td>6.27466e+06</td>\n",
       "      <td>3</td>\n",
       "    </tr>\n",
       "    <tr>\n",
       "      <td>3</td>\n",
       "      <td>3bfd1a65</td>\n",
       "      <td>9501794defd84e4d</td>\n",
       "      <td>2019-08-06 20:34:53.812000+00:00</td>\n",
       "      <td>{\"version\":\"1.0\",\"event_count\":1,\"game_time\":0...</td>\n",
       "      <td>0006a69f</td>\n",
       "      <td>1</td>\n",
       "      <td>2000</td>\n",
       "      <td>0</td>\n",
       "      <td>Mushroom Sorter (Assessment)</td>\n",
       "      <td>Assessment</td>\n",
       "      <td>...</td>\n",
       "      <td>3</td>\n",
       "      <td>0</td>\n",
       "      <td>728</td>\n",
       "      <td>3</td>\n",
       "      <td>1412</td>\n",
       "      <td>134171</td>\n",
       "      <td>62.609</td>\n",
       "      <td>196331339</td>\n",
       "      <td>8.92415e+06</td>\n",
       "      <td>2</td>\n",
       "    </tr>\n",
       "    <tr>\n",
       "      <td>4</td>\n",
       "      <td>f56e0afc</td>\n",
       "      <td>a9ef3ecb3d1acc6a</td>\n",
       "      <td>2019-08-06 20:49:59.095000+00:00</td>\n",
       "      <td>{\"version\":\"1.0\",\"event_count\":1,\"game_time\":0...</td>\n",
       "      <td>0006a69f</td>\n",
       "      <td>1</td>\n",
       "      <td>2000</td>\n",
       "      <td>0</td>\n",
       "      <td>Bird Measurer (Assessment)</td>\n",
       "      <td>Assessment</td>\n",
       "      <td>...</td>\n",
       "      <td>3</td>\n",
       "      <td>0</td>\n",
       "      <td>728</td>\n",
       "      <td>3</td>\n",
       "      <td>1839</td>\n",
       "      <td>159744</td>\n",
       "      <td>62.1572</td>\n",
       "      <td>230347603</td>\n",
       "      <td>8.85952e+06</td>\n",
       "      <td>3</td>\n",
       "    </tr>\n",
       "  </tbody>\n",
       "</table>\n",
       "<p>5 rows × 64 columns</p>\n",
       "</div>"
      ],
      "text/plain": [
       "   event_id      game_session                        timestamp  \\\n",
       "0  3bfd1a65  901acc108f55a5a1 2019-08-06 05:22:01.344000+00:00   \n",
       "1  f56e0afc  77b8ee947eb84b4e 2019-08-06 05:35:19.167000+00:00   \n",
       "2  3bfd1a65  6bdf9623adc94d89 2019-08-06 05:37:50.020000+00:00   \n",
       "3  3bfd1a65  9501794defd84e4d 2019-08-06 20:34:53.812000+00:00   \n",
       "4  f56e0afc  a9ef3ecb3d1acc6a 2019-08-06 20:49:59.095000+00:00   \n",
       "\n",
       "                                          event_data installation_id  \\\n",
       "0  {\"version\":\"1.0\",\"event_count\":1,\"game_time\":0...        0006a69f   \n",
       "1  {\"version\":\"1.0\",\"event_count\":1,\"game_time\":0...        0006a69f   \n",
       "2  {\"version\":\"1.0\",\"event_count\":1,\"game_time\":0...        0006a69f   \n",
       "3  {\"version\":\"1.0\",\"event_count\":1,\"game_time\":0...        0006a69f   \n",
       "4  {\"version\":\"1.0\",\"event_count\":1,\"game_time\":0...        0006a69f   \n",
       "\n",
       "  event_count event_code game_time                         title        type  \\\n",
       "0           1       2000         0  Mushroom Sorter (Assessment)  Assessment   \n",
       "1           1       2000         0    Bird Measurer (Assessment)  Assessment   \n",
       "2           1       2000         0  Mushroom Sorter (Assessment)  Assessment   \n",
       "3           1       2000         0  Mushroom Sorter (Assessment)  Assessment   \n",
       "4           1       2000         0    Bird Measurer (Assessment)  Assessment   \n",
       "\n",
       "   ... title_Welcome to Lost Lagoon! world_CRYSTALCAVES world_MAGMAPEAK  \\\n",
       "0  ...                             2                  0             235   \n",
       "1  ...                             2                  0             235   \n",
       "2  ...                             2                  0             235   \n",
       "3  ...                             3                  0             728   \n",
       "4  ...                             3                  0             728   \n",
       "\n",
       "  world_NONE world_TREETOPCITY total_event_count avg_event_count  \\\n",
       "0          2               411             36473         56.2855   \n",
       "1          2               907             76743          67.083   \n",
       "2          2               994             80571         65.4517   \n",
       "3          3              1412            134171          62.609   \n",
       "4          3              1839            159744         62.1572   \n",
       "\n",
       "  total_game_time avg_game_time accuracy_group  \n",
       "0        35855793   5.12226e+06              3  \n",
       "1        71139760   6.46725e+06              0  \n",
       "2        75295894   6.27466e+06              3  \n",
       "3       196331339   8.92415e+06              2  \n",
       "4       230347603   8.85952e+06              3  \n",
       "\n",
       "[5 rows x 64 columns]"
      ]
     },
     "execution_count": 252,
     "metadata": {},
     "output_type": "execute_result"
    }
   ],
   "source": [
    "compiled_train = pd.merge(compiled_train, train_labels[['installation_id','game_session','accuracy_group']], \\\n",
    "                  on=['installation_id','game_session'])\n",
    "compiled_train.head()"
   ]
  },
  {
   "cell_type": "markdown",
   "metadata": {},
   "source": [
    "## Convert as many columns as possible to numeric"
   ]
  },
  {
   "cell_type": "code",
   "execution_count": 253,
   "metadata": {
    "ExecuteTime": {
     "end_time": "2020-01-01T07:18:26.301559Z",
     "start_time": "2020-01-01T07:18:26.296542Z"
    }
   },
   "outputs": [],
   "source": [
    "def numerize(df):\n",
    "    for i, column in enumerate(df.columns):\n",
    "        col = df.columns[i]\n",
    "        df[col] = pd.to_numeric(df[col], errors='ignore')\n",
    "    return df"
   ]
  },
  {
   "cell_type": "code",
   "execution_count": 254,
   "metadata": {
    "ExecuteTime": {
     "end_time": "2020-01-01T07:18:27.231558Z",
     "start_time": "2020-01-01T07:18:26.303544Z"
    }
   },
   "outputs": [],
   "source": [
    "# for i, column in enumerate(compiled_train.columns):\n",
    "#     col = compiled_train.columns[i]\n",
    "#     compiled_train[col] = pd.to_numeric(compiled_train[col], errors='ignore')\n",
    "\n",
    "# compiled_train.info()\n",
    "\n",
    "compiled_train = numerize(compiled_train)\n",
    "compiled_test = numerize(compiled_test)\n"
   ]
  },
  {
   "cell_type": "code",
   "execution_count": 255,
   "metadata": {
    "ExecuteTime": {
     "end_time": "2020-01-01T07:18:27.238545Z",
     "start_time": "2020-01-01T07:18:27.232544Z"
    }
   },
   "outputs": [
    {
     "data": {
      "text/plain": [
       "((17690, 64), (3614, 63))"
      ]
     },
     "execution_count": 255,
     "metadata": {},
     "output_type": "execute_result"
    }
   ],
   "source": [
    "compiled_train.shape, compiled_test.shape"
   ]
  },
  {
   "cell_type": "markdown",
   "metadata": {},
   "source": [
    "## Train RF model"
   ]
  },
  {
   "cell_type": "code",
   "execution_count": 256,
   "metadata": {
    "ExecuteTime": {
     "end_time": "2020-01-01T07:18:27.247552Z",
     "start_time": "2020-01-01T07:18:27.241576Z"
    }
   },
   "outputs": [],
   "source": [
    "from sklearn.ensemble import RandomForestClassifier\n",
    "from sklearn.model_selection import train_test_split\n",
    "from sklearn.metrics import accuracy_score\n",
    "from sklearn.preprocessing import StandardScaler"
   ]
  },
  {
   "cell_type": "code",
   "execution_count": 257,
   "metadata": {
    "ExecuteTime": {
     "end_time": "2020-01-01T07:18:27.742578Z",
     "start_time": "2020-01-01T07:18:27.248543Z"
    }
   },
   "outputs": [
    {
     "name": "stdout",
     "output_type": "stream",
     "text": [
      "(17690, 56)\n",
      "(3614, 56)\n"
     ]
    },
    {
     "name": "stderr",
     "output_type": "stream",
     "text": [
      "C:\\Users\\604572\\Continuum\\anaconda3\\lib\\site-packages\\sklearn\\ensemble\\forest.py:245: FutureWarning: The default value of n_estimators will change from 10 in version 0.20 to 100 in 0.22.\n",
      "  \"10 in version 0.20 to 100 in 0.22.\", FutureWarning)\n"
     ]
    },
    {
     "data": {
      "text/plain": [
       "0.48191068400226117"
      ]
     },
     "execution_count": 257,
     "metadata": {},
     "output_type": "execute_result"
    }
   ],
   "source": [
    "scaler = StandardScaler()\n",
    "\n",
    "# get numeric fields only\n",
    "#X = compiled_train._get_numeric_data().drop('accuracy_group', axis=1).iloc[:,:-3]\n",
    "\n",
    "X = compiled_train.drop('accuracy_group', axis=1)._get_numeric_data()\n",
    "print(X.shape)\n",
    "#print(compiled_test.shape)\n",
    "X_scaled = scaler.fit_transform(X)\n",
    "y = compiled_train.accuracy_group\n",
    "\n",
    "compiled_test_scaled = scaler.transform(compiled_test._get_numeric_data())\n",
    "print(compiled_test_scaled.shape)\n",
    "\n",
    "X_train, X_test, y_train, y_test = train_test_split(X_scaled, y, test_size=.2, random_state=42)\n",
    "rf = RandomForestClassifier()\n",
    "rf.fit(X_train, y_train)\n",
    "y_pred = rf.predict(X_test)\n",
    "accuracy_score(y_test, y_pred)"
   ]
  },
  {
   "cell_type": "code",
   "execution_count": 269,
   "metadata": {
    "ExecuteTime": {
     "end_time": "2020-01-01T07:18:28.233545Z",
     "start_time": "2020-01-01T07:18:28.228545Z"
    }
   },
   "outputs": [],
   "source": [
    "#test_prediction = rf.predict(compiled_test_scaled)\n",
    "#list(zip(compiled_test.installation_id, test_prediction))"
   ]
  },
  {
   "cell_type": "code",
   "execution_count": 270,
   "metadata": {
    "ExecuteTime": {
     "end_time": "2020-01-01T07:18:28.239544Z",
     "start_time": "2020-01-01T07:18:28.234543Z"
    },
    "scrolled": true
   },
   "outputs": [],
   "source": [
    "# To create a submission:\n",
    "# submission = pd.DataFrame()\n",
    "# submission['installation_id'] = compiled_test.installation_id\n",
    "# submission['accuracy_group'] = test_prediction\n",
    "# submission.head()"
   ]
  },
  {
   "cell_type": "code",
   "execution_count": 271,
   "metadata": {
    "ExecuteTime": {
     "end_time": "2020-01-01T07:18:28.251755Z",
     "start_time": "2020-01-01T07:18:28.241559Z"
    }
   },
   "outputs": [],
   "source": [
    "#submission.accuracy_group.value_counts()"
   ]
  },
  {
   "cell_type": "code",
   "execution_count": 272,
   "metadata": {
    "ExecuteTime": {
     "end_time": "2020-01-01T07:18:28.258570Z",
     "start_time": "2020-01-01T07:18:28.253546Z"
    }
   },
   "outputs": [],
   "source": [
    "#submission.to_csv('submission_1_1_2020.csv',index=False)"
   ]
  },
  {
   "cell_type": "markdown",
   "metadata": {},
   "source": [
    "## Balance classes"
   ]
  },
  {
   "cell_type": "code",
   "execution_count": 273,
   "metadata": {
    "ExecuteTime": {
     "end_time": "2020-01-01T07:18:28.300544Z",
     "start_time": "2020-01-01T07:18:28.259546Z"
    }
   },
   "outputs": [
    {
     "data": {
      "text/plain": [
       "3    2205\n",
       "2    2205\n",
       "1    2205\n",
       "0    2205\n",
       "Name: accuracy_group, dtype: int64"
      ]
     },
     "execution_count": 273,
     "metadata": {},
     "output_type": "execute_result"
    }
   ],
   "source": [
    "from sklearn.utils import resample\n",
    "\n",
    "# Separate classes\n",
    "df_0 = compiled_train[compiled_train.accuracy_group==0]\n",
    "df_1 = compiled_train[compiled_train.accuracy_group==1]\n",
    "df_2 = compiled_train[compiled_train.accuracy_group==2]\n",
    "df_3 = compiled_train[compiled_train.accuracy_group==3]\n",
    "\n",
    "# Downsample 3, 0, 1 to 2's level - n=419\n",
    "resampled_dfs = [df_2]\n",
    "\n",
    "for i in [df_0,df_1,df_3]:  \n",
    "    downsampled_df = resample(i, \n",
    "                              replace=False, # sample without replacement\n",
    "                              n_samples = min(compiled_train.accuracy_group.value_counts()), #  to match minority\n",
    "                              random_state = 42)  # reproducibility\n",
    "    resampled_dfs.append(downsampled_df)\n",
    "\n",
    "balanced_compiled_train = pd.concat(resampled_dfs, axis=0)\n",
    "\n",
    "balanced_compiled_train.accuracy_group.value_counts()"
   ]
  },
  {
   "cell_type": "code",
   "execution_count": 274,
   "metadata": {
    "ExecuteTime": {
     "end_time": "2020-01-01T07:18:28.535544Z",
     "start_time": "2020-01-01T07:18:28.301544Z"
    }
   },
   "outputs": [
    {
     "name": "stderr",
     "output_type": "stream",
     "text": [
      "C:\\Users\\604572\\Continuum\\anaconda3\\lib\\site-packages\\sklearn\\ensemble\\forest.py:245: FutureWarning: The default value of n_estimators will change from 10 in version 0.20 to 100 in 0.22.\n",
      "  \"10 in version 0.20 to 100 in 0.22.\", FutureWarning)\n"
     ]
    },
    {
     "data": {
      "text/plain": [
       "0.3344671201814059"
      ]
     },
     "execution_count": 274,
     "metadata": {},
     "output_type": "execute_result"
    }
   ],
   "source": [
    "scaler = StandardScaler()\n",
    "\n",
    "X = balanced_compiled_train._get_numeric_data().drop('accuracy_group', axis=1)\n",
    "X_scaled = scaler.fit_transform(X)\n",
    "y = balanced_compiled_train.accuracy_group\n",
    "\n",
    "X_train, X_test, y_train, y_test = train_test_split(X_scaled, y, test_size=.2, random_state=42)\n",
    "rf = RandomForestClassifier()\n",
    "rf.fit(X_train, y_train)\n",
    "y_pred = rf.predict(X_test)\n",
    "accuracy_score(y_test, y_pred)"
   ]
  },
  {
   "cell_type": "code",
   "execution_count": 275,
   "metadata": {
    "ExecuteTime": {
     "end_time": "2020-01-01T07:18:28.578543Z",
     "start_time": "2020-01-01T07:18:28.537544Z"
    }
   },
   "outputs": [
    {
     "data": {
      "text/plain": [
       "[('0006a69f', 0),\n",
       " ('0006c192', 3),\n",
       " ('00129856', 0),\n",
       " ('001d0ed0', 2),\n",
       " ('00225f67', 0),\n",
       " ('00279ac5', 1),\n",
       " ('002db7e3', 2),\n",
       " ('003372b0', 1),\n",
       " ('004c2091', 0),\n",
       " ('00634433', 0),\n",
       " ('00667b88', 0),\n",
       " ('00691033', 1),\n",
       " ('00a0dbeb', 0),\n",
       " ('00a53963', 0),\n",
       " ('00ad158e', 0),\n",
       " ('00b9d8e6', 0),\n",
       " ('00cef781', 0),\n",
       " ('00e17272', 0),\n",
       " ('00e536bf', 1),\n",
       " ('00fa8681', 1),\n",
       " ('00fc65b6', 2),\n",
       " ('010bc1d5', 0),\n",
       " ('01120f12', 0),\n",
       " ('0153c957', 0),\n",
       " ('0155dd86', 0),\n",
       " ('015776b4', 0),\n",
       " ('01582211', 0),\n",
       " ('0160e7c5', 0),\n",
       " ('01825124', 2),\n",
       " ('01bdd720', 3),\n",
       " ('01cc53f3', 3),\n",
       " ('01d5e1f5', 3),\n",
       " ('01f71702', 1),\n",
       " ('01faa4bf', 3),\n",
       " ('022183ab', 3),\n",
       " ('0235fe9a', 2),\n",
       " ('023c4bcb', 0),\n",
       " ('02490b06', 0),\n",
       " ('026035e9', 0),\n",
       " ('026e3733', 1),\n",
       " ('027b3c4c', 3),\n",
       " ('0281f6bf', 1),\n",
       " ('02875dc2', 2),\n",
       " ('0293ae74', 0),\n",
       " ('02aa515f', 3),\n",
       " ('02b1fab4', 1),\n",
       " ('02c975bc', 0),\n",
       " ('02cdd48e', 0),\n",
       " ('02cdfffd', 2),\n",
       " ('02e76f43', 0),\n",
       " ('031af3b8', 0),\n",
       " ('0328fc8f', 0),\n",
       " ('03401e19', 3),\n",
       " ('03560e11', 0),\n",
       " ('03957682', 2),\n",
       " ('039e4ac7', 0),\n",
       " ('03a5b006', 2),\n",
       " ('03b74be5', 0),\n",
       " ('03bf2563', 1),\n",
       " ('03c5998d', 2),\n",
       " ('03cd458d', 0),\n",
       " ('03d15b59', 0),\n",
       " ('03e38765', 0),\n",
       " ('03f89040', 1),\n",
       " ('040dbdbe', 3),\n",
       " ('0413ae4a', 0),\n",
       " ('04240fb1', 0),\n",
       " ('0429e1ff', 0),\n",
       " ('043e7f32', 3),\n",
       " ('04616599', 0),\n",
       " ('046234c2', 0),\n",
       " ('0478b042', 3),\n",
       " ('04963bef', 1),\n",
       " ('04a57775', 3),\n",
       " ('04a5927d', 1),\n",
       " ('04c612fd', 1),\n",
       " ('04d77ef2', 0),\n",
       " ('04de2aae', 0),\n",
       " ('04e2712b', 0),\n",
       " ('04f2cf8f', 0),\n",
       " ('04f8b246', 1),\n",
       " ('04fa906f', 0),\n",
       " ('04fbee62', 0),\n",
       " ('05047409', 3),\n",
       " ('050f6d04', 0),\n",
       " ('05118f81', 0),\n",
       " ('051794c4', 1),\n",
       " ('051bc5a5', 3),\n",
       " ('05239f3f', 1),\n",
       " ('05309abe', 2),\n",
       " ('053e6353', 3),\n",
       " ('0583693e', 0),\n",
       " ('05a3ae61', 0),\n",
       " ('05aaa5c9', 0),\n",
       " ('05b198a5', 3),\n",
       " ('05bc97c3', 3),\n",
       " ('0607efb8', 2),\n",
       " ('0633cad0', 2),\n",
       " ('063405ff', 1),\n",
       " ('06362232', 0),\n",
       " ('063e3e02', 0),\n",
       " ('0642544a', 0),\n",
       " ('06435d15', 0),\n",
       " ('064c24c0', 1),\n",
       " ('0688471f', 0),\n",
       " ('06906111', 1),\n",
       " ('06a6dea0', 0),\n",
       " ('06d28015', 3),\n",
       " ('06e6a3e3', 1),\n",
       " ('06f12094', 1),\n",
       " ('072a25ac', 0),\n",
       " ('074b4825', 0),\n",
       " ('075cbae2', 2),\n",
       " ('076b08db', 0),\n",
       " ('077173b2', 0),\n",
       " ('07731248', 1),\n",
       " ('077b3c9c', 3),\n",
       " ('07861450', 1),\n",
       " ('07921f07', 1),\n",
       " ('0793409e', 0),\n",
       " ('07ae5a97', 0),\n",
       " ('07b3fc17', 1),\n",
       " ('07be824e', 0),\n",
       " ('07c25408', 0),\n",
       " ('07efaff2', 3),\n",
       " ('08062502', 0),\n",
       " ('080f9689', 1),\n",
       " ('0864d9a2', 1),\n",
       " ('088caf6e', 0),\n",
       " ('08987c08', 0),\n",
       " ('08a47256', 1),\n",
       " ('08a6814c', 0),\n",
       " ('08d50b54', 0),\n",
       " ('08df1cd0', 1),\n",
       " ('08df9f9c', 1),\n",
       " ('08e5c4e6', 0),\n",
       " ('08eee52e', 0),\n",
       " ('091d51e8', 0),\n",
       " ('091f80a9', 0),\n",
       " ('0925babb', 0),\n",
       " ('092691b2', 0),\n",
       " ('09296168', 1),\n",
       " ('0938a8eb', 1),\n",
       " ('099a3ab8', 0),\n",
       " ('09a22787', 0),\n",
       " ('09bbf58e', 0),\n",
       " ('09d4b5a0', 1),\n",
       " ('09ffa409', 0),\n",
       " ('0a00abf7', 0),\n",
       " ('0a0957ca', 2),\n",
       " ('0a0b1178', 1),\n",
       " ('0a2bea41', 1),\n",
       " ('0a313708', 3),\n",
       " ('0a386c5e', 1),\n",
       " ('0a45d619', 0),\n",
       " ('0a90d04c', 0),\n",
       " ('0ab39a3b', 0),\n",
       " ('0b105ef6', 0),\n",
       " ('0b2fe8e3', 1),\n",
       " ('0b51fa75', 0),\n",
       " ('0b554988', 0),\n",
       " ('0b6d68e5', 3),\n",
       " ('0b7ad11d', 0),\n",
       " ('0b80b297', 0),\n",
       " ('0b9885aa', 2),\n",
       " ('0b9df2fe', 1),\n",
       " ('0bb3bb7f', 0),\n",
       " ('0bb876f0', 3),\n",
       " ('0bbdf324', 0),\n",
       " ('0be4126e', 0),\n",
       " ('0be831c0', 1),\n",
       " ('0bed589b', 0),\n",
       " ('0bf95a69', 0),\n",
       " ('0c11e6a6', 0),\n",
       " ('0c565b53', 0),\n",
       " ('0ca9ff42', 0),\n",
       " ('0cb081d8', 1),\n",
       " ('0cb56246', 0),\n",
       " ('0cc1d512', 0),\n",
       " ('0cc2a247', 3),\n",
       " ('0cd05f81', 0),\n",
       " ('0ceb6116', 0),\n",
       " ('0cec1323', 1),\n",
       " ('0cf2a23c', 1),\n",
       " ('0d09ed83', 3),\n",
       " ('0d230220', 0),\n",
       " ('0d5a0603', 0),\n",
       " ('0d5a1a5e', 2),\n",
       " ('0d7a9eb6', 0),\n",
       " ('0d8cdec2', 1),\n",
       " ('0d9d00d2', 0),\n",
       " ('0db380b1', 1),\n",
       " ('0db9cfbb', 1),\n",
       " ('0dcda606', 0),\n",
       " ('0dd5afc5', 0),\n",
       " ('0e02f80d', 0),\n",
       " ('0e06b371', 0),\n",
       " ('0e0a3652', 0),\n",
       " ('0e1506ef', 1),\n",
       " ('0e31fa8d', 2),\n",
       " ('0e6ce372', 2),\n",
       " ('0e6fab41', 3),\n",
       " ('0e70dddc', 2),\n",
       " ('0e792a70', 0),\n",
       " ('0ea6142a', 1),\n",
       " ('0ec92788', 0),\n",
       " ('0ed88e7d', 0),\n",
       " ('0ef56279', 0),\n",
       " ('0ef62aad', 2),\n",
       " ('0f07e13a', 0),\n",
       " ('0f0eb744', 0),\n",
       " ('0f11e020', 2),\n",
       " ('0f2e23b4', 0),\n",
       " ('0f331094', 1),\n",
       " ('0f35f808', 0),\n",
       " ('0f47f086', 0),\n",
       " ('0f568eb8', 1),\n",
       " ('0f5b30fb', 0),\n",
       " ('0fa2ac20', 2),\n",
       " ('0fa3edde', 1),\n",
       " ('0fa644f7', 0),\n",
       " ('0fbc47c6', 1),\n",
       " ('0fdd65f6', 0),\n",
       " ('1001b649', 0),\n",
       " ('1014b8ac', 3),\n",
       " ('10189f14', 2),\n",
       " ('10224630', 2),\n",
       " ('10337552', 1),\n",
       " ('10629430', 0),\n",
       " ('10734096', 1),\n",
       " ('107c95d8', 2),\n",
       " ('107e6f09', 0),\n",
       " ('108634a9', 2),\n",
       " ('1091d87b', 0),\n",
       " ('1098ba58', 3),\n",
       " ('109a4bce', 1),\n",
       " ('10ac4a88', 0),\n",
       " ('10b85970', 0),\n",
       " ('10b95d3e', 1),\n",
       " ('10f22a60', 0),\n",
       " ('10f7bed2', 0),\n",
       " ('11052b00', 1),\n",
       " ('110da640', 1),\n",
       " ('1123e9b8', 0),\n",
       " ('11353e10', 2),\n",
       " ('113e6e4d', 0),\n",
       " ('114a661c', 0),\n",
       " ('1150ce68', 3),\n",
       " ('115c97cc', 0),\n",
       " ('117a6053', 0),\n",
       " ('118afe5c', 3),\n",
       " ('1192a921', 3),\n",
       " ('1196d776', 0),\n",
       " ('11bbb62a', 1),\n",
       " ('11bc89f6', 0),\n",
       " ('11bde99b', 3),\n",
       " ('11c1f6e6', 2),\n",
       " ('11c7b926', 3),\n",
       " ('11ec8e57', 0),\n",
       " ('12064b31', 0),\n",
       " ('120f5bba', 0),\n",
       " ('12356ffe', 1),\n",
       " ('123a40a1', 0),\n",
       " ('124beffd', 1),\n",
       " ('127a663b', 0),\n",
       " ('12887b75', 0),\n",
       " ('128cb8b9', 0),\n",
       " ('129ae199', 1),\n",
       " ('12a9a35e', 0),\n",
       " ('12a9e4fc', 1),\n",
       " ('12b80194', 0),\n",
       " ('12c8ca47', 0),\n",
       " ('12cd3afd', 0),\n",
       " ('12d91fc7', 3),\n",
       " ('130a0090', 2),\n",
       " ('131b4d17', 0),\n",
       " ('1335d915', 1),\n",
       " ('134597df', 0),\n",
       " ('13504def', 0),\n",
       " ('13655d9a', 2),\n",
       " ('1365c3d1', 0),\n",
       " ('137ed46f', 3),\n",
       " ('1385c007', 0),\n",
       " ('1390933c', 2),\n",
       " ('139d4500', 0),\n",
       " ('13c26706', 2),\n",
       " ('13e4f56d', 2),\n",
       " ('13e74388', 2),\n",
       " ('13f554bb', 0),\n",
       " ('1410894b', 2),\n",
       " ('14142f8f', 2),\n",
       " ('1420bbcf', 2),\n",
       " ('143192eb', 0),\n",
       " ('1435f85e', 0),\n",
       " ('144c4f85', 0),\n",
       " ('14735217', 3),\n",
       " ('147bb360', 0),\n",
       " ('1487877c', 2),\n",
       " ('14b2c464', 0),\n",
       " ('14c0df75', 1),\n",
       " ('14c523fa', 0),\n",
       " ('14e3bbbe', 2),\n",
       " ('14e608e2', 0),\n",
       " ('14e76b17', 1),\n",
       " ('14fffed5', 2),\n",
       " ('153d137c', 0),\n",
       " ('15546c59', 1),\n",
       " ('15785cc9', 0),\n",
       " ('159d25aa', 0),\n",
       " ('15b84ab7', 0),\n",
       " ('15ccb431', 3),\n",
       " ('15dc3a59', 0),\n",
       " ('1602ddbc', 3),\n",
       " ('161bd6dc', 2),\n",
       " ('16218a6d', 0),\n",
       " ('16276a94', 0),\n",
       " ('16342c61', 0),\n",
       " ('1659fa60', 3),\n",
       " ('167e023b', 2),\n",
       " ('1690f5a2', 0),\n",
       " ('16a1c85a', 0),\n",
       " ('16a27f19', 0),\n",
       " ('16b9aae1', 0),\n",
       " ('16d4f3e6', 0),\n",
       " ('16de3583', 1),\n",
       " ('16e07456', 0),\n",
       " ('16e2f82f', 0),\n",
       " ('16e70ecd', 2),\n",
       " ('16eb8609', 0),\n",
       " ('16f08e23', 0),\n",
       " ('1711805c', 0),\n",
       " ('172eb0d1', 0),\n",
       " ('17356e54', 2),\n",
       " ('1752d7f9', 3),\n",
       " ('177f44e8', 0),\n",
       " ('1785c411', 0),\n",
       " ('179a11b2', 3),\n",
       " ('17a784cb', 1),\n",
       " ('17b3c2ba', 0),\n",
       " ('17be17ac', 0),\n",
       " ('17d0baa0', 0),\n",
       " ('17d6833a', 0),\n",
       " ('17e0d33c', 0),\n",
       " ('17f01389', 1),\n",
       " ('1813c8a6', 0),\n",
       " ('182b7671', 0),\n",
       " ('18310132', 0),\n",
       " ('18315690', 0),\n",
       " ('183bed63', 3),\n",
       " ('18459039', 2),\n",
       " ('1850d3ca', 0),\n",
       " ('1865bd64', 2),\n",
       " ('186e87c9', 3),\n",
       " ('18706205', 0),\n",
       " ('1873b0a0', 2),\n",
       " ('18752175', 3),\n",
       " ('18841c7f', 0),\n",
       " ('18c880c3', 0),\n",
       " ('19069efa', 1),\n",
       " ('191884de', 0),\n",
       " ('19197e5e', 0),\n",
       " ('191b94d8', 0),\n",
       " ('191cf026', 0),\n",
       " ('191e6714', 0),\n",
       " ('19219fcc', 0),\n",
       " ('1968e1ac', 1),\n",
       " ('1971b593', 0),\n",
       " ('19722076', 1),\n",
       " ('199e6765', 0),\n",
       " ('19a49ad4', 0),\n",
       " ('19a910b3', 0),\n",
       " ('19bf1284', 2),\n",
       " ('19d1cedf', 2),\n",
       " ('19d4b097', 1),\n",
       " ('19d7f303', 2),\n",
       " ('19e0a1f7', 0),\n",
       " ('19e3c8b7', 0),\n",
       " ('19e806f2', 0),\n",
       " ('19f0ad61', 3),\n",
       " ('19f7f9ed', 3),\n",
       " ('1a072d1b', 2),\n",
       " ('1a1c88f7', 0),\n",
       " ('1a1ed230', 1),\n",
       " ('1a20ab68', 0),\n",
       " ('1a5ec009', 2),\n",
       " ('1a641f93', 2),\n",
       " ('1a7061a0', 0),\n",
       " ('1a733fdb', 0),\n",
       " ('1a7565ef', 1),\n",
       " ('1a97afc6', 3),\n",
       " ('1ab1f8b4', 0),\n",
       " ('1ab42a64', 0),\n",
       " ('1ada7dc9', 1),\n",
       " ('1adab037', 0),\n",
       " ('1ae140f6', 0),\n",
       " ('1aec05d4', 0),\n",
       " ('1af82d0c', 2),\n",
       " ('1b11d9f3', 0),\n",
       " ('1b142503', 1),\n",
       " ('1b25f68b', 2),\n",
       " ('1b296f31', 0),\n",
       " ('1b2aeab1', 3),\n",
       " ('1b2ebc1d', 3),\n",
       " ('1b48736b', 2),\n",
       " ('1b4ff2dc', 0),\n",
       " ('1b5d07f2', 2),\n",
       " ('1b80bbff', 0),\n",
       " ('1b8cbfef', 1),\n",
       " ('1b8df104', 3),\n",
       " ('1baa26ab', 2),\n",
       " ('1bb2e994', 1),\n",
       " ('1bc822b4', 0),\n",
       " ('1bcc13f1', 2),\n",
       " ('1bcc9937', 1),\n",
       " ('1bf688b3', 1),\n",
       " ('1bfc9ff2', 0),\n",
       " ('1bfe38b4', 3),\n",
       " ('1c0934dd', 2),\n",
       " ('1c0c62a0', 1),\n",
       " ('1c180647', 1),\n",
       " ('1c3d7cdb', 1),\n",
       " ('1c41b8b2', 0),\n",
       " ('1c5011af', 1),\n",
       " ('1c5a0788', 0),\n",
       " ('1c67d188', 2),\n",
       " ('1c8e6bcd', 1),\n",
       " ('1c8fd41d', 2),\n",
       " ('1cb7456d', 2),\n",
       " ('1cd01bd6', 0),\n",
       " ('1d019430', 0),\n",
       " ('1d05d451', 1),\n",
       " ('1d10c898', 3),\n",
       " ('1d1bf90e', 3),\n",
       " ('1d27c2ca', 3),\n",
       " ('1d3532e8', 3),\n",
       " ('1d40ffac', 0),\n",
       " ('1d62a6b5', 2),\n",
       " ('1d69ae3b', 3),\n",
       " ('1d6f86cc', 0),\n",
       " ('1d990a85', 2),\n",
       " ('1d9eefc1', 0),\n",
       " ('1da24568', 0),\n",
       " ('1dac7b6e', 0),\n",
       " ('1db2b42b', 3),\n",
       " ('1dbbd324', 0),\n",
       " ('1df1f92f', 0),\n",
       " ('1df9a1d0', 3),\n",
       " ('1dfb04ab', 0),\n",
       " ('1e234323', 0),\n",
       " ('1e24f5f1', 2),\n",
       " ('1e3ea087', 0),\n",
       " ('1e3ec615', 0),\n",
       " ('1e4ec97f', 0),\n",
       " ('1e51428a', 0),\n",
       " ('1e7731ca', 0),\n",
       " ('1e819b97', 2),\n",
       " ('1e90d6cd', 2),\n",
       " ('1e992f25', 0),\n",
       " ('1e9f5b6b', 3),\n",
       " ('1eb09260', 0),\n",
       " ('1eb38a34', 0),\n",
       " ('1eb5b4d7', 0),\n",
       " ('1edb7aef', 0),\n",
       " ('1edcf8f5', 0),\n",
       " ('1edecf49', 0),\n",
       " ('1ef92a72', 0),\n",
       " ('1f1a9eb0', 0),\n",
       " ('1f1d6953', 0),\n",
       " ('1f1e4dec', 2),\n",
       " ('1f3b5454', 0),\n",
       " ('1f4be402', 1),\n",
       " ('1f71eb61', 0),\n",
       " ('1f96c571', 2),\n",
       " ('1ff68ad6', 2),\n",
       " ('2055a59a', 2),\n",
       " ('205cf211', 2),\n",
       " ('206e5f51', 2),\n",
       " ('2085fc24', 0),\n",
       " ('20a0601a', 0),\n",
       " ('20b0a1df', 1),\n",
       " ('20c21767', 0),\n",
       " ('20d7ed1e', 1),\n",
       " ('21007a23', 2),\n",
       " ('211c5b5b', 0),\n",
       " ('212da6c0', 1),\n",
       " ('215cc688', 0),\n",
       " ('215ff509', 0),\n",
       " ('21608806', 0),\n",
       " ('21691319', 0),\n",
       " ('2182993b', 0),\n",
       " ('219a2006', 0),\n",
       " ('21ad5f50', 1),\n",
       " ('21aff3e0', 1),\n",
       " ('21b6035c', 2),\n",
       " ('21b9f1ed', 2),\n",
       " ('21d386f1', 1),\n",
       " ('21d736be', 0),\n",
       " ('21e1d6a4', 0),\n",
       " ('21e844ce', 3),\n",
       " ('2204b983', 0),\n",
       " ('2212586b', 0),\n",
       " ('22146a34', 0),\n",
       " ('221d1857', 0),\n",
       " ('222cc74c', 1),\n",
       " ('229905d3', 0),\n",
       " ('22c227cc', 1),\n",
       " ('22c46c3a', 1),\n",
       " ('22cd0068', 2),\n",
       " ('22cf747f', 0),\n",
       " ('22ea7daf', 0),\n",
       " ('230b4b6e', 0),\n",
       " ('23250900', 3),\n",
       " ('232e7bd4', 1),\n",
       " ('23612836', 0),\n",
       " ('2379e42a', 0),\n",
       " ('238c9dd2', 0),\n",
       " ('23b22c52', 2),\n",
       " ('23bec3a2', 0),\n",
       " ('23c20838', 1),\n",
       " ('23dfe778', 0),\n",
       " ('2414a83a', 0),\n",
       " ('241a0a60', 3),\n",
       " ('243d6bd3', 1),\n",
       " ('245709a3', 1),\n",
       " ('246b6df7', 0),\n",
       " ('24745e8e', 0),\n",
       " ('24b7cbeb', 0),\n",
       " ('24c2e756', 1),\n",
       " ('24e0caf9', 0),\n",
       " ('24f229fb', 1),\n",
       " ('25016398', 0),\n",
       " ('2505e76e', 3),\n",
       " ('25202ea5', 3),\n",
       " ('25880efb', 0),\n",
       " ('25950822', 1),\n",
       " ('259dbafb', 1),\n",
       " ('25c970ca', 0),\n",
       " ('25d3e9af', 0),\n",
       " ('25dfef88', 0),\n",
       " ('25eb29dc', 0),\n",
       " ('25eefcc6', 0),\n",
       " ('25f3145d', 2),\n",
       " ('25ff0f8e', 0),\n",
       " ('260f7e45', 1),\n",
       " ('262220a2', 0),\n",
       " ('2655d95e', 0),\n",
       " ('265bfa7d', 3),\n",
       " ('26684ff9', 3),\n",
       " ('2672b955', 0),\n",
       " ('268e407b', 0),\n",
       " ('2691f124', 0),\n",
       " ('26998071', 0),\n",
       " ('269eca6d', 0),\n",
       " ('26ab8f19', 0),\n",
       " ('26c49948', 1),\n",
       " ('26d524bb', 0),\n",
       " ('26ef4a4a', 3),\n",
       " ('26f7f2cb', 0),\n",
       " ('27224ec1', 0),\n",
       " ('272d77a3', 0),\n",
       " ('27418ceb', 0),\n",
       " ('27554b53', 0),\n",
       " ('276e06a0', 0),\n",
       " ('277104d1', 1),\n",
       " ('27949ce8', 0),\n",
       " ('27c14aa4', 2),\n",
       " ('27f4aef7', 1),\n",
       " ('27f5fc57', 0),\n",
       " ('27ff6e96', 0),\n",
       " ('280d21e1', 0),\n",
       " ('281e0b40', 0),\n",
       " ('281f09d5', 0),\n",
       " ('28351d4e', 0),\n",
       " ('2836f356', 0),\n",
       " ('283b890c', 1),\n",
       " ('28433ead', 2),\n",
       " ('286965cf', 1),\n",
       " ('28ade8fe', 0),\n",
       " ('28be351b', 2),\n",
       " ('28bf9492', 0),\n",
       " ('28c61280', 1),\n",
       " ('28ff0400', 0),\n",
       " ('292075c1', 1),\n",
       " ('292f912b', 0),\n",
       " ('2938c185', 1),\n",
       " ('293b1825', 0),\n",
       " ('296f8e73', 0),\n",
       " ('2970f996', 1),\n",
       " ('2977c68b', 3),\n",
       " ('2983a7b6', 2),\n",
       " ('298479bb', 0),\n",
       " ('29a8065d', 2),\n",
       " ('29ade093', 3),\n",
       " ('29b1134f', 0),\n",
       " ('29b12ea2', 0),\n",
       " ('29d0fbd9', 0),\n",
       " ('29d1aaee', 2),\n",
       " ('29d667aa', 0),\n",
       " ('29e5b74b', 1),\n",
       " ('29fdbcc5', 0),\n",
       " ('2a128809', 2),\n",
       " ('2a19b836', 3),\n",
       " ('2a222143', 0),\n",
       " ('2a254497', 2),\n",
       " ('2a59981a', 0),\n",
       " ('2a5c9f6b', 2),\n",
       " ('2a5e1f5b', 0),\n",
       " ('2a6efccc', 2),\n",
       " ('2a704e84', 0),\n",
       " ('2a7d0473', 3),\n",
       " ('2abac457', 0),\n",
       " ('2ac9d9d3', 1),\n",
       " ('2adc00e9', 1),\n",
       " ('2b025506', 0),\n",
       " ('2b1e900f', 0),\n",
       " ('2b2ba346', 2),\n",
       " ('2b2ec2df', 3),\n",
       " ('2b381903', 0),\n",
       " ('2b64115c', 3),\n",
       " ('2b68a5db', 2),\n",
       " ('2b948865', 3),\n",
       " ('2bb6d155', 3),\n",
       " ('2bbb8433', 3),\n",
       " ('2bcbf99b', 0),\n",
       " ('2bce37dc', 0),\n",
       " ('2bda292e', 2),\n",
       " ('2bf81ef1', 3),\n",
       " ('2c183ed4', 0),\n",
       " ('2c2a886f', 1),\n",
       " ('2c3756c3', 0),\n",
       " ('2c3c414b', 0),\n",
       " ('2c445570', 0),\n",
       " ('2c4f896e', 0),\n",
       " ('2c676054', 0),\n",
       " ('2c85420f', 2),\n",
       " ('2c8998a6', 0),\n",
       " ('2c8c7952', 1),\n",
       " ('2cb3f01f', 1),\n",
       " ('2cb958cf', 0),\n",
       " ('2cd0e982', 2),\n",
       " ('2cd281b9', 2),\n",
       " ('2cdf2ff1', 2),\n",
       " ('2cf72cc2', 3),\n",
       " ('2d08cc18', 2),\n",
       " ('2d0a6638', 1),\n",
       " ('2d178b46', 2),\n",
       " ('2d1f55ad', 1),\n",
       " ('2d2b92b0', 1),\n",
       " ('2d4a9118', 0),\n",
       " ('2d569b6d', 1),\n",
       " ('2d6c11a8', 2),\n",
       " ('2d6d1ecd', 2),\n",
       " ('2d7762bc', 0),\n",
       " ('2d8d1d30', 1),\n",
       " ('2d968114', 0),\n",
       " ('2db1403f', 0),\n",
       " ('2df817bf', 1),\n",
       " ('2e06e291', 0),\n",
       " ('2e17f66c', 0),\n",
       " ('2e280a49', 0),\n",
       " ('2e38f144', 1),\n",
       " ('2e4594b0', 0),\n",
       " ('2e45fd1f', 1),\n",
       " ('2e6c5ac7', 3),\n",
       " ('2e6d8334', 0),\n",
       " ('2e716b10', 3),\n",
       " ('2ea676a9', 0),\n",
       " ('2eb66d90', 3),\n",
       " ('2eb7fd3a', 3),\n",
       " ('2ec486c2', 2),\n",
       " ('2ed1a3fb', 3),\n",
       " ('2eea0b01', 0),\n",
       " ('2f171282', 0),\n",
       " ('2f18de66', 2),\n",
       " ('2f252c6d', 0),\n",
       " ('2f2ab766', 0),\n",
       " ('2f322c2c', 0),\n",
       " ('2f44d796', 3),\n",
       " ('2f471329', 1),\n",
       " ('2f54c2bb', 0),\n",
       " ('2f607e24', 0),\n",
       " ('2f716330', 2),\n",
       " ('2f7f616d', 1),\n",
       " ('2f8c8aa1', 1),\n",
       " ('2fcf1bec', 0),\n",
       " ('2fe3078d', 1),\n",
       " ('2fef95e7', 0),\n",
       " ('2ff4c220', 0),\n",
       " ('2ff7b20e', 0),\n",
       " ('2ffb27f9', 1),\n",
       " ('3009466e', 0),\n",
       " ('302d600a', 3),\n",
       " ('3034eec6', 2),\n",
       " ('3054e1dc', 0),\n",
       " ('30610304', 2),\n",
       " ('30671559', 0),\n",
       " ('30689dec', 0),\n",
       " ('30899e57', 0),\n",
       " ('30a8581e', 0),\n",
       " ('30ad064c', 0),\n",
       " ('30b2518d', 0),\n",
       " ('30c18e53', 1),\n",
       " ('30e38068', 0),\n",
       " ('30eb551d', 0),\n",
       " ('30f9645c', 1),\n",
       " ('30fa1043', 0),\n",
       " ('30faa211', 2),\n",
       " ('30fc94a9', 2),\n",
       " ('30fec3ca', 1),\n",
       " ('31170e6f', 0),\n",
       " ('3148d250', 0),\n",
       " ('315861e9', 3),\n",
       " ('31597632', 3),\n",
       " ('315b2c14', 0),\n",
       " ('31701a28', 0),\n",
       " ('317a9387', 0),\n",
       " ('318f8685', 1),\n",
       " ('31995662', 1),\n",
       " ('31aea1fe', 3),\n",
       " ('31cca637', 0),\n",
       " ('31ced803', 1),\n",
       " ('31dad13d', 1),\n",
       " ('31dbb558', 0),\n",
       " ('31e7f05b', 0),\n",
       " ('31eb2c13', 0),\n",
       " ('31f1aa59', 3),\n",
       " ('31f4e863', 0),\n",
       " ('31f89b19', 0),\n",
       " ('31f90c23', 0),\n",
       " ('3205d05b', 0),\n",
       " ('320de033', 3),\n",
       " ('321fbc89', 0),\n",
       " ('322f7ea1', 0),\n",
       " ('323c7403', 1),\n",
       " ('3254c82c', 0),\n",
       " ('3261dd98', 1),\n",
       " ('3264c2db', 0),\n",
       " ('326c5547', 0),\n",
       " ('32bc358e', 0),\n",
       " ('32c2b121', 0),\n",
       " ('32ee1b00', 1),\n",
       " ('32f39539', 0),\n",
       " ('33055146', 0),\n",
       " ('331e62f7', 0),\n",
       " ('33431b63', 2),\n",
       " ('3353217d', 2),\n",
       " ('3357f66b', 0),\n",
       " ('33777855', 0),\n",
       " ('338ddc67', 2),\n",
       " ('33a40a24', 0),\n",
       " ('33c1f79c', 0),\n",
       " ('33ccb073', 0),\n",
       " ('33cd1301', 3),\n",
       " ('33e41b33', 0),\n",
       " ('33e4333e', 0),\n",
       " ('34217050', 3),\n",
       " ('342be259', 0),\n",
       " ('343f56f4', 1),\n",
       " ('344fd656', 0),\n",
       " ('345706ff', 2),\n",
       " ('346ac291', 2),\n",
       " ('3470ed15', 0),\n",
       " ('34790713', 0),\n",
       " ('348f93bf', 0),\n",
       " ('34942688', 0),\n",
       " ('349ecc0e', 2),\n",
       " ('34d1f794', 3),\n",
       " ('35054b88', 0),\n",
       " ('350834c1', 0),\n",
       " ('350a31cd', 1),\n",
       " ('35289c91', 0),\n",
       " ('353622fd', 1),\n",
       " ('353848da', 2),\n",
       " ('353cee0e', 0),\n",
       " ('356672a8', 0),\n",
       " ('35a0efa9', 0),\n",
       " ('35a11691', 2),\n",
       " ('35bf830c', 0),\n",
       " ('35c1abcf', 0),\n",
       " ('35cff99d', 2),\n",
       " ('35e5b972', 0),\n",
       " ('35e704e6', 0),\n",
       " ('35fb0787', 1),\n",
       " ('3614c8eb', 0),\n",
       " ('364d1a28', 0),\n",
       " ('365bdd63', 1),\n",
       " ('3673020a', 1),\n",
       " ('3677d381', 0),\n",
       " ('369a195a', 2),\n",
       " ('36a50492', 0),\n",
       " ('36b3e7d3', 0),\n",
       " ('36bd989b', 2),\n",
       " ('36be6a97', 1),\n",
       " ('36ef852b', 2),\n",
       " ('36f3e789', 0),\n",
       " ('370b33d6', 0),\n",
       " ('370e92d3', 0),\n",
       " ('37123dcb', 1),\n",
       " ('371a7c29', 2),\n",
       " ('37326cf5', 0),\n",
       " ('3738f1cd', 0),\n",
       " ('3744efef', 3),\n",
       " ('375690fc', 1),\n",
       " ('376980a2', 3),\n",
       " ('37795aab', 0),\n",
       " ('377cee6e', 2),\n",
       " ('37892700', 0),\n",
       " ('37990ff7', 0),\n",
       " ('379c5ab6', 0),\n",
       " ('37acf253', 3),\n",
       " ('37b774ad', 0),\n",
       " ('37d577b8', 2),\n",
       " ('37e0d8b9', 0),\n",
       " ('37f162a4', 0),\n",
       " ('37f5416d', 0),\n",
       " ('37feca2f', 0),\n",
       " ('380dfa02', 0),\n",
       " ('3812b497', 2),\n",
       " ('3838dfb8', 1),\n",
       " ('3844eaca', 0),\n",
       " ('38509434', 0),\n",
       " ('3852ab9f', 3),\n",
       " ('3853cc65', 0),\n",
       " ('38664000', 3),\n",
       " ('3888dad8', 0),\n",
       " ('3893cbc7', 3),\n",
       " ('38c0b8f3', 0),\n",
       " ('38d2d438', 0),\n",
       " ('38d4594d', 0),\n",
       " ('38f278dc', 0),\n",
       " ('3910f0a9', 0),\n",
       " ('391b2423', 0),\n",
       " ('396c8b53', 1),\n",
       " ('3976c33d', 3),\n",
       " ('39cb30b8', 0),\n",
       " ('39e0ca0e', 1),\n",
       " ('39eba5b9', 1),\n",
       " ('39f17a2c', 2),\n",
       " ('39f23d50', 2),\n",
       " ('3a1f7bd9', 1),\n",
       " ('3a22e1df', 0),\n",
       " ('3a36ef30', 3),\n",
       " ('3a3c4fb5', 2),\n",
       " ('3a509a6a', 1),\n",
       " ('3a53d91c', 2),\n",
       " ('3ab4f204', 2),\n",
       " ('3ab58ab3', 0),\n",
       " ('3ac7783f', 0),\n",
       " ('3ae52929', 1),\n",
       " ('3b05218e', 1),\n",
       " ('3b06140b', 1),\n",
       " ('3b2a487c', 2),\n",
       " ('3b2b8f9b', 2),\n",
       " ('3b3fab03', 0),\n",
       " ('3b4db17f', 1),\n",
       " ('3b7bd089', 3),\n",
       " ('3b9394a9', 1),\n",
       " ('3bb33286', 0),\n",
       " ('3bb34a96', 3),\n",
       " ('3bb92342', 1),\n",
       " ('3bd55510', 2),\n",
       " ('3c098a20', 1),\n",
       " ('3c2b3d0a', 1),\n",
       " ('3c2dfeae', 0),\n",
       " ('3c78ea4f', 0),\n",
       " ('3c7a8e1e', 0),\n",
       " ('3ca5193d', 1),\n",
       " ('3caf9db4', 0),\n",
       " ('3cc16a0f', 1),\n",
       " ('3cdea815', 1),\n",
       " ('3d08a609', 1),\n",
       " ('3d0b67e3', 0),\n",
       " ('3d2812a5', 0),\n",
       " ('3d30888d', 0),\n",
       " ('3d468987', 1),\n",
       " ('3d474419', 0),\n",
       " ('3d50f182', 1),\n",
       " ('3d55295d', 3),\n",
       " ('3d8e6b3d', 0),\n",
       " ('3d953af1', 1),\n",
       " ('3d9c468d', 1),\n",
       " ('3da950e8', 1),\n",
       " ('3daab4ba', 1),\n",
       " ('3dbbde1a', 3),\n",
       " ('3dbdfa87', 1),\n",
       " ('3dc1fe35', 0),\n",
       " ('3dd5c65d', 2),\n",
       " ('3ddc5f3a', 0),\n",
       " ('3df30779', 1),\n",
       " ('3dfd1caa', 0),\n",
       " ('3e1be597', 0),\n",
       " ('3e245bde', 0),\n",
       " ('3e46891c', 1),\n",
       " ('3e4d6151', 1),\n",
       " ('3e4f5371', 2),\n",
       " ('3e5db1f7', 0),\n",
       " ('3e622d97', 0),\n",
       " ('3e6e65d9', 1),\n",
       " ('3e7f4479', 0),\n",
       " ('3e8a51a6', 3),\n",
       " ('3e974f1a', 1),\n",
       " ('3eb3ec97', 1),\n",
       " ('3ebd4081', 1),\n",
       " ('3ec1f21c', 2),\n",
       " ('3ec203e4', 1),\n",
       " ('3ecb1ca7', 1),\n",
       " ('3ed90167', 0),\n",
       " ('3eed9fc8', 0),\n",
       " ('3ef19ad9', 1),\n",
       " ('3f01a6f6', 0),\n",
       " ('3f0c9e15', 3),\n",
       " ('3f0dca37', 2),\n",
       " ('3f0f2fed', 0),\n",
       " ('3f10048a', 0),\n",
       " ('3f11dd13', 0),\n",
       " ('3f12d244', 1),\n",
       " ('3f1abed4', 0),\n",
       " ('3f1c32d7', 0),\n",
       " ('3f2a92e1', 0),\n",
       " ('3f367311', 0),\n",
       " ('3f5ca606', 0),\n",
       " ('3f67358b', 0),\n",
       " ('3f7849e3', 0),\n",
       " ('4026e5d9', 1),\n",
       " ('40488e96', 3),\n",
       " ('4056d487', 0),\n",
       " ('4065fabf', 0),\n",
       " ('406ebb06', 0),\n",
       " ('40894fa0', 0),\n",
       " ('409a3480', 1),\n",
       " ('40a1a6ea', 0),\n",
       " ('41013a7b', 0),\n",
       " ('410acfec', 2),\n",
       " ('410cc577', 0),\n",
       " ('4111736b', 0),\n",
       " ('41178d5e', 1),\n",
       " ('4123b28d', 2),\n",
       " ('4161c7c6', 2),\n",
       " ('416398f8', 2),\n",
       " ('41642173', 0),\n",
       " ('4164f67f', 1),\n",
       " ('41727892', 0),\n",
       " ('417f80aa', 2),\n",
       " ('4182245d', 2),\n",
       " ('41b12fcc', 2),\n",
       " ('41b5ad40', 0),\n",
       " ('41d97a20', 0),\n",
       " ('41e7f600', 1),\n",
       " ('41f34b23', 0),\n",
       " ('421782ed', 2),\n",
       " ('421e9404', 1),\n",
       " ('4228fe3b', 2),\n",
       " ('423baca3', 3),\n",
       " ('424232fc', 0),\n",
       " ('4252cdf2', 2),\n",
       " ('4253aa95', 1),\n",
       " ('4276a1a6', 3),\n",
       " ('427d2fc9', 3),\n",
       " ('4287d12e', 2),\n",
       " ('429100bb', 0),\n",
       " ('42aedefa', 0),\n",
       " ('42bcb537', 0),\n",
       " ('42c0071a', 0),\n",
       " ('42da42ea', 1),\n",
       " ('42e0d483', 2),\n",
       " ('42f03245', 0),\n",
       " ('433d1096', 1),\n",
       " ('434b67ca', 0),\n",
       " ('435a9b05', 0),\n",
       " ('436d5ed2', 1),\n",
       " ('4378b5ec', 0),\n",
       " ('437b2a81', 0),\n",
       " ('4385cb42', 1),\n",
       " ('438902fa', 3),\n",
       " ('43908faf', 1),\n",
       " ('43b0c813', 0),\n",
       " ('43ccecc0', 0),\n",
       " ('43f41153', 3),\n",
       " ('43ffb8cf', 1),\n",
       " ('4401afb5', 0),\n",
       " ('44047e6f', 0),\n",
       " ('4408d92a', 1),\n",
       " ('4425b524', 1),\n",
       " ('443722fc', 1),\n",
       " ('4443cd88', 0),\n",
       " ('444deed0', 0),\n",
       " ('445672bd', 0),\n",
       " ('445b1749', 0),\n",
       " ('445c959c', 0),\n",
       " ('446d6d10', 0),\n",
       " ('447e711e', 1),\n",
       " ('4483cbc3', 3),\n",
       " ('448ae109', 3),\n",
       " ('448ec0ef', 1),\n",
       " ('44a7ca78', 0),\n",
       " ('44b6886a', 0),\n",
       " ('44cc1631', 2),\n",
       " ('44e93571', 0),\n",
       " ('44fcc60a', 1),\n",
       " ('450aaf12', 1),\n",
       " ...]"
      ]
     },
     "execution_count": 275,
     "metadata": {},
     "output_type": "execute_result"
    }
   ],
   "source": [
    "test_prediction = rf.predict(compiled_test_scaled)\n",
    "list(zip(compiled_test.installation_id, test_prediction))"
   ]
  },
  {
   "cell_type": "code",
   "execution_count": 276,
   "metadata": {
    "ExecuteTime": {
     "end_time": "2020-01-01T07:18:28.590545Z",
     "start_time": "2020-01-01T07:18:28.580546Z"
    }
   },
   "outputs": [
    {
     "data": {
      "text/html": [
       "<div>\n",
       "<style scoped>\n",
       "    .dataframe tbody tr th:only-of-type {\n",
       "        vertical-align: middle;\n",
       "    }\n",
       "\n",
       "    .dataframe tbody tr th {\n",
       "        vertical-align: top;\n",
       "    }\n",
       "\n",
       "    .dataframe thead th {\n",
       "        text-align: right;\n",
       "    }\n",
       "</style>\n",
       "<table border=\"1\" class=\"dataframe\">\n",
       "  <thead>\n",
       "    <tr style=\"text-align: right;\">\n",
       "      <th></th>\n",
       "      <th>installation_id</th>\n",
       "      <th>accuracy_group</th>\n",
       "    </tr>\n",
       "  </thead>\n",
       "  <tbody>\n",
       "    <tr>\n",
       "      <td>3783</td>\n",
       "      <td>0006a69f</td>\n",
       "      <td>0</td>\n",
       "    </tr>\n",
       "    <tr>\n",
       "      <td>2220</td>\n",
       "      <td>0006c192</td>\n",
       "      <td>3</td>\n",
       "    </tr>\n",
       "    <tr>\n",
       "      <td>826</td>\n",
       "      <td>00129856</td>\n",
       "      <td>0</td>\n",
       "    </tr>\n",
       "    <tr>\n",
       "      <td>1019</td>\n",
       "      <td>001d0ed0</td>\n",
       "      <td>2</td>\n",
       "    </tr>\n",
       "    <tr>\n",
       "      <td>928</td>\n",
       "      <td>00225f67</td>\n",
       "      <td>0</td>\n",
       "    </tr>\n",
       "  </tbody>\n",
       "</table>\n",
       "</div>"
      ],
      "text/plain": [
       "     installation_id  accuracy_group\n",
       "3783        0006a69f               0\n",
       "2220        0006c192               3\n",
       "826         00129856               0\n",
       "1019        001d0ed0               2\n",
       "928         00225f67               0"
      ]
     },
     "execution_count": 276,
     "metadata": {},
     "output_type": "execute_result"
    }
   ],
   "source": [
    "submission = pd.DataFrame()\n",
    "submission['installation_id'] = compiled_test.installation_id\n",
    "submission['accuracy_group'] = test_prediction\n",
    "submission.head()"
   ]
  },
  {
   "cell_type": "code",
   "execution_count": 277,
   "metadata": {
    "ExecuteTime": {
     "end_time": "2020-01-01T07:18:28.599544Z",
     "start_time": "2020-01-01T07:18:28.591544Z"
    }
   },
   "outputs": [
    {
     "data": {
      "text/plain": [
       "0    1964\n",
       "1     724\n",
       "2     552\n",
       "3     374\n",
       "Name: accuracy_group, dtype: int64"
      ]
     },
     "execution_count": 277,
     "metadata": {},
     "output_type": "execute_result"
    }
   ],
   "source": [
    "submission.accuracy_group.value_counts()"
   ]
  },
  {
   "cell_type": "code",
   "execution_count": 278,
   "metadata": {
    "ExecuteTime": {
     "end_time": "2020-01-01T07:18:28.614541Z",
     "start_time": "2020-01-01T07:18:28.600544Z"
    }
   },
   "outputs": [],
   "source": [
    "submission.to_csv('submission_1_1_2020.csv',index=False)"
   ]
  },
  {
   "cell_type": "markdown",
   "metadata": {},
   "source": [
    "## determine why installation_ids in sample submission aren't found"
   ]
  },
  {
   "cell_type": "code",
   "execution_count": 291,
   "metadata": {
    "ExecuteTime": {
     "end_time": "2020-01-01T07:34:19.191954Z",
     "start_time": "2020-01-01T07:34:18.947954Z"
    }
   },
   "outputs": [
    {
     "data": {
      "text/plain": [
       "(1000, 3614)"
      ]
     },
     "execution_count": 291,
     "metadata": {},
     "output_type": "execute_result"
    }
   ],
   "source": [
    "sample.installation_id.nunique(), test.installation_id.nunique()"
   ]
  },
  {
   "cell_type": "code",
   "execution_count": 292,
   "metadata": {
    "ExecuteTime": {
     "end_time": "2020-01-01T07:34:52.845313Z",
     "start_time": "2020-01-01T07:34:52.839313Z"
    }
   },
   "outputs": [
    {
     "data": {
      "text/plain": [
       "3614"
      ]
     },
     "execution_count": 292,
     "metadata": {},
     "output_type": "execute_result"
    }
   ],
   "source": [
    "compiled_test.installation_id.nunique()"
   ]
  },
  {
   "cell_type": "code",
   "execution_count": null,
   "metadata": {},
   "outputs": [],
   "source": []
  }
 ],
 "metadata": {
  "hide_input": false,
  "kernelspec": {
   "display_name": "Python 3",
   "language": "python",
   "name": "python3"
  },
  "language_info": {
   "codemirror_mode": {
    "name": "ipython",
    "version": 3
   },
   "file_extension": ".py",
   "mimetype": "text/x-python",
   "name": "python",
   "nbconvert_exporter": "python",
   "pygments_lexer": "ipython3",
   "version": "3.7.3"
  }
 },
 "nbformat": 4,
 "nbformat_minor": 2
}

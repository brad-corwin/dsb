{
 "cells": [
  {
   "cell_type": "markdown",
   "metadata": {},
   "source": [
    "## Continue ensembles from v1 on full dataset format commonly used on Kaggle"
   ]
  },
  {
   "cell_type": "code",
   "execution_count": 1,
   "metadata": {
    "ExecuteTime": {
     "end_time": "2020-01-06T19:06:12.296200Z",
     "start_time": "2020-01-06T19:06:09.955054Z"
    }
   },
   "outputs": [],
   "source": [
    "import joblib\n",
    "import numpy as np\n",
    "import pandas as pd\n",
    "import matplotlib.pyplot as plt\n",
    "import seaborn as sns\n",
    "from tqdm.notebook import tqdm\n",
    "from collections import Counter\n",
    "\n",
    "# local imports\n",
    "from prepare import *\n",
    "from evaluate import *"
   ]
  },
  {
   "cell_type": "code",
   "execution_count": null,
   "metadata": {
    "ExecuteTime": {
     "start_time": "2020-01-06T21:34:59.372Z"
    }
   },
   "outputs": [],
   "source": [
    "def qwk3(a1, a2, max_rat=3):\n",
    "    \"\"\" function from kaggle\"\"\"\n",
    "    assert(len(a1) == len(a2))\n",
    "    a1 = np.asarray(a1, dtype=int)\n",
    "    a2 = np.asarray(a2, dtype=int)\n",
    "\n",
    "    hist1 = np.zeros((max_rat + 1, ))\n",
    "    hist2 = np.zeros((max_rat + 1, ))\n",
    "\n",
    "    o = 0\n",
    "    for k in range(a1.shape[0]):\n",
    "        i, j = a1[k], a2[k]\n",
    "        hist1[i] += 1\n",
    "        hist2[j] += 1\n",
    "        o +=  (i - j) * (i - j)\n",
    "\n",
    "    e = 0\n",
    "    for i in range(max_rat + 1):\n",
    "        for j in range(max_rat + 1):\n",
    "            e += hist1[i] * hist2[j] * (i - j) * (i - j)\n",
    "\n",
    "    e = e / a1.shape[0]\n",
    "\n",
    "    return 1 - o / e"
   ]
  },
  {
   "cell_type": "markdown",
   "metadata": {},
   "source": [
    "### Read in initial datasets if needed"
   ]
  },
  {
   "cell_type": "code",
   "execution_count": 3,
   "metadata": {
    "ExecuteTime": {
     "end_time": "2020-01-06T19:06:12.315047Z",
     "start_time": "2020-01-06T19:06:12.306020Z"
    }
   },
   "outputs": [],
   "source": [
    "#raw_train, raw_train_labels, raw_test, specs, sample = read_raw_csvs()\n",
    "#raw_train_labels = pd.read_csv('data/train_labels.csv')"
   ]
  },
  {
   "cell_type": "markdown",
   "metadata": {},
   "source": [
    "### Load large train/test features from Josh's work"
   ]
  },
  {
   "cell_type": "code",
   "execution_count": 4,
   "metadata": {
    "ExecuteTime": {
     "end_time": "2020-01-06T19:06:13.406560Z",
     "start_time": "2020-01-06T19:06:12.316023Z"
    }
   },
   "outputs": [
    {
     "data": {
      "text/plain": [
       "((17690, 891), (1000, 891))"
      ]
     },
     "execution_count": 4,
     "metadata": {},
     "output_type": "execute_result"
    }
   ],
   "source": [
    "reduced_train = pd.read_csv('reduce_train.csv')\n",
    "reduced_test = pd.read_csv('reduce_test.csv')\n",
    "reduced_train.shape, reduced_test.shape"
   ]
  },
  {
   "cell_type": "markdown",
   "metadata": {},
   "source": [
    "### Start throwing model mud at the wall"
   ]
  },
  {
   "cell_type": "code",
   "execution_count": 6,
   "metadata": {
    "ExecuteTime": {
     "end_time": "2020-01-06T19:06:13.497565Z",
     "start_time": "2020-01-06T19:06:13.412539Z"
    }
   },
   "outputs": [],
   "source": [
    "from catboost import CatBoostClassifier\n",
    "from sklearn.ensemble import RandomForestClassifier, AdaBoostClassifier, \\\n",
    "                                ExtraTreesClassifier, BaggingClassifier, \\\n",
    "                                GradientBoostingClassifier, VotingClassifier, StackingClassifier\n",
    "from sklearn.model_selection import train_test_split\n",
    "from sklearn.metrics import accuracy_score\n",
    "from sklearn.preprocessing import StandardScaler\n",
    "from sklearn.linear_model import LogisticRegression, SGDClassifier, RidgeClassifier\n",
    "from sklearn.neighbors import KNeighborsClassifier\n",
    "from sklearn.svm import SVC\n",
    "from sklearn.naive_bayes import GaussianNB\n",
    "import warnings\n",
    "warnings.filterwarnings('ignore')  #Ridge classifier throws some warnings about ill-conditioned matrix"
   ]
  },
  {
   "cell_type": "markdown",
   "metadata": {},
   "source": [
    "### Baseline accuracy of 50% (or 25% if balanced)"
   ]
  },
  {
   "cell_type": "code",
   "execution_count": 7,
   "metadata": {
    "ExecuteTime": {
     "end_time": "2020-01-06T19:06:13.508534Z",
     "start_time": "2020-01-06T19:06:13.498564Z"
    }
   },
   "outputs": [
    {
     "data": {
      "text/plain": [
       "3    0.500000\n",
       "0    0.239062\n",
       "1    0.136292\n",
       "2    0.124647\n",
       "Name: accuracy_group, dtype: float64"
      ]
     },
     "execution_count": 7,
     "metadata": {},
     "output_type": "execute_result"
    }
   ],
   "source": [
    "reduced_train.accuracy_group.value_counts(normalize=True)"
   ]
  },
  {
   "cell_type": "markdown",
   "metadata": {},
   "source": [
    "# Initialize Models and start testing accuracy"
   ]
  },
  {
   "cell_type": "code",
   "execution_count": 8,
   "metadata": {
    "ExecuteTime": {
     "end_time": "2020-01-06T19:06:13.514529Z",
     "start_time": "2020-01-06T19:06:13.510532Z"
    }
   },
   "outputs": [],
   "source": [
    "rf = RandomForestClassifier()\n",
    "rc = RidgeClassifier()\n",
    "ac = AdaBoostClassifier()\n",
    "et = ExtraTreesClassifier()\n",
    "bc = BaggingClassifier()\n",
    "gbc = GradientBoostingClassifier()\n",
    "\n",
    "clf = CatBoostClassifier(\n",
    "    loss_function='MultiClass',\n",
    "    task_type=\"CPU\",\n",
    "    learning_rate=0.01,\n",
    "    iterations=2000,\n",
    "    od_type=\"Iter\",\n",
    "    early_stopping_rounds=500,\n",
    "    random_seed=42\n",
    "    )\n",
    "\n",
    "# tried with minimal results\n",
    "#nb = GaussianNB()\n",
    "#lr = LogisticRegression()               ## if they are commented out, they weren't performing well (or operator error...)\n",
    "#sgd = SGDClassifier()"
   ]
  },
  {
   "cell_type": "code",
   "execution_count": 9,
   "metadata": {
    "ExecuteTime": {
     "end_time": "2020-01-06T19:06:13.522556Z",
     "start_time": "2020-01-06T19:06:13.515534Z"
    }
   },
   "outputs": [],
   "source": [
    "knn = KNeighborsClassifier()\n",
    "svc = SVC(probability=True, verbose=1)"
   ]
  },
  {
   "cell_type": "markdown",
   "metadata": {},
   "source": [
    "## Evaluate model performance"
   ]
  },
  {
   "cell_type": "code",
   "execution_count": 10,
   "metadata": {
    "ExecuteTime": {
     "end_time": "2020-01-06T19:06:26.017944Z",
     "start_time": "2020-01-06T19:06:13.523527Z"
    },
    "scrolled": true
   },
   "outputs": [
    {
     "name": "stdout",
     "output_type": "stream",
     "text": [
      "The accuracy of RandomForestClassifier is 0.5508762012436405\n",
      "The QWK of RandomForestClassifier is 0.3703937710916171\n",
      "              precision    recall  f1-score   support\n",
      "\n",
      "           0       0.54      0.51      0.52       826\n",
      "           1       0.28      0.11      0.15       509\n",
      "           2       0.18      0.06      0.09       437\n",
      "           3       0.60      0.82      0.69      1766\n",
      "\n",
      "    accuracy                           0.55      3538\n",
      "   macro avg       0.40      0.37      0.36      3538\n",
      "weighted avg       0.49      0.55      0.50      3538\n",
      "\n"
     ]
    },
    {
     "data": {
      "text/plain": [
       "RandomForestClassifier(bootstrap=True, ccp_alpha=0.0, class_weight=None,\n",
       "                       criterion='gini', max_depth=None, max_features='auto',\n",
       "                       max_leaf_nodes=None, max_samples=None,\n",
       "                       min_impurity_decrease=0.0, min_impurity_split=None,\n",
       "                       min_samples_leaf=1, min_samples_split=2,\n",
       "                       min_weight_fraction_leaf=0.0, n_estimators=100,\n",
       "                       n_jobs=None, oob_score=False, random_state=None,\n",
       "                       verbose=0, warm_start=False)"
      ]
     },
     "execution_count": 10,
     "metadata": {},
     "output_type": "execute_result"
    }
   ],
   "source": [
    "quick_eval(reduced_train, rf)"
   ]
  },
  {
   "cell_type": "code",
   "execution_count": null,
   "metadata": {
    "ExecuteTime": {
     "end_time": "2020-01-06T19:30:02.836251Z",
     "start_time": "2020-01-06T19:06:26.018939Z"
    },
    "scrolled": false
   },
   "outputs": [],
   "source": [
    "# Catboost - accuracy 56%a\n",
    "catbooster = quick_eval(reduced_train, clf, cv=True)"
   ]
  },
  {
   "cell_type": "markdown",
   "metadata": {},
   "source": [
    "## Train/test split and attempt purely catboost"
   ]
  },
  {
   "cell_type": "code",
   "execution_count": 14,
   "metadata": {
    "ExecuteTime": {
     "end_time": "2020-01-06T19:39:50.297015Z",
     "start_time": "2020-01-06T19:39:50.138970Z"
    }
   },
   "outputs": [],
   "source": [
    "X_train, X_test, y_train, y_test = train_test_split(reduced_train.drop('accuracy_group', axis=1)._get_numeric_data(), \n",
    "                                                   reduced_train.accuracy_group,\n",
    "                                                   test_size=.2,\n",
    "                                                   random_state=42)"
   ]
  },
  {
   "cell_type": "code",
   "execution_count": 52,
   "metadata": {
    "ExecuteTime": {
     "end_time": "2020-01-06T20:49:02.110173Z",
     "start_time": "2020-01-06T20:49:02.038177Z"
    }
   },
   "outputs": [
    {
     "name": "stdout",
     "output_type": "stream",
     "text": [
      "[0.51940396]\n",
      "0.5194039619602867\n"
     ]
    }
   ],
   "source": [
    "from sklearn.metrics import cohen_kappa_score\n",
    "y_pred = catbooster.predict(X_test)\n",
    "\n",
    "#confirimg these two functions do the same thing\n",
    "print(qwk3(y_pred, y_test))  #0.5194\n",
    "print(cohen_kappa_score(y_pred, y_test, weights='quadratic'))  #0.5194"
   ]
  },
  {
   "cell_type": "code",
   "execution_count": 21,
   "metadata": {
    "ExecuteTime": {
     "end_time": "2020-01-06T19:44:10.835458Z",
     "start_time": "2020-01-06T19:44:10.830474Z"
    }
   },
   "outputs": [
    {
     "data": {
      "text/plain": [
       "((17690, 891), (1000, 891))"
      ]
     },
     "execution_count": 21,
     "metadata": {},
     "output_type": "execute_result"
    }
   ],
   "source": [
    "reduced_train.shape, reduced_test.shape"
   ]
  },
  {
   "cell_type": "code",
   "execution_count": 27,
   "metadata": {
    "ExecuteTime": {
     "end_time": "2020-01-06T19:50:52.980572Z",
     "start_time": "2020-01-06T19:50:52.932525Z"
    },
    "scrolled": true
   },
   "outputs": [
    {
     "data": {
      "text/plain": [
       "1000"
      ]
     },
     "execution_count": 27,
     "metadata": {},
     "output_type": "execute_result"
    }
   ],
   "source": [
    "sub_pred = catbooster.predict(reduced_test._get_numeric_data())\n",
    "len(sub_pred)"
   ]
  },
  {
   "cell_type": "markdown",
   "metadata": {},
   "source": [
    "## Create submission for testing - scored .443"
   ]
  },
  {
   "cell_type": "code",
   "execution_count": 33,
   "metadata": {
    "ExecuteTime": {
     "end_time": "2020-01-06T19:54:28.665970Z",
     "start_time": "2020-01-06T19:54:28.639999Z"
    }
   },
   "outputs": [
    {
     "data": {
      "text/html": [
       "<div>\n",
       "<style scoped>\n",
       "    .dataframe tbody tr th:only-of-type {\n",
       "        vertical-align: middle;\n",
       "    }\n",
       "\n",
       "    .dataframe tbody tr th {\n",
       "        vertical-align: top;\n",
       "    }\n",
       "\n",
       "    .dataframe thead th {\n",
       "        text-align: right;\n",
       "    }\n",
       "</style>\n",
       "<table border=\"1\" class=\"dataframe\">\n",
       "  <thead>\n",
       "    <tr style=\"text-align: right;\">\n",
       "      <th></th>\n",
       "      <th>installation_id</th>\n",
       "      <th>accuracy_group</th>\n",
       "    </tr>\n",
       "  </thead>\n",
       "  <tbody>\n",
       "    <tr>\n",
       "      <th>0</th>\n",
       "      <td>00abaee7</td>\n",
       "      <td>3.0</td>\n",
       "    </tr>\n",
       "    <tr>\n",
       "      <th>1</th>\n",
       "      <td>01242218</td>\n",
       "      <td>3.0</td>\n",
       "    </tr>\n",
       "    <tr>\n",
       "      <th>2</th>\n",
       "      <td>017c5718</td>\n",
       "      <td>3.0</td>\n",
       "    </tr>\n",
       "    <tr>\n",
       "      <th>3</th>\n",
       "      <td>01a44906</td>\n",
       "      <td>3.0</td>\n",
       "    </tr>\n",
       "    <tr>\n",
       "      <th>4</th>\n",
       "      <td>01bc6cb6</td>\n",
       "      <td>3.0</td>\n",
       "    </tr>\n",
       "  </tbody>\n",
       "</table>\n",
       "</div>"
      ],
      "text/plain": [
       "  installation_id  accuracy_group\n",
       "0        00abaee7             3.0\n",
       "1        01242218             3.0\n",
       "2        017c5718             3.0\n",
       "3        01a44906             3.0\n",
       "4        01bc6cb6             3.0"
      ]
     },
     "execution_count": 33,
     "metadata": {},
     "output_type": "execute_result"
    }
   ],
   "source": [
    "sample_sub = pd.read_csv('data/sample_submission.csv')\n",
    "\n",
    "# To create a submission:\n",
    "submission = pd.DataFrame()\n",
    "submission['installation_id'] = sample_sub.installation_id\n",
    "submission['accuracy_group'] = sub_pred\n",
    "submission.head()"
   ]
  },
  {
   "cell_type": "code",
   "execution_count": 35,
   "metadata": {
    "ExecuteTime": {
     "end_time": "2020-01-06T19:55:00.416764Z",
     "start_time": "2020-01-06T19:55:00.406734Z"
    }
   },
   "outputs": [
    {
     "data": {
      "text/plain": [
       "3.0    0.762\n",
       "0.0    0.220\n",
       "1.0    0.018\n",
       "Name: accuracy_group, dtype: float64"
      ]
     },
     "execution_count": 35,
     "metadata": {},
     "output_type": "execute_result"
    }
   ],
   "source": [
    "submission.accuracy_group.value_counts(normalize=True)"
   ]
  },
  {
   "cell_type": "code",
   "execution_count": 36,
   "metadata": {
    "ExecuteTime": {
     "end_time": "2020-01-06T19:55:43.120495Z",
     "start_time": "2020-01-06T19:55:43.109450Z"
    }
   },
   "outputs": [],
   "source": [
    "submission.to_csv('preds.csv', index=False)"
   ]
  },
  {
   "cell_type": "code",
   "execution_count": 45,
   "metadata": {
    "ExecuteTime": {
     "end_time": "2020-01-06T20:21:39.294749Z",
     "start_time": "2020-01-06T20:21:39.287221Z"
    }
   },
   "outputs": [],
   "source": [
    "submission.set_index('installation_id').to_csv('preds16.csv', index=False)"
   ]
  },
  {
   "cell_type": "code",
   "execution_count": 49,
   "metadata": {
    "ExecuteTime": {
     "end_time": "2020-01-06T20:22:21.987605Z",
     "start_time": "2020-01-06T20:22:21.979581Z"
    }
   },
   "outputs": [],
   "source": [
    "submission.to_csv('preds3.csv', index=False)"
   ]
  },
  {
   "cell_type": "code",
   "execution_count": null,
   "metadata": {
    "ExecuteTime": {
     "end_time": "2020-01-06T18:39:01.865022Z",
     "start_time": "2020-01-06T18:32:53.445451Z"
    },
    "scrolled": false
   },
   "outputs": [],
   "source": [
    "quick_eval(reduced_train, rf, cv=True)  #.563cv acc\n",
    "quick_eval(reduced_train, rc, cv=True)  #.528cv acc\n",
    "quick_eval(reduced_train, ac, cv=True)  #.529cv acc\n",
    "quick_eval(reduced_train, et, cv=True)  #.5399cv acc\n",
    "quick_eval(reduced_train, bc, cv=True)  #.511cv acc\n",
    "quick_eval(reduced_train, gbc, cv=True)  #.435 cv acc\n",
    "quick_eval(reduced_train, clf, cv=True) #\n",
    "\n",
    "# These were not impressive, dropping from future\n",
    "#quick_eval(reduced_train, lr, cv=True)\n",
    "#quick_eval(reduced_train, sgd, cv=True)\n",
    "#quick_eval(reduced_train, nb, cv=True)\n",
    "#quick_eval(reduced_train, knn, scale=True, cv=True)\n",
    "#quick_eval(reduced_train, svc, scale=True, cv=True)"
   ]
  },
  {
   "cell_type": "markdown",
   "metadata": {},
   "source": [
    "## more models, to include sklearn neural net"
   ]
  },
  {
   "cell_type": "code",
   "execution_count": null,
   "metadata": {
    "ExecuteTime": {
     "end_time": "2020-01-06T18:39:01.868974Z",
     "start_time": "2020-01-06T18:28:21.457Z"
    }
   },
   "outputs": [],
   "source": [
    "from sklearn.neural_network import MLPClassifier\n",
    "from sklearn.gaussian_process import GaussianProcessClassifier\n",
    "from sklearn.gaussian_process.kernels import RBF\n",
    "from sklearn.tree import DecisionTreeClassifier"
   ]
  },
  {
   "cell_type": "code",
   "execution_count": null,
   "metadata": {
    "ExecuteTime": {
     "end_time": "2020-01-06T18:39:01.871992Z",
     "start_time": "2020-01-06T18:28:21.460Z"
    }
   },
   "outputs": [],
   "source": [
    "mlp = MLPClassifier()\n",
    "gpc = GaussianProcessClassifier() #takes a long time\n",
    "#rbf = RBF()\n",
    "dt = DecisionTreeClassifier()"
   ]
  },
  {
   "cell_type": "code",
   "execution_count": null,
   "metadata": {
    "ExecuteTime": {
     "end_time": "2020-01-06T18:39:01.872976Z",
     "start_time": "2020-01-06T18:28:21.463Z"
    }
   },
   "outputs": [],
   "source": [
    "#quick_eval(reduced_train, mlp, cv=True)   # 0.295\n",
    "#quick_eval(reduced_train, gpc) #   .498\n",
    "#quick_eval(reduced_train, rbf, cv=True)   poor\n",
    "#quick_eval(reduced_train, dt, cv=True)     #.411"
   ]
  },
  {
   "cell_type": "code",
   "execution_count": null,
   "metadata": {
    "ExecuteTime": {
     "start_time": "2020-01-06T21:19:50.416Z"
    }
   },
   "outputs": [
    {
     "name": "stdout",
     "output_type": "stream",
     "text": [
      "The accuracy of BaggingClassifier is 0.5387224420576597\n",
      "The QWK of BaggingClassifier is 0.18304098870845487\n",
      "              precision    recall  f1-score   support\n",
      "\n",
      "           0       0.69      0.20      0.31       826\n",
      "           1       0.00      0.00      0.00       509\n",
      "           2       0.00      0.00      0.00       437\n",
      "           3       0.53      0.98      0.69      1766\n",
      "\n",
      "    accuracy                           0.54      3538\n",
      "   macro avg       0.30      0.30      0.25      3538\n",
      "weighted avg       0.42      0.54      0.42      3538\n",
      "\n",
      "The accuracy of BaggingClassifier is 0.5729225551158846\n",
      "The QWK of BaggingClassifier is 0.3474125031192433\n",
      "              precision    recall  f1-score   support\n",
      "\n",
      "           0       0.62      0.43      0.51       826\n",
      "           1       0.15      0.00      0.01       509\n",
      "           2       0.17      0.00      0.00       437\n",
      "           3       0.57      0.94      0.71      1766\n",
      "\n",
      "    accuracy                           0.57      3538\n",
      "   macro avg       0.38      0.35      0.31      3538\n",
      "weighted avg       0.47      0.57      0.47      3538\n",
      "\n",
      "The accuracy of BaggingClassifier is 0.5740531373657434\n",
      "The QWK of BaggingClassifier is 0.40494994168142406\n",
      "              precision    recall  f1-score   support\n",
      "\n",
      "           0       0.59      0.52      0.55       826\n",
      "           1       0.31      0.08      0.13       509\n",
      "           2       0.23      0.05      0.08       437\n",
      "           3       0.60      0.87      0.71      1766\n",
      "\n",
      "    accuracy                           0.57      3538\n",
      "   macro avg       0.43      0.38      0.37      3538\n",
      "weighted avg       0.51      0.57      0.51      3538\n",
      "\n"
     ]
    }
   ],
   "source": [
    "bc_rf_10 = BaggingClassifier(\n",
    "    base_estimator=RandomForestClassifier(max_depth=10),\n",
    "    n_estimators=20)\n",
    "\n",
    "bc_rf_50 = BaggingClassifier(\n",
    "    base_estimator=RandomForestClassifier(max_depth=50),\n",
    "    n_estimators=20)\n",
    "\n",
    "bc_rf_5 = BaggingClassifier(\n",
    "    base_estimator=RandomForestClassifier(max_depth=5),\n",
    "    n_estimators=20)\n",
    "\n",
    "bc_gbc = BaggingClassifier(\n",
    "    base_estimator=GradientBoostingClassifier(),\n",
    "    n_estimators=20)\n",
    "\n",
    "bc_abc = BaggingClassifier(\n",
    "    base_estimator=AdaBoostClassifier(),\n",
    "    n_estimators=20)\n",
    "\n",
    "\n",
    "quick_eval(reduced_train, bc_rf_5)\n",
    "quick_eval(reduced_train, bc_rf_10)    # 0.549 with 20 estimators max depth of 10  (.377 with balanced)    0.551 with 200 \n",
    "quick_eval(reduced_train, bc_rf_50) \n",
    "quick_eval(reduced_train, bc_gbc)   # 0.576 with 20 estimators (.389 with balanced)                     0.578 with 200\n",
    "quick_eval(reduced_train, bc_abc)   # 0.563 with 20 estimators  (.374 with balanced)                    0.561 with 200"
   ]
  },
  {
   "cell_type": "markdown",
   "metadata": {},
   "source": [
    "## Model Ensembling"
   ]
  },
  {
   "cell_type": "code",
   "execution_count": null,
   "metadata": {
    "ExecuteTime": {
     "end_time": "2020-01-06T18:39:01.877978Z",
     "start_time": "2020-01-06T18:28:21.469Z"
    }
   },
   "outputs": [],
   "source": [
    "vc = VotingClassifier(estimators=[\n",
    "    ('Adaboost',ac),\n",
    "    ('rf', rf), \n",
    "    ('gbc', gbc),\n",
    "    ('et', et),\n",
    "    #('svc', svc),\n",
    "    #('gpc', gpc),\n",
    "    ('rc', rc),\n",
    "    #('mlp', mlp),\n",
    "    #('dt', dt),\n",
    "    ('bc_rf_5', bc_rf_5),\n",
    "    ('bc_rf_10', bc_rf_10),\n",
    "    ('bc_rf_50', bc_rf_50),\n",
    "    ('bc_gbc', bc_gbc),\n",
    "    ('bc_abc', bc_abc),\n",
    "    #('catboost', clf)\n",
    "    ],\n",
    "     n_jobs=-1,\n",
    "     voting='hard')\n",
    "\n",
    "quick_eval(reduced_train, vc)#, cv=True)     #initial w/o catboost .564"
   ]
  },
  {
   "cell_type": "code",
   "execution_count": null,
   "metadata": {
    "ExecuteTime": {
     "end_time": "2020-01-06T18:39:01.879026Z",
     "start_time": "2020-01-06T18:28:21.471Z"
    },
    "scrolled": true
   },
   "outputs": [],
   "source": [
    "estimators = [\n",
    "    ('Adaboost',ac),\n",
    "    ('rf', rf), \n",
    "    ('gbc', gbc),\n",
    "    ('et', et),\n",
    "    ('gpc', gpc),\n",
    "    #('svc', svc),\n",
    "    ('rc', rc),\n",
    "    #('mlp', mlp),\n",
    "    #('dt', dt),\n",
    "    ('bc_rf_5', bc_rf_5),\n",
    "    ('bc_rf_10', bc_rf_10),\n",
    "    ('bc_rf_50', bc_rf_50),\n",
    "    ('bc_gbc', bc_gbc),\n",
    "    ('bc_abc', bc_abc),\n",
    "]\n",
    "stacking_clf = StackingClassifier(estimators=estimators, \n",
    "                final_estimator=RandomForestClassifier(), n_jobs=-1)        # created, load from pickle\n",
    "quick_eval(reduced_train, stacking_clf)"
   ]
  },
  {
   "cell_type": "code",
   "execution_count": null,
   "metadata": {
    "ExecuteTime": {
     "end_time": "2020-01-06T18:39:01.880980Z",
     "start_time": "2020-01-06T18:28:21.473Z"
    }
   },
   "outputs": [],
   "source": [
    "##joblib.dump(stacking_clf, 'fitted_stacked_classifier.pkl')\n",
    "##joblib.dump(vc, 'fitted_voting_classifier.pkl')"
   ]
  }
 ],
 "metadata": {
  "gist": {
   "data": {
    "description": "Brad_DSB/dsb/seals-model-exploration-v1-Copy1.ipynb",
    "public": false
   },
   "id": ""
  },
  "hide_input": false,
  "kernelspec": {
   "display_name": "DataScienceBowl",
   "language": "python",
   "name": "datasciencebowl"
  },
  "language_info": {
   "codemirror_mode": {
    "name": "ipython",
    "version": 3
   },
   "file_extension": ".py",
   "mimetype": "text/x-python",
   "name": "python",
   "nbconvert_exporter": "python",
   "pygments_lexer": "ipython3",
   "version": "3.7.0"
  }
 },
 "nbformat": 4,
 "nbformat_minor": 2
}
